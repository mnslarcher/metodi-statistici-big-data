{
 "cells": [
  {
   "cell_type": "markdown",
   "metadata": {},
   "source": [
    "# Introduzione a NumPy"
   ]
  },
  {
   "cell_type": "markdown",
   "metadata": {},
   "source": [
    "## Indice"
   ]
  },
  {
   "cell_type": "markdown",
   "metadata": {},
   "source": [
    "# 1. NumPy <a id=numpy> </a>\n",
    "\n",
    "Dal [sito ufficiale](http://www.numpy.org/) di NumPy:\n",
    "> NumPy is the fundamental package for scientific computing with Python. It contains among other things:\n",
    "* a powerful N-dimensional array object\n",
    "* sophisticated (broadcasting) functions\n",
    "* tools for integrating C/C++ and Fortran code\n",
    "* useful linear algebra, Fourier transform, and random number capabilities\n",
    "\n",
    ">Besides its obvious scientific uses, NumPy can also be used as an efficient multi-dimensional container of generic data. Arbitrary data-types can be defined. This allows NumPy to seamlessly and speedily integrate with a wide variety of databases.\n",
    "\n",
    "Tutorial ufficiale: [Quickstart tutorial](https://docs.scipy.org/doc/numpy/user/quickstart.html)."
   ]
  },
  {
   "cell_type": "code",
   "execution_count": null,
   "metadata": {},
   "outputs": [],
   "source": [
    "import numpy as np\n",
    "\n",
    "%load_ext autoreload\n",
    "%autoreload 2"
   ]
  },
  {
   "cell_type": "markdown",
   "metadata": {},
   "source": [
    "# 2. `ndarray`"
   ]
  },
  {
   "cell_type": "markdown",
   "metadata": {},
   "source": [
    "# 2.1 Creare un array <a id=creare_array> </a>"
   ]
  },
  {
   "cell_type": "markdown",
   "metadata": {},
   "source": [
    "### `numpy.array()`"
   ]
  },
  {
   "cell_type": "code",
   "execution_count": null,
   "metadata": {},
   "outputs": [],
   "source": [
    "a = np.array(\n",
    "    [[1, 2, 3], \n",
    "     [4, 5, 6]]\n",
    ")\n",
    "\n",
    "print(\"Tipo: {}\".format(type(a)))\n",
    "print(\"Contenuto della variabile:\")\n",
    "print(a)"
   ]
  },
  {
   "cell_type": "markdown",
   "metadata": {},
   "source": [
    "### `numpy.arange()`"
   ]
  },
  {
   "cell_type": "code",
   "execution_count": null,
   "metadata": {},
   "outputs": [],
   "source": [
    "a = np.arange(6)\n",
    "\n",
    "print(\"Contenuto della variabile:\")\n",
    "print(a)"
   ]
  },
  {
   "cell_type": "markdown",
   "metadata": {},
   "source": [
    "### `numpy.zeros()`"
   ]
  },
  {
   "cell_type": "code",
   "execution_count": null,
   "metadata": {},
   "outputs": [],
   "source": [
    "a = np.zeros((2, 3))\n",
    "\n",
    "print(\"Contenuto della variabile:\")\n",
    "print(a)"
   ]
  },
  {
   "cell_type": "markdown",
   "metadata": {},
   "source": [
    "### `numpy.ones()`"
   ]
  },
  {
   "cell_type": "code",
   "execution_count": null,
   "metadata": {},
   "outputs": [],
   "source": [
    "a = np.ones((2, 3))\n",
    "\n",
    "print(\"Contenuto della variabile:\")\n",
    "print(a)"
   ]
  },
  {
   "cell_type": "markdown",
   "metadata": {},
   "source": [
    "### `numpy.random.random()`"
   ]
  },
  {
   "cell_type": "code",
   "execution_count": null,
   "metadata": {},
   "outputs": [],
   "source": [
    "a = np.random.random((3, 2))\n",
    "\n",
    "print(\"Contenuto della variabile:\")\n",
    "print(a)"
   ]
  },
  {
   "cell_type": "markdown",
   "metadata": {},
   "source": [
    "### `numpy.empty()`"
   ]
  },
  {
   "cell_type": "code",
   "execution_count": null,
   "metadata": {
    "scrolled": true
   },
   "outputs": [],
   "source": [
    "a = np.empty((2, 3))\n",
    "\n",
    "print(\"Contenuto della variabile:\")\n",
    "print(a)"
   ]
  },
  {
   "cell_type": "markdown",
   "metadata": {},
   "source": [
    "### Esercizio\n",
    "\n",
    "Ottenere il seguente array utilizzando esclusivamente `numpy.arange()`:\n",
    "```python\n",
    "[10, 20, 30, 40, 50, 60, 70, 80, 90]\n",
    "```"
   ]
  },
  {
   "cell_type": "code",
   "execution_count": null,
   "metadata": {},
   "outputs": [],
   "source": []
  },
  {
   "cell_type": "markdown",
   "metadata": {},
   "source": [
    "## 2.2 Caratteristiche di un `ndarray` <a id=caratteristiche_array> </a>"
   ]
  },
  {
   "cell_type": "markdown",
   "metadata": {},
   "source": [
    "### `numpy.ndarray.ndim`"
   ]
  },
  {
   "cell_type": "code",
   "execution_count": null,
   "metadata": {},
   "outputs": [],
   "source": [
    "a = np.array(\n",
    "    [[1, 2, 3],\n",
    "     [4, 5, 6]]\n",
    ")\n",
    "\n",
    "print(\"Numero di dimensioni: {}\".format(a.ndim))"
   ]
  },
  {
   "cell_type": "markdown",
   "metadata": {},
   "source": [
    "### `numpy.ndarray.shape`"
   ]
  },
  {
   "cell_type": "code",
   "execution_count": null,
   "metadata": {},
   "outputs": [],
   "source": [
    "a = np.array(\n",
    "    [[1, 2, 3],\n",
    "     [4, 5, 6]]\n",
    ")\n",
    "\n",
    "print(\"Dimensioni: {}\".format(a.shape))"
   ]
  },
  {
   "cell_type": "markdown",
   "metadata": {},
   "source": [
    "### `numpy.ndarray.size`"
   ]
  },
  {
   "cell_type": "code",
   "execution_count": null,
   "metadata": {},
   "outputs": [],
   "source": [
    "a = np.array(\n",
    "    [[1, 2, 3],\n",
    "     [4, 5, 6]]\n",
    ")\n",
    "\n",
    "print(\"Numero di elementi: {}\".format(a.size))"
   ]
  },
  {
   "cell_type": "markdown",
   "metadata": {},
   "source": [
    "### `numpy.ndarray.itemsize`"
   ]
  },
  {
   "cell_type": "code",
   "execution_count": null,
   "metadata": {},
   "outputs": [],
   "source": [
    "a = np.array(\n",
    "    [[1, 2, 3],\n",
    "     [4, 5, 6]]\n",
    ")\n",
    "\n",
    "print(\"Dimensione in bytes di ogni elemento dell'array: {}\".format(a.itemsize))"
   ]
  },
  {
   "cell_type": "markdown",
   "metadata": {},
   "source": [
    "###  `numpy.ndarray.dtype `"
   ]
  },
  {
   "cell_type": "code",
   "execution_count": null,
   "metadata": {},
   "outputs": [],
   "source": [
    "a = np.array(\n",
    "    [[1, 2, 3],\n",
    "     [4, 5, 6]]\n",
    ")\n",
    "\n",
    "print(\"Tipo degli elmenti dell'array: {}\".format(a.dtype))"
   ]
  },
  {
   "cell_type": "markdown",
   "metadata": {},
   "source": [
    "### Esercizio\n",
    "\n",
    "Sapendo che il tipo degli elementi è `int64`, avremmo potuto prevedere la dimensione in bytes? Motivare la risposta."
   ]
  },
  {
   "cell_type": "markdown",
   "metadata": {},
   "source": [
    "## 2.3 Cambiare la forma di un array <a id=cambiare_forma_array> </a>"
   ]
  },
  {
   "cell_type": "markdown",
   "metadata": {},
   "source": [
    "###  `numpy.ndarray.reshape() `"
   ]
  },
  {
   "cell_type": "code",
   "execution_count": null,
   "metadata": {},
   "outputs": [],
   "source": [
    "a = np.arange(6)\n",
    "\n",
    "print(\"Contenuto della variabile:\")\n",
    "print(a)\n",
    "print(\"\\nDimensioni: {}\".format(a.shape))\n",
    "\n",
    "print(\"\\nModificare le dimensioni dell'array:\")\n",
    "a = a.reshape(3, 2)\n",
    "print(\"a = a.reshape(3, 2)\")\n",
    "\n",
    "print(\"\\nContenuto della variabile:\")\n",
    "print(a)\n",
    "print(\"\\nDimensioni: {}\".format(a.shape))"
   ]
  },
  {
   "cell_type": "markdown",
   "metadata": {},
   "source": [
    "###  `numpy.diag() `"
   ]
  },
  {
   "cell_type": "code",
   "execution_count": null,
   "metadata": {},
   "outputs": [],
   "source": [
    "a = np.ones(2)\n",
    "\n",
    "print(\"Contenuto della variabile:\")\n",
    "print(a)\n",
    "print(\"\\nDimensioni: {}\".format(a.shape))\n",
    "\n",
    "print(\"\\nCreare una matrice diagonale a partire da un vettore:\")\n",
    "print(\"a = np.diag(a)\")\n",
    "a = np.diag(a)\n",
    "\n",
    "print(\"\\nContenuto della variabile:\")\n",
    "print(a)\n",
    "print(\"\\nDimensioni: {}\".format(a.shape))"
   ]
  },
  {
   "cell_type": "markdown",
   "metadata": {},
   "source": [
    "### Esercizio\n",
    "\n",
    "Creare il seguente array usando `numpy.arange()` e `numpy.diag()`:\n",
    "```python\n",
    "[[0 0 0]\n",
    " [0 1 0]\n",
    " [0 0 2]]\n",
    " ```"
   ]
  },
  {
   "cell_type": "code",
   "execution_count": null,
   "metadata": {},
   "outputs": [],
   "source": []
  },
  {
   "cell_type": "markdown",
   "metadata": {},
   "source": [
    "###  `numpy.ndarray.T `"
   ]
  },
  {
   "cell_type": "code",
   "execution_count": null,
   "metadata": {},
   "outputs": [],
   "source": [
    "a = np.ones((2, 3))\n",
    "\n",
    "print(\"Contenuto della variabile:\")\n",
    "print(a)\n",
    "print(\"\\nDimensioni: {}\".format(a.shape))\n",
    "\n",
    "print(\"\\nTrasporre la matrice:\")\n",
    "print(\"a = a.T\")\n",
    "a = a.T\n",
    "\n",
    "print(\"\\nContenuto della variabile:\")\n",
    "print(a)\n",
    "print(\"\\nDimensioni: {}\".format(a.shape))"
   ]
  },
  {
   "cell_type": "markdown",
   "metadata": {},
   "source": [
    "### `numpy.newaxis`"
   ]
  },
  {
   "cell_type": "code",
   "execution_count": null,
   "metadata": {},
   "outputs": [],
   "source": [
    "a = np.arange(5)\n",
    "\n",
    "print(\"Contenuto della variabile:\")\n",
    "print(a)\n",
    "print(\"\\nDimensioni: {}\".format(a.shape))\n",
    "\n",
    "print(\"\\nAggiungere una dimensione all'array:\")\n",
    "print(\"a = a[:, np.newaxis]\")\n",
    "a = a[:, np.newaxis] # equivalente a: a[:, None]\n",
    "\n",
    "print(\"\\nContenuto della variabile:\")\n",
    "print(a)\n",
    "print(\"\\nDimensioni: {}\".format(a.shape))"
   ]
  },
  {
   "cell_type": "markdown",
   "metadata": {},
   "source": [
    "## 3. Algebra lineare <a id=algebra_lineare> </a>"
   ]
  },
  {
   "cell_type": "markdown",
   "metadata": {},
   "source": [
    "### Operazioni di base con scalari"
   ]
  },
  {
   "cell_type": "code",
   "execution_count": null,
   "metadata": {},
   "outputs": [],
   "source": [
    "a = np.arange(20, 60, 10).reshape(2, -2)\n",
    "\n",
    "print(\"Contenuto della variabile:\")\n",
    "print(a)\n",
    "\n",
    "print(\"\\nDivido per 10 e aggiungo 5:\")\n",
    "print(\"a = (a / 10) + 5\")\n",
    "a = (a / 10) + 5\n",
    "\n",
    "print(\"\\nContenuto della variabile:\")\n",
    "print(a)"
   ]
  },
  {
   "cell_type": "markdown",
   "metadata": {},
   "source": [
    "### Esercizio\n",
    "\n",
    "Studiare il concetto di [broadcasting](https://docs.scipy.org/doc/numpy-1.13.0/user/basics.broadcasting.html). \n",
    "\n",
    "Se\n",
    "```python\n",
    "a = np.empty((2, 1, 2, 2))\n",
    "b = np.empty((5, 1, 1))\n",
    "c = a * b\n",
    "```\n",
    "qual'è la dimensione di `c`? provare a rispondere e, solo sucessivamente, verificarlo scrivendo l'opportuno codice."
   ]
  },
  {
   "cell_type": "code",
   "execution_count": null,
   "metadata": {},
   "outputs": [],
   "source": []
  },
  {
   "cell_type": "markdown",
   "metadata": {},
   "source": [
    "### `*` ([prodotto di Hadamard](https://it.wikipedia.org/wiki/Moltiplicazione_di_matrici#Costruzioni_alternative) o prodotto puntuale)"
   ]
  },
  {
   "cell_type": "code",
   "execution_count": null,
   "metadata": {},
   "outputs": [],
   "source": [
    "a = np.array(\n",
    "    [[2, 1], \n",
    "     [0, 3]]\n",
    ")\n",
    "b = np.array(\n",
    "    [[2, 0], \n",
    "     [1, 3]]\n",
    ")\n",
    "\n",
    "print('Contenuto della variabile \"a\":')\n",
    "print(a)\n",
    "\n",
    "print('\\nContenuto della variabile \"b\":')\n",
    "print(b)\n",
    "\n",
    "print('\\nProdotto di Hadamard tra \"a\" e \"b\":')\n",
    "print(\"c = a * b\")\n",
    "c = a * b\n",
    "\n",
    "print('\\nContenuto della variabile \"c\":')\n",
    "print(c)"
   ]
  },
  {
   "cell_type": "markdown",
   "metadata": {},
   "source": [
    "### `numpy.dot()` ([prodotto scalare](https://it.wikipedia.org/wiki/Prodotto_scalare) o [prodotto matriciale](https://it.wikipedia.org/wiki/Moltiplicazione_di_matrici) se `ndim` è uguale a 2)"
   ]
  },
  {
   "cell_type": "code",
   "execution_count": null,
   "metadata": {},
   "outputs": [],
   "source": [
    "a = np.array(\n",
    "    [[2, 1], \n",
    "     [0, 3]]\n",
    ")\n",
    "b = np.array(\n",
    "    [[2, 0], \n",
    "     [1, 3]]\n",
    ")\n",
    "\n",
    "print('Contenuto della variabile \"a\":')\n",
    "print(a)\n",
    "\n",
    "print('\\nContenuto della variabile \"b\":')\n",
    "print(b)\n",
    "\n",
    "print('\\nProdotto scalare tra \"a\" e \"b\":')\n",
    "print(\"c = np.dot(a, b)\")\n",
    "c = np.dot(a, b) # equivalente a: c = a.dot(b)\n",
    "\n",
    "print('\\nContenuto della variabile \"c\":')\n",
    "print(c)"
   ]
  },
  {
   "cell_type": "markdown",
   "metadata": {},
   "source": [
    "### Esercizio\n",
    "\n",
    "Completare il metodo `fit()` della classe `RegressioneLineare` in `msbd/modello_lineare/regressione_lineare.py`.\n",
    "\n",
    "Si ricorda che la stima dei coefficienti con il metodo dei minimi quadrati è data da\n",
    "$$\n",
    "\\hat{\\beta}=(X^TX)^{-1}X^Ty\n",
    "$$\n",
    "\n",
    ">Suggerimento: leggere la documentazione di `numpy.linalg.inv()`.\n",
    "\n",
    "Testare la funzione utilizzando pytest."
   ]
  },
  {
   "cell_type": "code",
   "execution_count": null,
   "metadata": {},
   "outputs": [],
   "source": [
    "from msbd.modello_lineare import  RegressioneLineare\n",
    "import inspect\n",
    "\n",
    "print(inspect.getsource(RegressioneLineare))"
   ]
  },
  {
   "cell_type": "code",
   "execution_count": null,
   "metadata": {},
   "outputs": [],
   "source": [
    "!pytest -v msbd/tests/test_regressione_lineare.py"
   ]
  },
  {
   "cell_type": "markdown",
   "metadata": {},
   "source": [
    "# DA FINIRE"
   ]
  },
  {
   "cell_type": "code",
   "execution_count": null,
   "metadata": {},
   "outputs": [],
   "source": [
    "beta = np.array([[2], \n",
    "                 [5]])\n",
    "print(\"beta:\")\n",
    "print(beta)\n",
    "\n",
    "num_oss = 100\n",
    "\n",
    "np.random.seed(42)\n",
    "\n",
    "X = np.hstack([np.ones((num_oss, 1)), np.random.random((num_oss, 1))])\n",
    "print(\"\\nPrime cinque righe di X:\")\n",
    "print(X[:5])\n",
    "\n",
    "y = X.dot(beta) + np.random.normal(0, 0.5, (num_oss, 1))\n",
    "print(\"\\nPrimi cinque valori di y:\")\n",
    "print(y[:5])\n",
    "\n",
    "plt.scatter(X[:, 1], y)\n",
    "plt.xlabel(\"X[:, 1]\")\n",
    "plt.ylabel(\"y\")\n",
    "plt.grid()\n",
    "plt.show()"
   ]
  },
  {
   "cell_type": "markdown",
   "metadata": {},
   "source": [
    "### Verifica dell'implementazione"
   ]
  },
  {
   "cell_type": "code",
   "execution_count": null,
   "metadata": {},
   "outputs": [],
   "source": [
    "beta_mq = minimi_quadrati(X, y)\n",
    "print(\"beta:\")\n",
    "print(beta)\n",
    "print(\"\\nStima minimi quadrati di beta:\")\n",
    "print(beta_mq.round(2))"
   ]
  },
  {
   "cell_type": "markdown",
   "metadata": {},
   "source": [
    "## Funzioni matematiche"
   ]
  },
  {
   "cell_type": "code",
   "execution_count": null,
   "metadata": {},
   "outputs": [],
   "source": [
    "a = np.arange(1, 5).reshape((2, 2))\n",
    "print('a:')\n",
    "print(a)"
   ]
  },
  {
   "cell_type": "markdown",
   "metadata": {},
   "source": [
    "### numpy.sin"
   ]
  },
  {
   "cell_type": "code",
   "execution_count": null,
   "metadata": {},
   "outputs": [],
   "source": [
    "print(\"np.sin(a):\")\n",
    "np.sin(a)"
   ]
  },
  {
   "cell_type": "markdown",
   "metadata": {},
   "source": [
    "### numpy.cos"
   ]
  },
  {
   "cell_type": "code",
   "execution_count": null,
   "metadata": {},
   "outputs": [],
   "source": [
    "print(\"np.cos(a):\")\n",
    "np.cos(a)"
   ]
  },
  {
   "cell_type": "markdown",
   "metadata": {},
   "source": [
    "### Esercizio\n",
    "\n",
    "Siano\n",
    "```python\n",
    "a = np.array([np.cos(np.pi / 6), 0.5])\n",
    "b = np.array([0.5, np.cos(np.pi / 6)])\n",
    "```\n",
    "1. Disegnare $a$ e $b$, qual'è l'angolo $\\theta$ in radianti tra i due vettori?\n",
    "2. Verificare che $a \\cdot b = |a| \\times |b| \\times \\cos(\\theta)$.\n",
    "\n",
    "> Suggerimento: per $|\\cdot|$ vedere `np.linalg.norm()`."
   ]
  },
  {
   "cell_type": "code",
   "execution_count": null,
   "metadata": {},
   "outputs": [],
   "source": []
  },
  {
   "cell_type": "markdown",
   "metadata": {},
   "source": [
    "### numpy.exp"
   ]
  },
  {
   "cell_type": "code",
   "execution_count": null,
   "metadata": {},
   "outputs": [],
   "source": [
    "print(\"np.exp(a):\")\n",
    "np.exp(a)"
   ]
  },
  {
   "cell_type": "markdown",
   "metadata": {},
   "source": [
    "### numpy.log"
   ]
  },
  {
   "cell_type": "code",
   "execution_count": null,
   "metadata": {},
   "outputs": [],
   "source": [
    "print(\"np.log(a):\")\n",
    "np.log(a)"
   ]
  },
  {
   "cell_type": "markdown",
   "metadata": {},
   "source": [
    "### numpy.sqrt"
   ]
  },
  {
   "cell_type": "code",
   "execution_count": null,
   "metadata": {},
   "outputs": [],
   "source": [
    "print(\"np.sqrt(a):\")\n",
    "np.sqrt(a)"
   ]
  },
  {
   "cell_type": "markdown",
   "metadata": {},
   "source": [
    "**D:** Identificare almeno un'altra funzione matematica fornita da NumPy."
   ]
  },
  {
   "cell_type": "code",
   "execution_count": null,
   "metadata": {},
   "outputs": [],
   "source": []
  },
  {
   "cell_type": "markdown",
   "metadata": {},
   "source": [
    "## Operazioni su un asse specifico"
   ]
  },
  {
   "cell_type": "code",
   "execution_count": null,
   "metadata": {},
   "outputs": [],
   "source": [
    "a = np.arange(12).reshape((3, 4))\n",
    "print('a:')\n",
    "print(a)"
   ]
  },
  {
   "cell_type": "markdown",
   "metadata": {},
   "source": [
    "### Su tutti gli assi"
   ]
  },
  {
   "cell_type": "code",
   "execution_count": null,
   "metadata": {},
   "outputs": [],
   "source": [
    "print(\"a.max():\")\n",
    "a.max()"
   ]
  },
  {
   "cell_type": "markdown",
   "metadata": {},
   "source": [
    "### Sulle righe"
   ]
  },
  {
   "cell_type": "code",
   "execution_count": null,
   "metadata": {},
   "outputs": [],
   "source": [
    "print(\"a.max(axis=0):\")\n",
    "a.max(axis=0)"
   ]
  },
  {
   "cell_type": "markdown",
   "metadata": {},
   "source": [
    "### Sulle colonne"
   ]
  },
  {
   "cell_type": "code",
   "execution_count": null,
   "metadata": {},
   "outputs": [],
   "source": [
    "print(\"a.max(axis=1):\")\n",
    "a.max(axis=1)"
   ]
  },
  {
   "cell_type": "markdown",
   "metadata": {},
   "source": [
    "## Esercizio\n",
    "\n",
    "Calcolare il valor medio di ogni colonna."
   ]
  },
  {
   "cell_type": "code",
   "execution_count": null,
   "metadata": {},
   "outputs": [],
   "source": []
  },
  {
   "cell_type": "markdown",
   "metadata": {},
   "source": [
    "## Accedere agli elementi di un array"
   ]
  },
  {
   "cell_type": "code",
   "execution_count": null,
   "metadata": {},
   "outputs": [],
   "source": [
    "a = np.arange(12).reshape((4, 3))\n",
    "print('a:')\n",
    "print(a)"
   ]
  },
  {
   "cell_type": "code",
   "execution_count": null,
   "metadata": {},
   "outputs": [],
   "source": [
    "print(\"Elemento della seconda riga, terza colonna, a[1, 2]:\")\n",
    "print(a[1, 2])\n",
    "print(\"\\nPrima riga, a[0, :]:\")\n",
    "print(a[0, :])\n",
    "print(\"\\nSeconda colonna, a[:, 1]:\")\n",
    "print(a[:, 1])\n",
    "print(\"\\nSeconda e terza riga, a[1:3, :]:\")\n",
    "print(a[1:3, :])\n",
    "print(\"\\nUltime due colonna, a[:, -2:]:\")\n",
    "print(a[:, -2:])\n",
    "print(\"\\nRighe in ordine inverso, a[::-1, :]:\")\n",
    "print(a[::-1, :])"
   ]
  },
  {
   "cell_type": "markdown",
   "metadata": {},
   "source": [
    "## Esercizo\n",
    "\n",
    "Creare l'array\n",
    "```python\n",
    "[[ 0,  1,  2,  3],\n",
    " [ 4,  5,  6,  7],\n",
    " [ 8,  9, 10, 11],\n",
    " [12, 13, 14, 15]]\n",
    "```\n",
    "Selezionare gli elementi della seconda e terza riga, seconda, terza e quarta colonna:\n",
    "\n",
    "```python\n",
    "[[ 5,  6,  7],\n",
    " [ 9, 10, 11]]\n",
    "```"
   ]
  },
  {
   "cell_type": "code",
   "execution_count": null,
   "metadata": {},
   "outputs": [],
   "source": []
  },
  {
   "cell_type": "markdown",
   "metadata": {},
   "source": [
    "## Unire più array"
   ]
  },
  {
   "cell_type": "code",
   "execution_count": null,
   "metadata": {},
   "outputs": [],
   "source": [
    "a = np.arange(4).reshape((2, 2))\n",
    "b = np.arange(4, 8).reshape((2, 2))\n",
    "\n",
    "print('a:')\n",
    "print(a)\n",
    "print(\"\\nb:\")\n",
    "print(b)"
   ]
  },
  {
   "cell_type": "markdown",
   "metadata": {},
   "source": [
    "### numpy.hstack (orizzontalmente)"
   ]
  },
  {
   "cell_type": "code",
   "execution_count": null,
   "metadata": {},
   "outputs": [],
   "source": [
    "np.hstack([a, b])"
   ]
  },
  {
   "cell_type": "markdown",
   "metadata": {},
   "source": [
    "### numpy.vstack (verticalmente)"
   ]
  },
  {
   "cell_type": "code",
   "execution_count": null,
   "metadata": {},
   "outputs": [],
   "source": [
    "np.vstack([a, b])"
   ]
  },
  {
   "cell_type": "markdown",
   "metadata": {},
   "source": [
    "## Copie e viste"
   ]
  },
  {
   "cell_type": "markdown",
   "metadata": {},
   "source": [
    "### Vista (view)"
   ]
  },
  {
   "cell_type": "code",
   "execution_count": null,
   "metadata": {},
   "outputs": [],
   "source": [
    "a = np.arange(5)\n",
    "b = a\n",
    "print('a:')\n",
    "print(a)\n",
    "\n",
    "print(\"\\nb:\")\n",
    "print(b)\n",
    "\n",
    "print(\"\\nb è a?\")\n",
    "print(b is a)\n",
    "\n",
    "print(\"\\nModifico b...\")\n",
    "b[2] = -1\n",
    "\n",
    "print(\"\\nb:\")\n",
    "print(b)\n",
    "\n",
    "print(\"\\na:\")\n",
    "print(a)"
   ]
  },
  {
   "cell_type": "markdown",
   "metadata": {},
   "source": [
    "### Copia (copy)"
   ]
  },
  {
   "cell_type": "code",
   "execution_count": null,
   "metadata": {},
   "outputs": [],
   "source": [
    "a = np.arange(5)\n",
    "b = a.copy()\n",
    "print('a:')\n",
    "print(a)\n",
    "\n",
    "print(\"\\nb:\")\n",
    "print(b)\n",
    "\n",
    "print(\"\\nb è a?\")\n",
    "print(b is a)\n",
    "\n",
    "print(\"\\nModifico b ...\")\n",
    "b[2] = -1\n",
    "\n",
    "print(\"\\nb:\")\n",
    "print(b)\n",
    "\n",
    "print(\"\\na:\")\n",
    "print(a)"
   ]
  },
  {
   "cell_type": "markdown",
   "metadata": {},
   "source": [
    "## Esercizio\n",
    "\n",
    "Completare la funzione `minimi_quadrati_ricorsivi` nel file lab_00.py implementando il punto 2. dell'algoritmo ricorsivo dei minimi quadrati semplificato (vedi sotto).\n",
    "\n",
    "**Algoritmo ricorsivo dei minimi quadrati (semplificato):**\n",
    "1. $\\hat{\\beta} = 0_{p\\times1}$, $V = I_{p\\times p}$ (matrice identità $p\\times p$)\n",
    "2. Ciclo per $n = 0, 1, \\dots$\n",
    "    1. $h = 1 / (1 + x_n^{\\top}Vx_n)$\n",
    "    2. $e = y_n - x_n^{\\top}\\hat{\\beta}$\n",
    "    3. $\\hat{\\beta} = \\hat{\\beta} + hVx_ne$\n",
    "    4. $V = V - hVx_nx_n^{\\top}V$\n",
    "    \n",
    "    \n",
    "Per ulteriori dettagli consultare pagina 33 e 34 del libro B. Scarpa e A. Azzalini, Data Analysis and Data Mining.\n",
    "\n",
    "**Extra 1:** Modificare l'algoritmo in modo da ottenere ad ogni iterazione lo errore standard della stima.\n",
    "\n",
    "**Extra 2:** Ottenere i valori iniziali di beta e V implementando i punti da 1. a 4. di pagina 34."
   ]
  },
  {
   "cell_type": "code",
   "execution_count": null,
   "metadata": {},
   "outputs": [],
   "source": [
    "beta = np.array([[2], \n",
    "                 [5]])\n",
    "print(\"beta:\")\n",
    "print(beta)\n",
    "\n",
    "num_oss = 1000\n",
    "\n",
    "X = np.hstack([np.ones((num_oss, 1)), np.random.random((num_oss, 1))])\n",
    "print(\"\\nprime cinque righe di X:\")\n",
    "print(X[:5])\n",
    "\n",
    "y = X.dot(beta) + np.random.normal(0, 1.5, (num_oss, 1))\n",
    "print(\"\\nprimi cinque valori di y:\")\n",
    "print(y[:5])"
   ]
  },
  {
   "cell_type": "markdown",
   "metadata": {},
   "source": [
    "Inizializzare $\\beta$ e V come nel punto 1. dell'algoritmo semplificato o come nel punto **Extra 2**. Nel secondo caso è necessario modificare anche la cella sotto per non utilizzare più volte le stesse osservazioni."
   ]
  },
  {
   "cell_type": "code",
   "execution_count": null,
   "metadata": {},
   "outputs": [],
   "source": [
    "print(\"Inizializzo beta e V:\")\n",
    "\n",
    "beta_iniz = np.zeros((2, 1)) # TODO\n",
    "print(\"\\nbeta:\")\n",
    "print(beta_iniz)\n",
    "\n",
    "V_iniz = np.diag(np.ones(2)) # TODO\n",
    "print(\"\\nV:\")\n",
    "print(V_iniz)"
   ]
  },
  {
   "cell_type": "code",
   "execution_count": null,
   "metadata": {},
   "outputs": [],
   "source": [
    "import numpy\n",
    "from numpy.linalg import inv\n",
    "\n",
    "def minimi_quadrati_ricorsivi(xn, yn, beta, V):\n",
    "    h=1/(1+numpy.dot(numpy.dot(xn.T,V),xn))\n",
    "    e=yn-numpy.dot(xn.T, beta)\n",
    "    beta=beta+h*e*numpy.dot(V, xn)\n",
    "    V=V-h*numpy.dot(numpy.dot(V,xn), numpy.dot(xn.T,V))\n",
    "    return beta, V\n",
    "\n",
    "def minimi_quadrati(X, y):\n",
    "    return numpy.dot(inv(numpy.dot(X.T,X)),numpy.dot(X.T,y))"
   ]
  },
  {
   "cell_type": "code",
   "execution_count": null,
   "metadata": {},
   "outputs": [],
   "source": [
    "Implementazione usando"
   ]
  },
  {
   "cell_type": "code",
   "execution_count": null,
   "metadata": {},
   "outputs": [],
   "source": [
    "def minimi_quadrati_ricorsivi(xn, yn, beta, V):\n",
    "    h = 1 / (1 + numpy.dot(numpy.dot(xn.T, V), xn))\n",
    "    e = yn - numpy.dot(xn.T, beta)\n",
    "    beta += h * e * numpy.dot(V, xn)\n",
    "    V -= h * numpy.dot(numpy.dot(V, xn), numpy.dot(xn.T, V))\n",
    "    return beta, V\n",
    "\n",
    "def minimi_quadrati(X, y):\n",
    "    return numpy.dot(inv(numpy.dot(X.T,X)),numpy.dot(X.T,y))"
   ]
  },
  {
   "cell_type": "code",
   "execution_count": null,
   "metadata": {
    "scrolled": false
   },
   "outputs": [],
   "source": [
    "np.random.seed(42)\n",
    "x = np.linspace(0, 1, 100)\n",
    "\n",
    "beta_mqr = beta_iniz\n",
    "V_mqr = V_iniz\n",
    "\n",
    "for ii, (xi, yi) in enumerate(zip(X, y)):\n",
    "    beta_mqr, V_mqr = minimi_quadrati_ricorsivi(xi[:, np.newaxis], yi, beta_mqr, V_mqr)\n",
    "    if (((ii + 1) % 20 == 0) & (ii < 100)) or ((ii + 1) % 200 == 0):\n",
    "        print(\"\\nStima di beta dopo {} osservazioni:\".format(ii + 1))\n",
    "        print(beta_mqr.round(2))\n",
    "        plt.scatter(X[:ii + 1, 1], y[:ii + 1], alpha=0.9)\n",
    "        plt.ylim([0, 8])\n",
    "        plt.xlabel(\"x\")\n",
    "        plt.ylabel(\"y\")\n",
    "        plt.plot(x, x*beta_mqr[1] + beta_mqr[0], lw=2, ls='--', c='red')\n",
    "        plt.grid()\n",
    "        plt.show()\n",
    "        comando = input(\"Premere Enter per continuare, q per terminare. \")\n",
    "        if comando == 'q':\n",
    "            break   \n",
    "\n",
    "print(\"\\nbeta:\")\n",
    "print(beta)\n",
    "\n",
    "beta_mq = minimi_quadrati(X, y)\n",
    "print(\"\\nStima minimi quadrati di beta:\")\n",
    "print(beta_mq.round(2))\n",
    "\n",
    "print(\"\\nStima minimi quadrati ricorsivi di beta:\")\n",
    "print(beta_mqr.round(2))"
   ]
  },
  {
   "cell_type": "markdown",
   "metadata": {},
   "source": [
    "**D:** Come mai le stime minimi quadrati e minimi quadrati ricorsivi non coincidono?"
   ]
  },
  {
   "cell_type": "markdown",
   "metadata": {},
   "source": [
    "**R:** ..."
   ]
  },
  {
   "cell_type": "code",
   "execution_count": null,
   "metadata": {},
   "outputs": [],
   "source": []
  }
 ],
 "metadata": {
  "kernelspec": {
   "display_name": "Python 3",
   "language": "python",
   "name": "python3"
  },
  "language_info": {
   "codemirror_mode": {
    "name": "ipython",
    "version": 3
   },
   "file_extension": ".py",
   "mimetype": "text/x-python",
   "name": "python",
   "nbconvert_exporter": "python",
   "pygments_lexer": "ipython3",
   "version": "3.6.7"
  }
 },
 "nbformat": 4,
 "nbformat_minor": 2
}
