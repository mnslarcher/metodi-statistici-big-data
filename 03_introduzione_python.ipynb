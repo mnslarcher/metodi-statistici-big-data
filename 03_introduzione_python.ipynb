{
 "cells": [
  {
   "cell_type": "markdown",
   "metadata": {},
   "source": [
    "# Indice\n",
    "1. [Python](#python)<br />\n",
    "2. [Importare moduli in Python](#import)<br />\n",
    "3. [Numeri](#numeri)<br />\n",
    "    3.1 [Variabili numeriche](#variabili_numeriche)<br />\n",
    "    3.2 [Operatori aritmetici](#operatori_aritmetici)<br />\n",
    "    3.3 [Operatori di assegnazione](#operatori_assegnazione)<br />\n",
    "4. [Operatori di confronto e logici](#operatori_confronto_logici)<br />\n",
    "5. [Stringhe](#stringhe)<br />\n",
    "6. [Strutture dati](#strutture_dati)<br />\n",
    "    6.1 [`list`](#list)<br />\n",
    "    6.2 [`tuple`](#tuple)<br />\n",
    "    6.3 [`set`](#set)<br />\n",
    "    6.4 [`dict`](#dict)<br />\n",
    "7. [Strumenti di controllo del flusso](#controllo_flusso)<br />\n",
    "8. [Funzioni](#funzioni)<br />\n",
    "9. [Verificare il proprio codice con pytest](#pytest)<br />\n",
    "10. [Generatori](#generatori)<br />\n",
    "11. [Classi](#classi)<br />\n",
    "    11.1 [Creazione di una semplice classe](#creazione_classe)<br />\n",
    "    11.2 [Ereditarietà](#ereditarietà)<br />"
   ]
  },
  {
   "cell_type": "markdown",
   "metadata": {},
   "source": [
    "# 1. Python <a id=python> </a>\n",
    "\n",
    "<img style=\"float: right;\" src=\"figures/guido.jpg\">\n",
    "\n",
    "Python è un linguaggio di programmazione orientato agli oggetti, inventato da Guido van Rossum, che si distingue per una sintassi molto chiara e una curva di apprendimento non troppo ripida. Oggi Python è utilizzato in moltissimi contesti e, [secondo alcuni](https://www.kdnuggets.com/2018/05/poll-tools-analytics-data-science-machine-learning-results.html), si sta \"mangiando\" R come *Top Analytics/Data Science/ML Software*:\n",
    "\n",
    "> Python eats away at R\n",
    "Python already had over 50% share in 2017, and increased its share to 66%, while R share has decreased for the first time since we have done this poll, and dropped to below 50%. \n",
    "\n",
    "Parte di questo incremento di popolarità è dovuto alla sua versatilità e a pachetti fantastici come quelli che useremo nelle seguenti lezioni come NumPy, Pandas, Matplotlib, SciKit-Learn e altri ancora. Python è inoltre molto popolare nell'industria ed è il linguaggio di programmazione de facto del Deep Learning grazie a librerie come TensorFlow, PyTorch, Keras e MXNet per citarne alcune.\n",
    "\n",
    "Alcune risorse per imparare le basi di Python:\n",
    "* [Introduction to Python (Udacity)](https://eu.udacity.com/course/introduction-to-python--ud1110)\n",
    "* [The Python Tutorial (Python Software Foundation)](https://docs.python.org/3/tutorial/index.html)\n",
    "\n",
    "Per scrivere del buon codice Python seguire le indicazioni date dalla guida ufficiale: [PEP 8 -- Style Guide for Python Code](https://www.python.org/dev/peps/pep-0008/)."
   ]
  },
  {
   "cell_type": "markdown",
   "metadata": {},
   "source": [
    "# 2. Importare moduli in Python <a id=import> </a>"
   ]
  },
  {
   "cell_type": "markdown",
   "metadata": {},
   "source": [
    "[`autoreload`](https://ipython.org/ipython-doc/3/config/extensions/autoreload.html) permette di ricaricare i moduli prima di eseguire il codice dell'utente."
   ]
  },
  {
   "cell_type": "code",
   "execution_count": null,
   "metadata": {},
   "outputs": [],
   "source": [
    "%load_ext autoreload\n",
    "%autoreload 2"
   ]
  },
  {
   "cell_type": "markdown",
   "metadata": {},
   "source": [
    "### `import` pacchetto <a id=import_pacchetto> </a>"
   ]
  },
  {
   "cell_type": "code",
   "execution_count": null,
   "metadata": {},
   "outputs": [],
   "source": [
    "import msbd\n",
    "\n",
    "print(help(msbd))"
   ]
  },
  {
   "cell_type": "markdown",
   "metadata": {},
   "source": [
    "### Accedere agli attributi del pacchetto tramite \"`.`\""
   ]
  },
  {
   "cell_type": "code",
   "execution_count": null,
   "metadata": {},
   "outputs": [],
   "source": [
    "msbd.hello_world.print_hello_world()"
   ]
  },
  {
   "cell_type": "markdown",
   "metadata": {},
   "source": [
    "### `from` pacchetto `import` modulo"
   ]
  },
  {
   "cell_type": "code",
   "execution_count": null,
   "metadata": {},
   "outputs": [],
   "source": [
    "from msbd import hello_world\n",
    "\n",
    "hello_world.print_hello_world()"
   ]
  },
  {
   "cell_type": "markdown",
   "metadata": {},
   "source": [
    "### `from` pacchetto `import` modulo `as` nuovo_nome"
   ]
  },
  {
   "cell_type": "code",
   "execution_count": null,
   "metadata": {},
   "outputs": [],
   "source": [
    "from msbd import hello_world as hw\n",
    "\n",
    "hw.print_hello_world()"
   ]
  },
  {
   "cell_type": "markdown",
   "metadata": {},
   "source": [
    "### `from` pacchetto.modulo `import` oggetto"
   ]
  },
  {
   "cell_type": "code",
   "execution_count": null,
   "metadata": {},
   "outputs": [],
   "source": [
    "from msbd.hello_world import print_hello_world\n",
    "\n",
    "print_hello_world()"
   ]
  },
  {
   "cell_type": "markdown",
   "metadata": {},
   "source": [
    "### Esercizio\n",
    "\n",
    "Modificare il messaggio stampato dalla funzione `print_hello_world` in `msbd/hello_world/hello_world.py`. Eseguire nuovamente funzione verificando che l'output sia diverso da prima grazie a `autoreload`."
   ]
  },
  {
   "cell_type": "code",
   "execution_count": null,
   "metadata": {},
   "outputs": [],
   "source": [
    "print_hello_world()"
   ]
  },
  {
   "cell_type": "markdown",
   "metadata": {},
   "source": [
    "# 3. Numeri <a id=numeri> </a>"
   ]
  },
  {
   "cell_type": "markdown",
   "metadata": {},
   "source": [
    "## 3.1 Variabili numeriche <a id=variabili_numeriche> </a>"
   ]
  },
  {
   "cell_type": "code",
   "execution_count": null,
   "metadata": {},
   "outputs": [],
   "source": [
    "i = 42\n",
    "print(\"Tipo: {}\".format(type(i)))\n",
    "print(\"Contenuto della variabile: {}\".format(i))"
   ]
  },
  {
   "cell_type": "code",
   "execution_count": null,
   "metadata": {},
   "outputs": [],
   "source": [
    "f = 42.\n",
    "print(\"Tipo: {}\".format(type(f)))\n",
    "print(\"Contenuto della variabile: {}\".format(f))"
   ]
  },
  {
   "cell_type": "code",
   "execution_count": null,
   "metadata": {},
   "outputs": [],
   "source": [
    "c = complex(42)\n",
    "print(\"Tipo: {}\".format(type(c)))\n",
    "print(\"Contenuto della variabile: {}\".format(c))"
   ]
  },
  {
   "cell_type": "markdown",
   "metadata": {},
   "source": [
    "## 3.2 Operatori aritmetici <a id=operatori_aritmetici> </a>"
   ]
  },
  {
   "cell_type": "markdown",
   "metadata": {},
   "source": [
    "### Esempio\n",
    "\n",
    "$(6 - 2\\times2 + 3)^{\\frac{4}{2}}$"
   ]
  },
  {
   "cell_type": "code",
   "execution_count": null,
   "metadata": {},
   "outputs": [],
   "source": [
    "(6 - 2 * 2 + 3) ** (4 / 2)"
   ]
  },
  {
   "cell_type": "markdown",
   "metadata": {},
   "source": [
    "### Esercizio\n",
    "\n",
    "Calcolare il risultato della frazione $\\frac{3^4 + 7}{8}$, verificare manualmente il risultato."
   ]
  },
  {
   "cell_type": "code",
   "execution_count": null,
   "metadata": {},
   "outputs": [],
   "source": []
  },
  {
   "cell_type": "markdown",
   "metadata": {},
   "source": [
    "### Parte intera\n",
    "\n",
    "$\\lfloor x/y \\rfloor$"
   ]
  },
  {
   "cell_type": "code",
   "execution_count": null,
   "metadata": {},
   "outputs": [],
   "source": [
    "print(\"Parte intera di dieci diviso tre: 10 // 3 = {}\".format(10 // 3))"
   ]
  },
  {
   "cell_type": "markdown",
   "metadata": {},
   "source": [
    "### Modulo\n",
    "\n",
    "$x \\bmod y$"
   ]
  },
  {
   "cell_type": "code",
   "execution_count": null,
   "metadata": {},
   "outputs": [],
   "source": [
    "print(\"Modulo di dieci diviso tre: 10 % 3 = {}\".format(10 % 3))"
   ]
  },
  {
   "cell_type": "markdown",
   "metadata": {},
   "source": [
    "### Esercizio\n",
    "\n",
    "Scrivere ed eseguire il seguente comando dopo essersi interrograti sul risultato atteso:\n",
    "\n",
    "```python\n",
    "(15 // 4)*4 + (15 % 4)\n",
    "``` "
   ]
  },
  {
   "cell_type": "code",
   "execution_count": null,
   "metadata": {},
   "outputs": [],
   "source": []
  },
  {
   "cell_type": "markdown",
   "metadata": {},
   "source": [
    "## 3.3 Operatori di assegnazione <a id=operatori_assegnazione> </a>"
   ]
  },
  {
   "cell_type": "code",
   "execution_count": null,
   "metadata": {},
   "outputs": [],
   "source": [
    "x = 2\n",
    "print(\"x = {}\".format(x))\n",
    "\n",
    "x += 3 # equivalente a: x = x + 3\n",
    "print(\"x + 3 = {}\".format(x))\n",
    "\n",
    "x -= 2 # equivalente a: x = x - 2\n",
    "print(\"x - 2 = {}\".format(x))\n",
    "\n",
    "x /= 3 # equivalente a: x = x / 3\n",
    "print(\"x / 3 = {}\".format(x))\n",
    "\n",
    "x *= 2 # equivalente a: x = x * 2\n",
    "print(\"x * 2 = {}\".format(x))\n",
    "\n",
    "x **= 3 # equivalente a: x = x ** 3\n",
    "print(\"x ** 3 = {}\".format(x))\n",
    "\n",
    "x //= 2 # equivalente a: x = x // 2\n",
    "print(\"x // 2 = {}\".format(x))\n",
    "\n",
    "x %= 3 # equivalente a: x = x % 3\n",
    "print(\"x % 3 = {}\".format(x))"
   ]
  },
  {
   "cell_type": "markdown",
   "metadata": {},
   "source": [
    "### Esercizio\n",
    "\n",
    "Verificare che \n",
    "```python\n",
    "x += 1\n",
    "```\n",
    "è equivalente a\n",
    "```python\n",
    "x = x + 1\n",
    "```"
   ]
  },
  {
   "cell_type": "code",
   "execution_count": null,
   "metadata": {},
   "outputs": [],
   "source": []
  },
  {
   "cell_type": "markdown",
   "metadata": {},
   "source": [
    "# 4. Operatori di confronto e logici <a id=operatori_confronto_logici> </a>"
   ]
  },
  {
   "cell_type": "markdown",
   "metadata": {},
   "source": [
    "### Operatori di confronto"
   ]
  },
  {
   "cell_type": "code",
   "execution_count": null,
   "metadata": {},
   "outputs": [],
   "source": [
    "print(\"Cinque è maggiore stretto di tre? {}.\".format(5 > 3))\n",
    "print(\"Cinque è maggiore o uguale a tre? {}.\".format(5 >= 3))\n",
    "print(\"Cinque è minore stretto di tre? {}.\".format(5 < 3))\n",
    "print(\"Cinque è minore o uguale a tre? {}.\".format(5 <= 3))\n",
    "print(\"Cinque è uguale a tre? {}.\".format(5 == 3))\n",
    "print(\"Cinque è diverso da tre? {}.\".format(5 != 3))"
   ]
  },
  {
   "cell_type": "markdown",
   "metadata": {},
   "source": [
    "### Operatori logici"
   ]
  },
  {
   "cell_type": "code",
   "execution_count": null,
   "metadata": {},
   "outputs": [],
   "source": [
    "print(\"True or False = {}\".format(True or False))\n",
    "print(\"True and False = {}\".format(True and False))\n",
    "print(\"not False = {}\".format(not False))"
   ]
  },
  {
   "cell_type": "markdown",
   "metadata": {},
   "source": [
    "# 5. Stringhe <a id=stringhe> </a>"
   ]
  },
  {
   "cell_type": "markdown",
   "metadata": {},
   "source": [
    "### Virgolette\n",
    "\n",
    "Da [PEP 8](https://www.python.org/dev/peps/pep-0008/#string-quotes):\n",
    "> In Python, single-quoted strings and double-quoted strings are the same. This PEP does not make a recommendation for this. Pick a rule and stick to it. When a string contains single or double quote characters, however, use the other one to avoid backslashes in the string. It improves readability.\n",
    "\n",
    "> For triple-quoted strings, always use double quote characters to be consistent with the docstring convention in PEP 257."
   ]
  },
  {
   "cell_type": "code",
   "execution_count": null,
   "metadata": {},
   "outputs": [],
   "source": [
    "print('Stringa tra virgolette alte singole.')\n",
    "print(\"\\nStringa tra virgolette alte doppie.\")\n",
    "print('''\\nStringa tra triple virgolette \n",
    "alte singole. Sconsigliate.''')\n",
    "print(\"\"\"\\nStringa tra triple virgolette \n",
    "alte doppie. Sono solitamente usate per le docstring.\"\"\")"
   ]
  },
  {
   "cell_type": "markdown",
   "metadata": {},
   "source": [
    "### Newline e tab"
   ]
  },
  {
   "cell_type": "code",
   "execution_count": null,
   "metadata": {},
   "outputs": [],
   "source": [
    "print(\"Stringa su più righe,\\ntra questa parola e\\tquesta c'è un tab.\")"
   ]
  },
  {
   "cell_type": "markdown",
   "metadata": {},
   "source": [
    "### Somma, prodotto"
   ]
  },
  {
   "cell_type": "code",
   "execution_count": null,
   "metadata": {},
   "outputs": [],
   "source": [
    "print(\"Le stringhe si possono som\" + \"mare...\")\n",
    "print(\"O moltiplicare. \" * 3)"
   ]
  },
  {
   "cell_type": "markdown",
   "metadata": {},
   "source": [
    "### Utilizzo di `format`"
   ]
  },
  {
   "cell_type": "code",
   "execution_count": null,
   "metadata": {},
   "outputs": [],
   "source": [
    "print(\"10 / 3 = {:.4f}\".format(10 / 3))\n",
    "print(\"{t} trentini {e} in Trento tutti e {t} trotterellando.\".format(t=int(99 / 3), e=\"entrarono\"))"
   ]
  },
  {
   "cell_type": "markdown",
   "metadata": {},
   "source": [
    "### Accedere agli elementi di una stringa"
   ]
  },
  {
   "cell_type": "code",
   "execution_count": null,
   "metadata": {},
   "outputs": [],
   "source": [
    "print('Primo elemento di \"stringa\": {}'.format(\"stringa\"[0]))\n",
    "print('Primi tre elementi della \"stringa\": {}'.format(\"stringa\"[:3]))\n",
    "print('Ultimi quattro elementi della \"stringa\": {}'.format(\"stringa\"[-4:]))"
   ]
  },
  {
   "cell_type": "markdown",
   "metadata": {},
   "source": [
    "### Modificare i caratteri di una stringa"
   ]
  },
  {
   "cell_type": "code",
   "execution_count": null,
   "metadata": {},
   "outputs": [],
   "source": [
    "s = \"sTrInGa\"\n",
    "print('\"{}\" capitalizzata: {}'.format(s, s.capitalize()))\n",
    "print('\"{}\" in caratteri maiuscoli: {}'.format(s, s.upper()))\n",
    "print('\"{}\" in caratteri minuscoli: {}'.format(s, s.lower()))\n",
    "print('\"{}\" con la \"@\" al posto della \"a\": {}'.format(s, s.replace(\"a\", \"@\")))"
   ]
  },
  {
   "cell_type": "markdown",
   "metadata": {},
   "source": [
    "### Dividere una stringa in base ad un carattere specificato"
   ]
  },
  {
   "cell_type": "code",
   "execution_count": null,
   "metadata": {},
   "outputs": [],
   "source": [
    "print('Divido questa stringa in base al \"carattere spazio\".'.split(\" \"))\n",
    "print('Divido questa stringa in base alla lettera \"a\".'.split(\"a\"))"
   ]
  },
  {
   "cell_type": "markdown",
   "metadata": {},
   "source": [
    "### Esercizio\n",
    "\n",
    "Utilizzare le operazioni imparate per creare una `cassa` con 100 mele partendo dalla variabile `mela`.\n",
    "```python\n",
    "Cassa di mele: ['mela', 'mela', 'mela', 'mela', 'mela', 'mela', 'mela', 'mela', 'mela', 'mela', 'mela', 'mela', 'mela', 'mela', 'mela', 'mela', 'mela', 'mela', 'mela', 'mela', 'mela', 'mela', 'mela', 'mela', 'mela', 'mela', 'mela', 'mela', 'mela', 'mela', 'mela', 'mela', 'mela', 'mela', 'mela', 'mela', 'mela', 'mela', 'mela', 'mela', 'mela', 'mela', 'mela', 'mela', 'mela', 'mela', 'mela', 'mela', 'mela', 'mela', 'mela', 'mela', 'mela', 'mela', 'mela', 'mela', 'mela', 'mela', 'mela', 'mela', 'mela', 'mela', 'mela', 'mela', 'mela', 'mela', 'mela', 'mela', 'mela', 'mela', 'mela', 'mela', 'mela', 'mela', 'mela', 'mela', 'mela', 'mela', 'mela', 'mela', 'mela', 'mela', 'mela', 'mela', 'mela', 'mela', 'mela', 'mela', 'mela', 'mela', 'mela', 'mela', 'mela', 'mela', 'mela', 'mela', 'mela', 'mela', 'mela', 'mela']\n",
    "```"
   ]
  },
  {
   "cell_type": "code",
   "execution_count": null,
   "metadata": {},
   "outputs": [],
   "source": [
    "mela = \"mela\"\n",
    "cassa = None\n",
    "print(\"Cassa di mele: {}\".format(cassa))"
   ]
  },
  {
   "cell_type": "markdown",
   "metadata": {},
   "source": [
    "# 6. Strutture dati <a id=strutture_dati> </a>"
   ]
  },
  {
   "cell_type": "markdown",
   "metadata": {},
   "source": [
    "## 6.1 `list` <a id=list> </a>"
   ]
  },
  {
   "cell_type": "markdown",
   "metadata": {},
   "source": [
    "### Definire una lista"
   ]
  },
  {
   "cell_type": "code",
   "execution_count": null,
   "metadata": {},
   "outputs": [],
   "source": [
    "l = [\"scimmia\", 1, \"cane\", 2., 5]\n",
    "print(\"Tipo: {}\".format(type(l)))\n",
    "print(\"Contenuto della variabile: {}\".format(l))"
   ]
  },
  {
   "cell_type": "markdown",
   "metadata": {},
   "source": [
    "### Accedere agli elementi di una lista"
   ]
  },
  {
   "cell_type": "markdown",
   "metadata": {},
   "source": [
    "### Esercizio\n",
    "\n",
    "Accedere agli elementi di una lista è lo stesso che accedere agli elementi di una stringa. Verificare."
   ]
  },
  {
   "cell_type": "code",
   "execution_count": null,
   "metadata": {},
   "outputs": [],
   "source": []
  },
  {
   "cell_type": "markdown",
   "metadata": {},
   "source": [
    "### *Item* e *slice assignment*"
   ]
  },
  {
   "cell_type": "code",
   "execution_count": null,
   "metadata": {},
   "outputs": [],
   "source": [
    "l = [\"scimmia\", 1, \"cane\", 2., 5]\n",
    "print('Lista \"l\": {}'.format(l))\n",
    "\n",
    "l[0] = \"uomo\"\n",
    "print('Sostituzione dell\\'elemento all\\'indice 0: {}'.format(l))\n",
    "\n",
    "l[1:4] = \"gatto\", -1.5, 0\n",
    "print('Sostituzione degli elementi agli indici da 1 a 3: {}'.format(l))"
   ]
  },
  {
   "cell_type": "markdown",
   "metadata": {},
   "source": [
    "### Somma e prodotto di liste"
   ]
  },
  {
   "cell_type": "code",
   "execution_count": null,
   "metadata": {},
   "outputs": [],
   "source": [
    "print(\"['a', 'b'] + ['c', 'd'] = {}\".format(['a', 'b'] + ['c', 'd']))\n",
    "print(\"[1] * 3 = {}\".format([1] * 3))"
   ]
  },
  {
   "cell_type": "markdown",
   "metadata": {},
   "source": [
    "### Aggiungere uno o più elementi a una lista"
   ]
  },
  {
   "cell_type": "code",
   "execution_count": null,
   "metadata": {},
   "outputs": [],
   "source": [
    "l = [0, 1]\n",
    "print('Lista \"l\": {}'.format(l))\n",
    "\n",
    "l.append([2, 3])\n",
    "print('Aggiungo l\\'elemento [2, 3] alla lista: {}'.format(l))\n",
    "\n",
    "l.extend([4, 5])\n",
    "print('Estendo la lista aggiungendo gli elementi presenti nella lista [4, 5]: {}'.format(l))"
   ]
  },
  {
   "cell_type": "markdown",
   "metadata": {},
   "source": [
    "### Ordinare una lista"
   ]
  },
  {
   "cell_type": "code",
   "execution_count": null,
   "metadata": {},
   "outputs": [],
   "source": [
    "l = ['d', 'aaa', 'bbbb', 'cc']\n",
    "print('Lista \"l\": {}'.format(l))\n",
    "\n",
    "print('Lista \"l\" ordinata: {}'.format(sorted(l)))\n",
    "print('Lista \"l\": {}'.format(l))\n",
    "\n",
    "l.sort() # equivalente a: l = sorted(l)\n",
    "print('Lista \"l\" dopo \"l.sort()\": {}'.format(l))\n",
    "\n",
    "l.sort(reverse=True) # equivalente a: l = sorted(l, reverse=True)\n",
    "print('Lista \"l\" dopo \"l.sort(reverse=True)\": {}'.format(l))\n",
    "\n",
    "l.sort(key=len, reverse=True) # equivalente a: l = sorted(l, key=len, reverse=True)\n",
    "print('Lista \"l\" dopo \"l.sort(key=len, reverse=True)\": {}'.format(l))"
   ]
  },
  {
   "cell_type": "markdown",
   "metadata": {},
   "source": [
    "### *List comprehensions*"
   ]
  },
  {
   "cell_type": "code",
   "execution_count": null,
   "metadata": {},
   "outputs": [],
   "source": [
    "print(\"Numeri pari tra 0 e 9: {}\".format([i for i in range(10) if i % 2 == 0]))"
   ]
  },
  {
   "cell_type": "markdown",
   "metadata": {},
   "source": [
    "### Esercizio\n",
    "\n",
    "Utilizzare *list comprehensions* per creare la lista dei quadrati di tutti i numeri dispari tra zero e novantanove."
   ]
  },
  {
   "cell_type": "markdown",
   "metadata": {},
   "source": [
    "## 6.2 `tuple` <a id=tuple> </a>"
   ]
  },
  {
   "cell_type": "markdown",
   "metadata": {},
   "source": [
    "### Definire una tupla"
   ]
  },
  {
   "cell_type": "code",
   "execution_count": null,
   "metadata": {},
   "outputs": [],
   "source": [
    "t = (\"scimmia\", 1, \"cane\", 2., 5)\n",
    "print(\"Tipo: {}\".format(type(t)))\n",
    "print(\"Contenuto della variabile: {}\".format(t))"
   ]
  },
  {
   "cell_type": "markdown",
   "metadata": {},
   "source": [
    "### Esercizio\n",
    "\n",
    "Accedere agli elementi di una tupla è lo stesso che accedere agli elementi di una stringa. Verificare."
   ]
  },
  {
   "cell_type": "code",
   "execution_count": null,
   "metadata": {},
   "outputs": [],
   "source": []
  },
  {
   "cell_type": "markdown",
   "metadata": {},
   "source": [
    "### Esercizio\n",
    "\n",
    "le `tuple` non sono modificabili, a differenza delle `list`. Verificare."
   ]
  },
  {
   "cell_type": "code",
   "execution_count": null,
   "metadata": {},
   "outputs": [],
   "source": []
  },
  {
   "cell_type": "markdown",
   "metadata": {},
   "source": [
    "### Esercizio\n",
    "\n",
    "Non esiste la *tuple comprehensions*. Il risultato di questa operazione è un generatore, non una tupla. Verificare."
   ]
  },
  {
   "cell_type": "code",
   "execution_count": null,
   "metadata": {},
   "outputs": [],
   "source": []
  },
  {
   "cell_type": "markdown",
   "metadata": {},
   "source": [
    "## 6.3 `set` <a id=set> </a>"
   ]
  },
  {
   "cell_type": "markdown",
   "metadata": {},
   "source": [
    "### Definire un insieme"
   ]
  },
  {
   "cell_type": "code",
   "execution_count": null,
   "metadata": {},
   "outputs": [],
   "source": [
    "i = {\"scimmia\", 1, \"cane\", 2., 5}\n",
    "print(\"Tipo: {}\".format(type(i)))\n",
    "print(\"Contenuto della variabile: {}\".format(i))"
   ]
  },
  {
   "cell_type": "markdown",
   "metadata": {},
   "source": [
    "### Esercizio\n",
    "\n",
    "I `set` non supportano l'indicizzazione, sono insiemi non ordinati. Verificare."
   ]
  },
  {
   "cell_type": "code",
   "execution_count": null,
   "metadata": {},
   "outputs": [],
   "source": []
  },
  {
   "cell_type": "markdown",
   "metadata": {},
   "source": [
    "### Verifiche di appartenenza"
   ]
  },
  {
   "cell_type": "code",
   "execution_count": null,
   "metadata": {},
   "outputs": [],
   "source": [
    "i = {\"scimmia\", 1, \"cane\", 2., 5}\n",
    "\n",
    "print('\"cane\" è in \"i\"? {}.'.format(\"cane\" in i))\n",
    "print('\"5\" non è in \"i\"? {}.'.format(5 not in i))"
   ]
  },
  {
   "cell_type": "markdown",
   "metadata": {},
   "source": [
    "### Operazioni tra insiemi"
   ]
  },
  {
   "cell_type": "code",
   "execution_count": null,
   "metadata": {},
   "outputs": [],
   "source": [
    "a = {1, 2, 3, 4, 5}\n",
    "b = {2, 3, 6}\n",
    "\n",
    "print('Insieme \"a\": {}'.format(a))\n",
    "print('Insieme \"b\": {}'.format(b))\n",
    "print('Unione di \"a\" e \"b\": {}'.format(a.union(a | b))) # equivalente a: a.union(b)\n",
    "print('Intersezione di \"a\" e \"b\": {}'.format(a & b)) # equivalente a: a.intersection(b)\n",
    "print('Differenza tra \"a\" e \"b\": {}'.format(a - b)) # equivalente a: a.difference(b)\n",
    "print('Differenza tra \"b\" e \"a\": {}'.format(b - a)) # equivalente a: b.difference(a)\n",
    "print('Differenza simmetrica tra \"a\" e \"b\": {}'.format(a ^ b)) # equivalente a: a.symmetric_difference(b)"
   ]
  },
  {
   "cell_type": "markdown",
   "metadata": {},
   "source": [
    "### Relazioni tra insiemi"
   ]
  },
  {
   "cell_type": "code",
   "execution_count": null,
   "metadata": {},
   "outputs": [],
   "source": [
    "a = {1, 2, 3, 4, 5}\n",
    "b = {2, 3}\n",
    "\n",
    "print('\"b\" è un sottoinsieme di \"a\"? {}.'.format(b <= a)) # equivalente a: b.issubset(a)\n",
    "print('\"a\" è un sovrainsieme di \"b\"? {}.'.format(a >= b)) # equivalente a: a.issuperset(b)"
   ]
  },
  {
   "cell_type": "markdown",
   "metadata": {},
   "source": [
    "### Aggiungere elementi ad un insieme"
   ]
  },
  {
   "cell_type": "code",
   "execution_count": null,
   "metadata": {},
   "outputs": [],
   "source": [
    "a = {1, 2, 3, 4, 5}\n",
    "print('Insieme \"a\": {}'.format(a))\n",
    "\n",
    "a.update({5, 6, 7})\n",
    "print('Insieme \"a\" dopo l\\'aggiunta di 5, 6 e 7: {}'.format(a))"
   ]
  },
  {
   "cell_type": "markdown",
   "metadata": {},
   "source": [
    "### Esercizio\n",
    "\n",
    "Esiste anche la *set comprehensions*. Verificare."
   ]
  },
  {
   "cell_type": "code",
   "execution_count": null,
   "metadata": {},
   "outputs": [],
   "source": []
  },
  {
   "cell_type": "markdown",
   "metadata": {},
   "source": [
    "## 6.4 `dict` <a id=dict> </a>"
   ]
  },
  {
   "cell_type": "markdown",
   "metadata": {},
   "source": [
    "### Definire un dizionario"
   ]
  },
  {
   "cell_type": "code",
   "execution_count": null,
   "metadata": {},
   "outputs": [],
   "source": [
    "d = {\"Luca\": \"umano\", 2: \"intero\", (1, 2): \"tupla\"}\n",
    "print(\"Tipo: {}\".format(type(d)))\n",
    "print(\"Contenuto della variabile: {}\".format(d))"
   ]
  },
  {
   "cell_type": "markdown",
   "metadata": {},
   "source": [
    "### Ottenere la lista delle chiavi di un dizionario"
   ]
  },
  {
   "cell_type": "code",
   "execution_count": null,
   "metadata": {},
   "outputs": [],
   "source": [
    "d = {\"Luca\": \"umano\", 2: \"intero\", (1, 2): \"tupla\"}\n",
    "\n",
    "chiavi = d.keys()\n",
    "print(\"Lista delle chiavi del dizionario: {}\".format(chiavi))"
   ]
  },
  {
   "cell_type": "markdown",
   "metadata": {},
   "source": [
    "### Ottenere la lista dei valori di un dizionario"
   ]
  },
  {
   "cell_type": "code",
   "execution_count": null,
   "metadata": {},
   "outputs": [],
   "source": [
    "d = {\"Luca\": \"umano\", 2: \"intero\", (1, 2): \"tupla\"}\n",
    "\n",
    "valori = d.values()\n",
    "print(\"Lista dei valori del dizionario: {}\".format(valori))"
   ]
  },
  {
   "cell_type": "markdown",
   "metadata": {},
   "source": [
    "### Accedere a un valore di un dizionario tramite una sua chiave"
   ]
  },
  {
   "cell_type": "code",
   "execution_count": null,
   "metadata": {},
   "outputs": [],
   "source": [
    "d = {\"Luca\": \"umano\", 2: \"intero\", (1, 2): \"tupla\"}\n",
    "\n",
    "print('Elemento del dizionario collegato alla chiave \"(1, 2)\": {}'.format(d[(1, 2)]))"
   ]
  },
  {
   "cell_type": "markdown",
   "metadata": {},
   "source": [
    "### Eliminare un elemento di un dizionario"
   ]
  },
  {
   "cell_type": "code",
   "execution_count": null,
   "metadata": {},
   "outputs": [],
   "source": [
    "d = {\"Luca\": \"umano\", 2: \"intero\", (1, 2): \"tupla\"}\n",
    "\n",
    "del d[2]\n",
    "print('Dizionario \"d\" dopo aver eliminato la chiave \"2\": {}'.format(d))"
   ]
  },
  {
   "cell_type": "markdown",
   "metadata": {},
   "source": [
    "### Unire due dizionari"
   ]
  },
  {
   "cell_type": "code",
   "execution_count": null,
   "metadata": {},
   "outputs": [],
   "source": [
    "a = {\"k0\": 0, \"k1\": 1}\n",
    "b = {\"k2\": 2, \"k3\": 3, \"k4\": 4}\n",
    "\n",
    "print('Dizionario \"a\": {}'.format(a))\n",
    "print('Dizionario \"b\": {}'.format(b))\n",
    "print('Unione dei dizionari \"a\" e \"b\": {}'.format({**a, **b}))"
   ]
  },
  {
   "cell_type": "markdown",
   "metadata": {},
   "source": [
    "### Esercizio\n",
    "\n",
    "Esiste anche la *dict comprehensions*. Verificarlo creando il dizionario:\n",
    "```python\n",
    "{0: 'pari', 1: 'dispari', 2: 'pari', 3: 'dispari', 4: 'pari', 5: 'dispari', 6: 'pari', 7: 'dispari', 8: 'pari', 9: 'dispari'}\n",
    "```"
   ]
  },
  {
   "cell_type": "code",
   "execution_count": null,
   "metadata": {},
   "outputs": [],
   "source": []
  },
  {
   "cell_type": "markdown",
   "metadata": {},
   "source": [
    "### Esercizio\n",
    "\n",
    "Creare i dizionari\n",
    "```python\n",
    "a = {'a0': 1, 'a1': 2, ... 'a99': 100}\n",
    "```\n",
    "e\n",
    "```python\n",
    "b = {'b0': 1, 'b1': 2, ... 'b99': 100}\n",
    "```\n",
    "utilizzando la *dict comprehensions* e poi unirli."
   ]
  },
  {
   "cell_type": "code",
   "execution_count": null,
   "metadata": {},
   "outputs": [],
   "source": []
  },
  {
   "cell_type": "markdown",
   "metadata": {
    "collapsed": true
   },
   "source": [
    "# 7. Strumenti di controllo del flusso <a id=controllo_flusso> </a>"
   ]
  },
  {
   "cell_type": "markdown",
   "metadata": {},
   "source": [
    "### `if`, `elif`, `else`"
   ]
  },
  {
   "cell_type": "code",
   "execution_count": null,
   "metadata": {},
   "outputs": [],
   "source": [
    "x = 5\n",
    "\n",
    "if x > 4:\n",
    "    print(\"{} è maggiore 4.\".format(x))\n",
    "elif x < -1:\n",
    "    print(\"{} è minore di -1.\".format(x))\n",
    "else:\n",
    "    print(\"{} non è ne maggiore di 4 ne minore di -1.\".format(x))"
   ]
  },
  {
   "cell_type": "markdown",
   "metadata": {},
   "source": [
    "### Esercizio\n",
    "\n",
    "Provare con altri numeri."
   ]
  },
  {
   "cell_type": "markdown",
   "metadata": {},
   "source": [
    "### `for`"
   ]
  },
  {
   "cell_type": "code",
   "execution_count": null,
   "metadata": {},
   "outputs": [],
   "source": [
    "for i in range(10):\n",
    "    if (i % 2) == 0:\n",
    "        print(\"{} è un numero pari.\".format(i))\n",
    "    else:\n",
    "        print(\"{} è un numero dispari.\".format(i))"
   ]
  },
  {
   "cell_type": "markdown",
   "metadata": {},
   "source": [
    "### Esercizio\n",
    "\n",
    "Replicare il risultato utilizzando [`while`](https://docs.python.org/3/reference/compound_stmts.html#while)."
   ]
  },
  {
   "cell_type": "code",
   "execution_count": null,
   "metadata": {},
   "outputs": [],
   "source": []
  },
  {
   "cell_type": "markdown",
   "metadata": {},
   "source": [
    "# 8. Funzioni <a id=funzioni> </a>"
   ]
  },
  {
   "cell_type": "markdown",
   "metadata": {},
   "source": [
    "### Definire una funzione"
   ]
  },
  {
   "cell_type": "code",
   "execution_count": null,
   "metadata": {},
   "outputs": [],
   "source": [
    "def area_triangolo_isoscele(b, h=3):\n",
    "    area = b * h / 2\n",
    "    return area\n",
    "\n",
    "print(\"Tipo: {}\".format(type(area_triangolo_isoscele)))\n",
    "print(\"area_triangolo_isoscele(b=2) = {}\".format(area_triangolo_isoscele(b=2)))\n",
    "print(\"area_triangolo_isoscele(2) = {}\".format(area_triangolo_isoscele(2)))\n",
    "print(\"area_triangolo_isoscele(h=4, b=2) = {}\".format(area_triangolo_isoscele(h=4, b=2)))\n",
    "print(\"area_triangolo_isoscele(2, 4) = {}\".format(area_triangolo_isoscele(2, 4)))"
   ]
  },
  {
   "cell_type": "markdown",
   "metadata": {},
   "source": [
    "### `*args` "
   ]
  },
  {
   "cell_type": "code",
   "execution_count": null,
   "metadata": {},
   "outputs": [],
   "source": [
    "def lista_numeri_ordinati(*args, reverse=False):\n",
    "    return sorted(args, reverse=reverse)\n",
    "\n",
    "print(\"lista_numeri_ordinati(2, 1, 3): {}\".format(lista_numeri_ordinati(2, 1, 3)))"
   ]
  },
  {
   "cell_type": "markdown",
   "metadata": {},
   "source": [
    "### `**args` "
   ]
  },
  {
   "cell_type": "code",
   "execution_count": null,
   "metadata": {},
   "outputs": [],
   "source": [
    "def print_elenco_telefonico(**kwargs):\n",
    "    for nome, numero in kwargs.items():\n",
    "        print(\"{}: +39 {} {}\".format(nome.capitalize(), numero[:3], numero[3:]))\n",
    "\n",
    "print_elenco_telefonico(luca=\"3334132258\", giorgia=\"3312137262\")"
   ]
  },
  {
   "cell_type": "markdown",
   "metadata": {},
   "source": [
    "### `lambda`"
   ]
  },
  {
   "cell_type": "code",
   "execution_count": null,
   "metadata": {},
   "outputs": [],
   "source": [
    "l = [-3, 1, 2]\n",
    "print('Lista \"l\": {}'.format(l))\n",
    "\n",
    "l.sort(key=lambda x: x ** 2)\n",
    "print('Lista \"l\" ordinata in base al valore dell\\'elemento alla seconda: {}'.format(l))"
   ]
  },
  {
   "cell_type": "markdown",
   "metadata": {},
   "source": [
    "### Funzione ricorsiva"
   ]
  },
  {
   "cell_type": "code",
   "execution_count": null,
   "metadata": {},
   "outputs": [],
   "source": [
    "from msbd.matematica import  fibonacci\n",
    "\n",
    "help(fibonacci)"
   ]
  },
  {
   "cell_type": "markdown",
   "metadata": {},
   "source": [
    "### Visualizzare il codice sorgente"
   ]
  },
  {
   "cell_type": "code",
   "execution_count": null,
   "metadata": {},
   "outputs": [],
   "source": [
    "import inspect\n",
    "\n",
    "print(inspect.getsource(fibonacci))"
   ]
  },
  {
   "cell_type": "markdown",
   "metadata": {},
   "source": [
    "### Primi 10 valori della sucessione di Fibonacci"
   ]
  },
  {
   "cell_type": "code",
   "execution_count": null,
   "metadata": {},
   "outputs": [],
   "source": [
    "print(\"Successione di Fibonacci: {}...\".format(\", \".join([str(fibonacci(i)) for i in range(1, 11)])))"
   ]
  },
  {
   "cell_type": "markdown",
   "metadata": {},
   "source": [
    "### Esercizio\n",
    "\n",
    "Analizzare la funzione `fibonacci()`definita nel modulo *matematica* del pacchetto *msbd*.\n",
    "\n",
    "1. Provare a invocare la funzione con una stringa, cosa succede?\n",
    "2. Provare a invocare la funzione con un numero intero minore di 1, cosa succede?"
   ]
  },
  {
   "cell_type": "code",
   "execution_count": null,
   "metadata": {},
   "outputs": [],
   "source": []
  },
  {
   "cell_type": "markdown",
   "metadata": {},
   "source": [
    "# 9. Verificare il proprio codice con pytest <a id=pytest> </a>\n",
    "Dal [sito ufficiale](https://docs.pytest.org/en/latest/index.html) di pytest:\n",
    "> The pytest framework makes it easy to write small tests, yet scales to support complex functional testing for applications and libraries."
   ]
  },
  {
   "cell_type": "code",
   "execution_count": null,
   "metadata": {},
   "outputs": [],
   "source": [
    "!pytest -v msbd/tests/test_fibonacci.py # Nota: tramite \"!\" si accede al terminale"
   ]
  },
  {
   "cell_type": "markdown",
   "metadata": {},
   "source": [
    "### Esercizio\n",
    "\n",
    "Completare la funzione `fattoriale()` in `msbd/matematica/fattoriale.py` utilizzando quanto imparato sulle funzioni ricorsive.\n",
    "\n",
    "Si ricorda che\n",
    "$$\n",
    "n! =\n",
    "\\begin{cases}\n",
    "    1 & \\quad n = 0\\\\\n",
    "    n\\times(n-1)! & \\quad n > 0\n",
    "\\end{cases}\n",
    "$$\n",
    "\n",
    "Testare la funzione utilizzando pytest."
   ]
  },
  {
   "cell_type": "code",
   "execution_count": null,
   "metadata": {},
   "outputs": [],
   "source": [
    "from msbd.matematica import  fattoriale\n",
    "\n",
    "print(inspect.getsource(fattoriale))"
   ]
  },
  {
   "cell_type": "code",
   "execution_count": null,
   "metadata": {},
   "outputs": [],
   "source": []
  },
  {
   "cell_type": "markdown",
   "metadata": {},
   "source": [
    "# 10. Generatori <a id=generatori> </a>"
   ]
  },
  {
   "cell_type": "code",
   "execution_count": null,
   "metadata": {},
   "outputs": [],
   "source": [
    "from msbd.matematica import  fibonacci_gen\n",
    "\n",
    "print(inspect.getsource(fibonacci_gen))\n",
    "            \n",
    "\n",
    "g = fibonacci_gen()\n",
    "print(\"Tipo: {}\".format(type(g)))\n",
    "print(\"Contenuto della variabile: {}\".format(g))"
   ]
  },
  {
   "cell_type": "code",
   "execution_count": null,
   "metadata": {},
   "outputs": [],
   "source": [
    "generatore_successione_fibonacci = fibonacci_gen()\n",
    "\n",
    "for i, n in enumerate(generatore_successione_fibonacci, 1):\n",
    "    print(\"Il {:>2}° numero della successione di Fibonacci è {}.\".format(i, n))\n",
    "    \n",
    "    if i >= 10:\n",
    "        print(\"Interrompo la sequenza che, altrimenti, andrebbe avanti all'infinito...\")\n",
    "        break\n",
    "        \n",
    "print(\"\\nUtilizzo next() per accedere al numero sucessivo: {}.\".format(next(generatore_successione_fibonacci)))"
   ]
  },
  {
   "cell_type": "markdown",
   "metadata": {},
   "source": [
    "### Esercizio\n",
    "\n",
    "Completare la funzione `fattoriale_gen()` in `msbd/matematica/fattoriale.py` utilizzando quanto imparato sui generatori.\n",
    "\n",
    "Definire dei test per verificare il coretto funzionamento della funzione ed eseguirli tramite pytest."
   ]
  },
  {
   "cell_type": "code",
   "execution_count": null,
   "metadata": {},
   "outputs": [],
   "source": [
    "from msbd.matematica import  fattoriale_gen\n",
    "\n",
    "print(inspect.getsource(fattoriale_gen))"
   ]
  },
  {
   "cell_type": "markdown",
   "metadata": {},
   "source": [
    "# 11. Classi <a id=classi> </a>"
   ]
  },
  {
   "cell_type": "markdown",
   "metadata": {},
   "source": [
    "## 11.1 Creazione di una semplice classe <a id=creazione_classe> </a>"
   ]
  },
  {
   "cell_type": "code",
   "execution_count": null,
   "metadata": {},
   "outputs": [],
   "source": [
    "class Uomo():\n",
    "    def __init__(self, nome, cognome):\n",
    "        self.__name__ = \"Uomo\"\n",
    "        self.nome = nome\n",
    "        self.cognome = cognome\n",
    "        \n",
    "    def presentazione(self):\n",
    "        print(\"Ciao, mi chiamo {} {}.\".format(self.nome.capitalize(), self.cognome.capitalize()))\n",
    "        \n",
    "print(\"Tipo: {}\".format(type(Uomo)))"
   ]
  },
  {
   "cell_type": "markdown",
   "metadata": {},
   "source": [
    "### Istanza di una classe"
   ]
  },
  {
   "cell_type": "code",
   "execution_count": null,
   "metadata": {},
   "outputs": [],
   "source": [
    "bruno = Uomo(\"bruno\", \"scarpa\")\n",
    "\n",
    "print(\"Classe di appartenza: {}.\".format(type(bruno).__name__))\n",
    "print('Attributo \"nome\": {}.'.format(bruno.nome))\n",
    "print('Attributo \"cognome\": {}.'.format(bruno.cognome))\n",
    "print('Metodo \"presentazione\":')\n",
    "bruno.presentazione()"
   ]
  },
  {
   "cell_type": "markdown",
   "metadata": {},
   "source": [
    "## 11.2 Ereditarietà <a id=ereditarietà> </a>"
   ]
  },
  {
   "cell_type": "code",
   "execution_count": null,
   "metadata": {},
   "outputs": [],
   "source": [
    "import matplotlib.pyplot as plt\n",
    "import matplotlib.image as mpimg\n",
    "\n",
    "\n",
    "class Simpson(Uomo):\n",
    "    def __init__(self, nome):\n",
    "        super().__init__(nome=nome, cognome=\"simpson\")\n",
    "\n",
    "    def studia_python(self):\n",
    "        img = mpimg.imread(\"figures/{}_python.jpg\".format(self.nome))\n",
    "        plt.axis(\"off\")\n",
    "        plt.imshow(img)"
   ]
  },
  {
   "cell_type": "markdown",
   "metadata": {},
   "source": [
    "### Homer Simpson"
   ]
  },
  {
   "cell_type": "code",
   "execution_count": null,
   "metadata": {},
   "outputs": [],
   "source": [
    "homer = Simpson(\"homer\")\n",
    "\n",
    "print(\"Classe di appartenza: {}.\".format(type(homer).__name__))\n",
    "print('Attributo \"nome\": {}.'.format(homer.nome))\n",
    "print('Attributo \"cognome\": {}.'.format(homer.cognome))\n",
    "print('Metodo \"presentazione\":')\n",
    "homer.presentazione()\n",
    "print('Metodo \"studia_python\":')\n",
    "homer.studia_python()"
   ]
  },
  {
   "cell_type": "markdown",
   "metadata": {},
   "source": [
    "### Bart Simpson"
   ]
  },
  {
   "cell_type": "code",
   "execution_count": null,
   "metadata": {},
   "outputs": [],
   "source": [
    "bart = Simpson(\"bart\")\n",
    "\n",
    "print(\"Classe di appartenza: {}.\".format(type(bart).__name__))\n",
    "print('Attributo \"nome\": {}.'.format(bart.nome))\n",
    "print('Attributo \"cognome\": {}.'.format(bart.cognome))\n",
    "print('Metodo \"presentazione\":')\n",
    "bart.presentazione()\n",
    "print('Metodo \"studia_python\":')\n",
    "bart.studia_python()"
   ]
  },
  {
   "cell_type": "code",
   "execution_count": null,
   "metadata": {},
   "outputs": [],
   "source": []
  }
 ],
 "metadata": {
  "kernelspec": {
   "display_name": "Python 3",
   "language": "python",
   "name": "python3"
  },
  "language_info": {
   "codemirror_mode": {
    "name": "ipython",
    "version": 3
   },
   "file_extension": ".py",
   "mimetype": "text/x-python",
   "name": "python",
   "nbconvert_exporter": "python",
   "pygments_lexer": "ipython3",
   "version": "3.6.7"
  }
 },
 "nbformat": 4,
 "nbformat_minor": 2
}
