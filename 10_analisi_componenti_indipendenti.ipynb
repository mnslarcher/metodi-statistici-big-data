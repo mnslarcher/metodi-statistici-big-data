{
 "cells": [
  {
   "cell_type": "markdown",
   "metadata": {},
   "source": [
    "![under_construction](figures/under_construction.gif)"
   ]
  },
  {
   "cell_type": "markdown",
   "metadata": {},
   "source": [
    "### Riferimenti bibliografici:\n",
    "\n",
    "* Hyvarinen, A. &  Oja E. (2012), [Independent Component Analysis: Algorithms and Applications](https://www.cs.helsinki.fi/u/ahyvarin/papers/NN00new.pdf)."
   ]
  },
  {
   "cell_type": "markdown",
   "metadata": {},
   "source": [
    "# Analisi delle componenti indipendenti (ICA)"
   ]
  },
  {
   "cell_type": "markdown",
   "metadata": {},
   "source": [
    "## Indice"
   ]
  },
  {
   "cell_type": "markdown",
   "metadata": {},
   "source": [
    "1. [](#)<br />\n",
    "    1.1 [](#)<br />"
   ]
  },
  {
   "cell_type": "code",
   "execution_count": null,
   "metadata": {},
   "outputs": [],
   "source": [
    "from sklearn.decomposition import FastICA\n",
    "from sklearn.pipeline import Pipeline\n",
    "import inspect\n",
    "import matplotlib.pyplot as plt\n",
    "import numpy as np\n",
    "import pandas as pd\n",
    "\n",
    "%load_ext autoreload\n",
    "%autoreload 2"
   ]
  },
  {
   "cell_type": "markdown",
   "metadata": {},
   "source": [
    "# Problema del cocktail party"
   ]
  },
  {
   "cell_type": "code",
   "execution_count": null,
   "metadata": {},
   "outputs": [],
   "source": [
    "from msbd.datasets import CocktailParty\n",
    "\n",
    "print(inspect.getsource(CocktailParty))"
   ]
  },
  {
   "cell_type": "code",
   "execution_count": null,
   "metadata": {},
   "outputs": [],
   "source": [
    "A = np.array(\n",
    "    [[0.5, 0.5], \n",
    "     [0.2, 0.8]]\n",
    ")\n",
    "\n",
    "cp = CocktailParty(A)"
   ]
  },
  {
   "cell_type": "code",
   "execution_count": null,
   "metadata": {},
   "outputs": [],
   "source": [
    "t = np.linspace(0, 100, 1000)\n",
    "S = np.c_[cp.s1(t), cp.s2(t)]\n",
    "X = np.c_[cp.x1(t), cp.x2(t)]\n",
    "\n",
    "print(\"Dimensioni di S: {} X {}\".format(*S.shape))\n",
    "print(\"Dimensioni di X: {} X {}\".format(*X.shape))"
   ]
  },
  {
   "cell_type": "code",
   "execution_count": null,
   "metadata": {},
   "outputs": [],
   "source": [
    "from msbd.grafici import grafico_cocktail_party\n",
    "\n",
    "print(inspect.getsource(grafico_cocktail_party))"
   ]
  },
  {
   "cell_type": "code",
   "execution_count": null,
   "metadata": {},
   "outputs": [],
   "source": [
    "plt.figure(figsize=(8, 6))\n",
    "\n",
    "grafico_cocktail_party(t, S, X)\n",
    "\n",
    "plt.show()"
   ]
  },
  {
   "cell_type": "code",
   "execution_count": null,
   "metadata": {},
   "outputs": [],
   "source": [
    "ica = FastICA(whiten=True, random_state=42)\n",
    "\n",
    "S_hat = ica.fit_transform(X)"
   ]
  },
  {
   "cell_type": "code",
   "execution_count": null,
   "metadata": {},
   "outputs": [],
   "source": [
    "plt.figure(figsize=(8, 8))\n",
    "\n",
    "grafico_cocktail_party(t, S, X, S_hat)\n",
    "\n",
    "plt.show()"
   ]
  },
  {
   "cell_type": "markdown",
   "metadata": {},
   "source": [
    "### Esercizio\n",
    "\n",
    "Elencare tutte le differenze tra segnali veri e stimati."
   ]
  },
  {
   "cell_type": "code",
   "execution_count": null,
   "metadata": {},
   "outputs": [],
   "source": []
  },
  {
   "cell_type": "code",
   "execution_count": null,
   "metadata": {},
   "outputs": [],
   "source": [
    "from msbd.preprocessamento import Sbiancare\n",
    "\n",
    "\n",
    "print(inspect.getsource(Sbiancare))"
   ]
  },
  {
   "cell_type": "markdown",
   "metadata": {},
   "source": [
    "### Esercizio\n",
    "\n",
    "1. Completare i metodo `inverse_transform()` della classe `Sbiancare` definita in `msbd/preprocessamento/sbiancare.py`;\n",
    "2. Verificare il corretto funzionamento del metodo appena definito.\n",
    "\n",
    "> Suggerimento: usare il fatto che la matrice $\\mathbf{E}$ è una matrice [unitaria](https://it.wikipedia.org/wiki/Matrice_unitaria)."
   ]
  },
  {
   "cell_type": "code",
   "execution_count": null,
   "metadata": {},
   "outputs": [],
   "source": []
  },
  {
   "cell_type": "markdown",
   "metadata": {},
   "source": [
    "### Esercizio\n",
    "\n",
    "1. Definire una pipeline `ica_pipe` con al primo step `Sbiancare()` e al secondo step `FastICA(whiten=False)`;\n",
    "2. Ottenere `S_hat`come `S_hat = ica_pipe.fit_transform(X)`;\n",
    "3. Fare nuovamente il grafico *cocktail party* utilizzando la stima di $\\mathbf{S}$ ottenuta al passo precedente;\n",
    "4. Commentare i risultati."
   ]
  },
  {
   "cell_type": "code",
   "execution_count": null,
   "metadata": {},
   "outputs": [],
   "source": []
  },
  {
   "cell_type": "markdown",
   "metadata": {},
   "source": [
    "[Statlog (Landsat Satellite) Data Set](https://archive.ics.uci.edu/ml/datasets/Statlog+(Landsat+Satellite%29)"
   ]
  },
  {
   "cell_type": "markdown",
   "metadata": {},
   "source": [
    "### Data Set Information:\n",
    "\n",
    "The database consists of the multi-spectral values of pixels in 3x3 neighbourhoods in a satellite image, and the classification associated with the central pixel in each neighbourhood. The aim is to predict this classification, given the multi-spectral values. In the sample database, the class of a pixel is coded as a number. \n",
    "\n",
    "The Landsat satellite data is one of the many sources of information available for a scene. The interpretation of a scene by integrating spatial data of diverse types and resolutions including multispectral and radar data, maps indicating topography, land use etc. is expected to assume significant importance with the onset of an era characterised by integrative approaches to remote sensing (for example, NASA's Earth Observing System commencing this decade). Existing statistical methods are ill-equipped for handling such diverse data types. Note that this is not true for Landsat MSS data considered in isolation (as in this sample database). This data satisfies the important requirements of being numerical and at a single resolution, and standard maximum-likelihood classification performs very well. Consequently, for this data, it should be interesting to compare the performance of other methods against the statistical approach. \n",
    "\n",
    "One frame of Landsat MSS imagery consists of four digital images of the same scene in different spectral bands. Two of these are in the visible region (corresponding approximately to green and red regions of the visible spectrum) and two are in the (near) infra-red. Each pixel is a 8-bit binary word, with 0 corresponding to black and 255 to white. The spatial resolution of a pixel is about 80m x 80m. Each image contains 2340 x 3380 such pixels. \n",
    "\n",
    "The database is a (tiny) sub-area of a scene, consisting of 82 x 100 pixels. Each line of data corresponds to a 3x3 square neighbourhood of pixels completely contained within the 82x100 sub-area. Each line contains the pixel values in the four spectral bands (converted to ASCII) of each of the 9 pixels in the 3x3 neighbourhood and a number indicating the classification label of the central pixel. The number is a code for the following classes: \n",
    "\n",
    "#### Number: Class\n",
    "* 1:  red soil \n",
    "* 2:  cotton crop \n",
    "* 3:  grey soil \n",
    "* 4:  damp grey soil \n",
    "* 5:  soil with vegetation stubble \n",
    "* 6:  mixture class (all types present) \n",
    "* 7:  very damp grey soil \n",
    "\n",
    "NB. There are no examples with class 6 in this dataset. \n",
    "\n",
    "The data is given in random order and certain lines of data have been removed so you cannot reconstruct the original image from this dataset. \n",
    "\n",
    "In each line of data the four spectral values for the top-left pixel are given first followed by the four spectral values for the top-middle pixel and then those for the top-right pixel, and so on with the pixels read out in sequence left-to-right and top-to-bottom. Thus, the four spectral values for the central pixel are given by attributes 17,18,19 and 20. If you like you can use only these four attributes, while ignoring the others. This avoids the problem which arises when a 3x3 neighbourhood straddles a boundary. \n",
    "\n",
    "\n",
    "### Attribute Information:\n",
    "\n",
    "The attributes are numerical, in the range 0 to 255."
   ]
  },
  {
   "cell_type": "code",
   "execution_count": null,
   "metadata": {},
   "outputs": [],
   "source": [
    "URL = \"https://archive.ics.uci.edu/ml/machine-learning-databases/statlog/satimage/sat.trn\"\n",
    "canali = [\"R\", \"G\", \"B\", \"A\"]\n",
    "numero_classe = {\n",
    "    1: \"red soil\", \n",
    "    2: \"cotton crop\", \n",
    "    3: \"grey soil\", \n",
    "    4: \"damp grey soil\",\n",
    "    5: \"soil with vegetation stubble\",\n",
    "#    6: \"mixture class\",\n",
    "    7: \"very damp grey soil\",\n",
    "}\n",
    "nomi = [\"Pixel{}_{}\".format(i, c) for i in range(9) for c in canali] + [\"Classe\"]\n",
    "\n",
    "dati = pd.read_table(URL, sep=\" \", names=nomi)\n",
    "print(\"Dimensioni: {} X {}\".format(*dati.shape))\n",
    "dati.head()"
   ]
  },
  {
   "cell_type": "markdown",
   "metadata": {},
   "source": [
    "# Analisi esplorativa"
   ]
  },
  {
   "cell_type": "code",
   "execution_count": null,
   "metadata": {},
   "outputs": [],
   "source": [
    "plt.figure(figsize=(8, 6))\n",
    "\n",
    "plt.suptitle(\"Un'immagine per classe selezionata casualmente\")\n",
    "\n",
    "for i, (num_cl, cl) in enumerate(numero_classe.items()):\n",
    "    plt.subplot(231 + i)\n",
    "    plt.title(cl)\n",
    "    idx = np.random.choice(dati.index[dati[\"Classe\"] == num_cl])\n",
    "    image = dati.loc[idx].values[:-1].reshape((3, 3, 4)).astype(np.uint8)\n",
    "    plt.imshow(image, interpolation='none')\n",
    "    plt.xticks([0.5, 1.5], [])\n",
    "    plt.yticks([0.5, 1.5], [])\n",
    "    plt.grid(color='black')\n",
    "\n",
    "plt.show()"
   ]
  },
  {
   "cell_type": "code",
   "execution_count": null,
   "metadata": {},
   "outputs": [],
   "source": [
    "import seaborn as sns"
   ]
  },
  {
   "cell_type": "code",
   "execution_count": null,
   "metadata": {},
   "outputs": [],
   "source": [
    "PIXEL = 4\n",
    "\n",
    "plt.figure(figsize=(8, 6))\n",
    "\n",
    "plt.suptitle(\"Boxplot dei pixel in posizione {} per ogni combinazione di classe e canale\".format(PIXEL))\n",
    "\n",
    "for i in range(4):\n",
    "    plt.subplot(221 + i)\n",
    "    canale = canali[i]\n",
    "    plt.title('Canale {}'.format(canale))\n",
    "    sns.boxplot(x=y_train, y=X_train[\"Pixel{}_{}\".format(PIXEL, canale)])\n",
    "\n",
    "plt.tight_layout()\n",
    "plt.subplots_adjust(top=0.85)\n",
    "plt.show()"
   ]
  },
  {
   "cell_type": "code",
   "execution_count": null,
   "metadata": {},
   "outputs": [],
   "source": [
    "from sklearn.model_selection import train_test_split\n",
    "\n",
    "X_train, X_val, y_train, y_val = train_test_split(dati.iloc[:, :-1], dati.iloc[:, -1], \n",
    "                                                    test_size=0.25, random_state=42)"
   ]
  },
  {
   "cell_type": "code",
   "execution_count": null,
   "metadata": {},
   "outputs": [],
   "source": [
    "X_train.describe()"
   ]
  },
  {
   "cell_type": "code",
   "execution_count": null,
   "metadata": {},
   "outputs": [],
   "source": [
    "y_train.replace(numero_classe).value_counts()"
   ]
  },
  {
   "cell_type": "code",
   "execution_count": null,
   "metadata": {},
   "outputs": [],
   "source": []
  }
 ],
 "metadata": {
  "kernelspec": {
   "display_name": "Python 3",
   "language": "python",
   "name": "python3"
  },
  "language_info": {
   "codemirror_mode": {
    "name": "ipython",
    "version": 3
   },
   "file_extension": ".py",
   "mimetype": "text/x-python",
   "name": "python",
   "nbconvert_exporter": "python",
   "pygments_lexer": "ipython3",
   "version": "3.6.7"
  }
 },
 "nbformat": 4,
 "nbformat_minor": 2
}
