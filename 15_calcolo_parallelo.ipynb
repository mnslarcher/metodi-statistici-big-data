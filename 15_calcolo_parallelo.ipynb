{
 "cells": [
  {
   "cell_type": "code",
   "execution_count": 72,
   "metadata": {},
   "outputs": [
    {
     "name": "stdout",
     "output_type": "stream",
     "text": [
      "The autoreload extension is already loaded. To reload it, use:\n",
      "  %reload_ext autoreload\n"
     ]
    }
   ],
   "source": [
    "import inspect\n",
    "import multiprocessing as mp\n",
    "import numpy as np\n",
    "import os\n",
    "import threading\n",
    "import time\n",
    "\n",
    "\n",
    "%load_ext autoreload\n",
    "%autoreload 2"
   ]
  },
  {
   "cell_type": "code",
   "execution_count": 2,
   "metadata": {},
   "outputs": [
    {
     "name": "stdout",
     "output_type": "stream",
     "text": [
      "def ottieni_contenuto_url(url, coda=None):\n",
      "    id_processo = os.getpid()\n",
      "    nome_processo = mp.current_process().name\n",
      "    nome_thread = threading.current_thread().name\n",
      "    \n",
      "    print(\"[INIZIO]\\nURL: {}\\nID processo: {}\\nNome processo: {}\\nNome thread:\"\n",
      "        \"{}\\n\".format(url, id_processo, nome_processo, nome_thread))\n",
      "\n",
      "    try:\n",
      "        risposta = requests.get(url)\n",
      "        testo = BeautifulSoup(risposta.content, \"lxml\").get_text()\n",
      "    except requests.exceptions.HTTPError as err:\n",
      "        print(\"HTTP Error:\", err)\n",
      "    except requests.exceptions.ConnectionError as err:\n",
      "        print(\"Connection Error:\", err)\n",
      "    except requests.exceptions.Timeout as err:\n",
      "        print(\"Timeout Error:\", err)\n",
      "    except requests.exceptions.RequestException as err:\n",
      "        print(\"Request Error\",err)\n",
      "        \n",
      "    print(\"[FINE]\\nURL: {}\\nID processo: {}\\nNome processo: {}\\nNome thread:\"\n",
      "        \"{}\\n\".format(url, id_processo, nome_processo, nome_thread))\n",
      "    \n",
      "    if coda is not None:\n",
      "        coda.put(testo)\n",
      "    else:\n",
      "        return testo\n",
      "\n"
     ]
    }
   ],
   "source": [
    "from msbd.scraping import ottieni_contenuto_url\n",
    "\n",
    "print(inspect.getsource(ottieni_contenuto_url))"
   ]
  },
  {
   "cell_type": "code",
   "execution_count": 61,
   "metadata": {},
   "outputs": [
    {
     "name": "stdout",
     "output_type": "stream",
     "text": [
      "[INIZIO]\n",
      "URL: https://www.didattica.unipd.it/off/2016/LT/SC/SC2094/000ZZ/SCP4063754/N0\n",
      "ID processo: 12216\n",
      "Nome processo: MainProcess\n",
      "Nome thread: MainThread\n",
      "\n",
      "[FINE]\n",
      "URL: https://www.didattica.unipd.it/off/2016/LT/SC/SC2094/000ZZ/SCP4063754/N0\n",
      "ID processo: 12216\n",
      "Nome processo: MainProcess\n",
      "Nome thread: MainThread\n",
      "\n"
     ]
    }
   ],
   "source": [
    "contenuto = ottieni_contenuto_url(\"https://www.didattica.unipd.it/off/2016/LT/SC/SC2094/000ZZ/SCP4063754/N0\")"
   ]
  },
  {
   "cell_type": "code",
   "execution_count": 70,
   "metadata": {},
   "outputs": [
    {
     "name": "stdout",
     "output_type": "stream",
     "text": [
      "Prime 5 righe non vuote:\n",
      "Didattica - Università degli Studi di Padova\n",
      "Vai alla navigazione\n",
      "Unipd.it\n",
      "Rubrica\n",
      "IT\n"
     ]
    }
   ],
   "source": [
    "N = 5\n",
    "\n",
    "righe_non_vuote = [c for c in contenuto.split(\"\\n\") if c.strip()]\n",
    "\n",
    "print(\"Prime {} righe non vuote:\".format(N) + (\"\\n{}\" * N).format(*righe_non_vuote[:N]))"
   ]
  },
  {
   "cell_type": "code",
   "execution_count": 94,
   "metadata": {},
   "outputs": [
    {
     "name": "stdout",
     "output_type": "stream",
     "text": [
      "def ottieni_contenuto_urls_sequenziale(urls):\n",
      "    # ============== YOUR CODE HERE ==============\n",
      "    contenuti = [ottieni_contenuto_url(url) for url in URLS]\n",
      "    # ============================================\n",
      "\n",
      "    return contenuti\n",
      "\n"
     ]
    }
   ],
   "source": [
    "from msbd.scraping import ottieni_contenuto_urls_sequenziale\n",
    "\n",
    "print(inspect.getsource(ottieni_contenuto_urls_sequenziale))"
   ]
  },
  {
   "cell_type": "markdown",
   "metadata": {},
   "source": [
    "### Esercizio\n",
    "\n",
    "Utilizzando *list comprehension* (o un ciclo *for*) e la funzione `ottieni_contenuto_url()` per completare la funzione `ottieni_contenuto_urls_sequenziale()` in `msbd/modello_lineare/scraping.py`."
   ]
  },
  {
   "cell_type": "code",
   "execution_count": 93,
   "metadata": {},
   "outputs": [],
   "source": [
    "URLS = [\n",
    "    \"https://www.didattica.unipd.it/off/2016/LT/SC/SC2094/000ZZ/SCP4063754/N0\",\n",
    "    \"https://stackoverflow.com/questions/3044580/multiprocessing-vs-threading-python\",\n",
    "    \"https://docs.python.org/3.6/library/threading.html\",\n",
    "    \"https://docs.python.org/3.6/library/multiprocessing.html\",\n",
    "]"
   ]
  },
  {
   "cell_type": "code",
   "execution_count": 97,
   "metadata": {},
   "outputs": [
    {
     "name": "stdout",
     "output_type": "stream",
     "text": [
      "[INIZIO]\n",
      "URL: https://www.didattica.unipd.it/off/2016/LT/SC/SC2094/000ZZ/SCP4063754/N0\n",
      "ID processo: 12216\n",
      "Nome processo: MainProcess\n",
      "Nome thread: MainThread\n",
      "\n",
      "[FINE]\n",
      "URL: https://www.didattica.unipd.it/off/2016/LT/SC/SC2094/000ZZ/SCP4063754/N0\n",
      "ID processo: 12216\n",
      "Nome processo: MainProcess\n",
      "Nome thread: MainThread\n",
      "\n",
      "[INIZIO]\n",
      "URL: https://stackoverflow.com/questions/3044580/multiprocessing-vs-threading-python\n",
      "ID processo: 12216\n",
      "Nome processo: MainProcess\n",
      "Nome thread: MainThread\n",
      "\n",
      "[FINE]\n",
      "URL: https://stackoverflow.com/questions/3044580/multiprocessing-vs-threading-python\n",
      "ID processo: 12216\n",
      "Nome processo: MainProcess\n",
      "Nome thread: MainThread\n",
      "\n",
      "[INIZIO]\n",
      "URL: https://docs.python.org/3.6/library/threading.html\n",
      "ID processo: 12216\n",
      "Nome processo: MainProcess\n",
      "Nome thread: MainThread\n",
      "\n",
      "[FINE]\n",
      "URL: https://docs.python.org/3.6/library/threading.html\n",
      "ID processo: 12216\n",
      "Nome processo: MainProcess\n",
      "Nome thread: MainThread\n",
      "\n",
      "[INIZIO]\n",
      "URL: https://docs.python.org/3.6/library/multiprocessing.html\n",
      "ID processo: 12216\n",
      "Nome processo: MainProcess\n",
      "Nome thread: MainThread\n",
      "\n",
      "[FINE]\n",
      "URL: https://docs.python.org/3.6/library/multiprocessing.html\n",
      "ID processo: 12216\n",
      "Nome processo: MainProcess\n",
      "Nome thread: MainThread\n",
      "\n",
      "Durata: 2.03s\n"
     ]
    }
   ],
   "source": [
    "inizio = time.time()\n",
    "\n",
    "# ============== YOUR CODE HERE ==============\n",
    "contenuti = ottieni_contenuto_urls_sequenziale(URLS)\n",
    "# ============================================\n",
    "\n",
    "fine = time.time()\n",
    "print(\"Durata: {:.2f}s\".format(fine - inizio))"
   ]
  },
  {
   "cell_type": "markdown",
   "metadata": {},
   "source": [
    "# Programmazione concorrente: *multithreading*"
   ]
  },
  {
   "cell_type": "code",
   "execution_count": 105,
   "metadata": {},
   "outputs": [
    {
     "name": "stdout",
     "output_type": "stream",
     "text": [
      "def ottieni_contenuto_urls_threading(urls):\n",
      "    coda = mp.Queue()\n",
      "\n",
      "    threads = [threading.Thread(target=ottieni_contenuto_url, args=(url, coda))\n",
      "        for url in urls]\n",
      "\n",
      "    for t in threads:\n",
      "        t.start()\n",
      "\n",
      "    contenuti = [coda.get() for t in threads]\n",
      "\n",
      "    for t in threads:\n",
      "        t.join() # blocca il MainThread finché t non è completato\n",
      "\n",
      "    return contenuti\n",
      "\n"
     ]
    }
   ],
   "source": [
    "from msbd.scraping import ottieni_contenuto_urls_threading\n",
    "\n",
    "print(inspect.getsource(ottieni_contenuto_urls_threading))"
   ]
  },
  {
   "cell_type": "code",
   "execution_count": 117,
   "metadata": {},
   "outputs": [
    {
     "name": "stdout",
     "output_type": "stream",
     "text": [
      "[INIZIO]\n",
      "URL: https://www.didattica.unipd.it/off/2016/LT/SC/SC2094/000ZZ/SCP4063754/N0\n",
      "ID processo: 12216\n",
      "Nome processo: MainProcess\n",
      "Nomethread: Thread-42\n",
      "\n",
      "[INIZIO]\n",
      "URL: https://stackoverflow.com/questions/3044580/multiprocessing-vs-threading-python\n",
      "ID processo: 12216\n",
      "Nome processo: MainProcess\n",
      "Nomethread: Thread-43\n",
      "\n",
      "[INIZIO]\n",
      "URL: https://docs.python.org/3.6/library/threading.html\n",
      "ID processo: 12216\n",
      "Nome processo: MainProcess\n",
      "Nomethread: Thread-44\n",
      "\n",
      "[INIZIO]\n",
      "URL: https://docs.python.org/3.6/library/multiprocessing.html\n",
      "ID processo: 12216\n",
      "Nome processo: MainProcess\n",
      "Nomethread: Thread-45\n",
      "\n",
      "[FINE]\n",
      "URL: https://www.didattica.unipd.it/off/2016/LT/SC/SC2094/000ZZ/SCP4063754/N0\n",
      "ID processo: 12216\n",
      "Nome processo: MainProcess\n",
      "Nomethread: Thread-42\n",
      "\n",
      "[FINE]\n",
      "URL: https://docs.python.org/3.6/library/threading.html\n",
      "ID processo: 12216\n",
      "Nome processo: MainProcess\n",
      "Nomethread: Thread-44\n",
      "\n",
      "[FINE]\n",
      "URL: https://stackoverflow.com/questions/3044580/multiprocessing-vs-threading-python\n",
      "ID processo: 12216\n",
      "Nome processo: MainProcess\n",
      "Nomethread: Thread-43\n",
      "\n",
      "[FINE]\n",
      "URL: https://docs.python.org/3.6/library/multiprocessing.html\n",
      "ID processo: 12216\n",
      "Nome processo: MainProcess\n",
      "Nomethread: Thread-45\n",
      "\n",
      "Durata: 1.46s\n"
     ]
    }
   ],
   "source": [
    "inizio = time.time()\n",
    "\n",
    "contenuti = ottieni_contenuto_urls_threading(URLS)\n",
    "\n",
    "fine = time.time()\n",
    "print(\"Durata: {:.2f}s\".format(fine - inizio))"
   ]
  },
  {
   "cell_type": "markdown",
   "metadata": {},
   "source": [
    "### Esercizio\n",
    "\n",
    "Descrivere cosa è cambiato rispetto all'esecuzione sequenziale."
   ]
  },
  {
   "cell_type": "code",
   "execution_count": null,
   "metadata": {},
   "outputs": [],
   "source": []
  },
  {
   "cell_type": "code",
   "execution_count": 128,
   "metadata": {
    "scrolled": true
   },
   "outputs": [
    {
     "name": "stdout",
     "output_type": "stream",
     "text": [
      "1.95 s ± 82.8 ms per loop (mean ± std. dev. of 7 runs, 1 loop each)\n"
     ]
    }
   ],
   "source": [
    "%timeit -r 7 -n 1 ottieni_contenuto_urls_sequenziale(URLS, verboso=False)"
   ]
  },
  {
   "cell_type": "code",
   "execution_count": 129,
   "metadata": {},
   "outputs": [
    {
     "name": "stdout",
     "output_type": "stream",
     "text": [
      "1.22 s ± 21.6 ms per loop (mean ± std. dev. of 7 runs, 1 loop each)\n"
     ]
    }
   ],
   "source": [
    "%timeit -r 7 -n 1 ottieni_contenuto_urls_threading(URLS, verboso=False)"
   ]
  },
  {
   "cell_type": "markdown",
   "metadata": {},
   "source": [
    "# Programmazione concorrente: *multiprocessing*"
   ]
  },
  {
   "cell_type": "code",
   "execution_count": 134,
   "metadata": {
    "scrolled": true
   },
   "outputs": [
    {
     "name": "stdout",
     "output_type": "stream",
     "text": [
      "# CPU: 4\n"
     ]
    }
   ],
   "source": [
    "n_cpu = mp.cpu_count()\n",
    "\n",
    "print(\"# CPU: {}\".format(n_cpu))"
   ]
  },
  {
   "cell_type": "code",
   "execution_count": 135,
   "metadata": {},
   "outputs": [
    {
     "name": "stdout",
     "output_type": "stream",
     "text": [
      "def ottieni_contenuto_urls_multiprocessing(urls, verboso=True):\n",
      "    # ============== YOUR CODE HERE ==============\n",
      "    coda = mp.Queue()\n",
      "\n",
      "    processi = [mp.Process(target=ottieni_contenuto_url, args=(url,),\n",
      "        kwargs={\"coda\": coda, \"verboso\": verboso}) for url in urls]\n",
      "\n",
      "    for p in processi:\n",
      "        p.start()\n",
      "\n",
      "    contenuti = [coda.get() for p in processi]\n",
      "\n",
      "    for p in processi:\n",
      "        p.join() # blocca il MainThread finché p non è completato\n",
      "    # ============================================\n",
      "\n",
      "    return contenuti\n",
      "\n"
     ]
    }
   ],
   "source": [
    "from msbd.scraping import ottieni_contenuto_urls_multiprocessing\n",
    "\n",
    "print(inspect.getsource(ottieni_contenuto_urls_multiprocessing))"
   ]
  },
  {
   "cell_type": "markdown",
   "metadata": {},
   "source": [
    "### Esercizio\n",
    "\n",
    "Completare la funzione `ottieni_contenuto_urls_multiprocessing()` in `msbd/modello_lineare/scraping.py`.\n",
    "\n",
    "> Suggerimento: imitare la funzione `ottieni_contenuto_urls_threading()` sostituendo alla classe `Thread` contenuta nella libreria `threading` la classe `Process` contenuta nella libreria `multiprocessing` (già importata in `scraping.py` come `mp`)."
   ]
  },
  {
   "cell_type": "code",
   "execution_count": 131,
   "metadata": {},
   "outputs": [
    {
     "name": "stdout",
     "output_type": "stream",
     "text": [
      "[INIZIO]\n",
      "URL: https://www.didattica.unipd.it/off/2016/LT/SC/SC2094/000ZZ/SCP4063754/N0\n",
      "ID processo: 12656\n",
      "Nome processo: Process-1\n",
      "Nomethread: MainThread\n",
      "\n",
      "[INIZIO]\n",
      "URL: https://stackoverflow.com/questions/3044580/multiprocessing-vs-threading-python\n",
      "ID processo: 12657\n",
      "Nome processo: Process-2\n",
      "Nomethread: MainThread\n",
      "[INIZIO]\n",
      "URL: https://docs.python.org/3.6/library/threading.html\n",
      "ID processo: 12658\n",
      "Nome processo: Process-3\n",
      "Nomethread: MainThread\n",
      "\n",
      "\n",
      "[INIZIO]\n",
      "URL: https://docs.python.org/3.6/library/multiprocessing.html\n",
      "ID processo: 12659\n",
      "Nome processo: Process-4\n",
      "Nomethread: MainThread\n",
      "\n",
      "[FINE]\n",
      "URL: https://docs.python.org/3.6/library/threading.html\n",
      "ID processo: 12658\n",
      "Nome processo: Process-3\n",
      "Nomethread: MainThread\n",
      "\n",
      "[FINE]\n",
      "URL: https://docs.python.org/3.6/library/multiprocessing.html\n",
      "ID processo: 12659\n",
      "Nome processo: Process-4\n",
      "Nomethread: MainThread\n",
      "\n",
      "[FINE]\n",
      "URL: https://stackoverflow.com/questions/3044580/multiprocessing-vs-threading-python\n",
      "ID processo: 12657\n",
      "Nome processo: Process-2\n",
      "Nomethread: MainThread\n",
      "\n",
      "[FINE]\n",
      "URL: https://www.didattica.unipd.it/off/2016/LT/SC/SC2094/000ZZ/SCP4063754/N0\n",
      "ID processo: 12656\n",
      "Nome processo: Process-1\n",
      "Nomethread: MainThread\n",
      "\n",
      "Durata: 2.31s\n"
     ]
    }
   ],
   "source": [
    "inizio = time.time()\n",
    "\n",
    "contenuti = ottieni_contenuto_urls_multiprocessing(URLS)\n",
    "\n",
    "fine = time.time()\n",
    "print(\"Durata: {:.2f}s\".format(fine - inizio))"
   ]
  },
  {
   "cell_type": "markdown",
   "metadata": {},
   "source": [
    "### Esercizio\n",
    "\n",
    "1. Descrivere le differenze rispetto al risultato ottenuto con l'approccio sequenziale;\n",
    "2. Descrivere le differenze rispetto al risultato ottenuto con l'approccio multi thread."
   ]
  },
  {
   "cell_type": "code",
   "execution_count": null,
   "metadata": {},
   "outputs": [],
   "source": []
  },
  {
   "cell_type": "markdown",
   "metadata": {},
   "source": [
    "### Esercizio\n",
    "\n",
    "Utilizzare il comando magico `%timeit` per calcolare il tempo di esecuzione di `ottieni_contenuto_urls_multiprocessing(URLS, verboso=False)`"
   ]
  },
  {
   "cell_type": "code",
   "execution_count": 132,
   "metadata": {},
   "outputs": [
    {
     "name": "stdout",
     "output_type": "stream",
     "text": [
      "1.37 s ± 191 ms per loop (mean ± std. dev. of 7 runs, 1 loop each)\n"
     ]
    }
   ],
   "source": [
    "%timeit -r 7 -n 1 ottieni_contenuto_urls_multiprocessing(URLS, verboso=False)"
   ]
  },
  {
   "cell_type": "code",
   "execution_count": 138,
   "metadata": {},
   "outputs": [],
   "source": [
    "import math"
   ]
  },
  {
   "cell_type": "code",
   "execution_count": 173,
   "metadata": {},
   "outputs": [],
   "source": [
    "def test_primalita(n):\n",
    "    return ((n >= 2) & all(n % i for i in range(2, n)))\n",
    "\n",
    "def conteggio_numeri_primi_in_un_insieme(insieme):\n",
    "    return sum(test_primalita(n) for n in insieme)"
   ]
  },
  {
   "cell_type": "code",
   "execution_count": 175,
   "metadata": {},
   "outputs": [
    {
     "name": "stdout",
     "output_type": "stream",
     "text": [
      "1.04 s ± 129 ms per loop (mean ± std. dev. of 7 runs, 1 loop each)\n"
     ]
    }
   ],
   "source": [
    "%timeit conteggio_numeri_primi_in_un_insieme(np.random.randint(0, 100000, size=1000))"
   ]
  },
  {
   "cell_type": "code",
   "execution_count": 179,
   "metadata": {},
   "outputs": [],
   "source": [
    "insiemi = [np.random.randint(0, 100000, size=1000) for _ in range(4)]"
   ]
  },
  {
   "cell_type": "code",
   "execution_count": 181,
   "metadata": {},
   "outputs": [
    {
     "name": "stdout",
     "output_type": "stream",
     "text": [
      "112\n",
      "80\n",
      "100\n",
      "115\n"
     ]
    }
   ],
   "source": [
    "for insieme in insiemi:\n",
    "    print(conteggio_numeri_primi_in_un_insieme(insieme))"
   ]
  },
  {
   "cell_type": "code",
   "execution_count": 208,
   "metadata": {},
   "outputs": [],
   "source": [
    "insiemi = [np.random.randint(50000, 100000, size=1000) for _ in range(12)]"
   ]
  },
  {
   "cell_type": "code",
   "execution_count": 209,
   "metadata": {},
   "outputs": [
    {
     "name": "stdout",
     "output_type": "stream",
     "text": [
      "28.5 s ± 0 ns per loop (mean ± std. dev. of 1 run, 1 loop each)\n"
     ]
    }
   ],
   "source": [
    "%%timeit -r 1\n",
    "\n",
    "pool = mp.Pool(processes=4)\n",
    "sum([pool.apply(conteggio_numeri_primi_in_un_insieme, args=(insieme,)) for insieme in insiemi])"
   ]
  },
  {
   "cell_type": "code",
   "execution_count": 210,
   "metadata": {},
   "outputs": [],
   "source": [
    "import math"
   ]
  },
  {
   "cell_type": "code",
   "execution_count": 212,
   "metadata": {},
   "outputs": [
    {
     "data": {
      "text/plain": [
       "153"
      ]
     },
     "execution_count": 212,
     "metadata": {},
     "output_type": "execute_result"
    }
   ],
   "source": [
    "sum(math.factorial(i) for i in range(1, 6))"
   ]
  },
  {
   "cell_type": "code",
   "execution_count": 207,
   "metadata": {},
   "outputs": [
    {
     "name": "stdout",
     "output_type": "stream",
     "text": [
      "5.68 s ± 0 ns per loop (mean ± std. dev. of 1 run, 1 loop each)\n"
     ]
    }
   ],
   "source": [
    "%timeit -r 1 sum([conteggio_numeri_primi_in_un_insieme(insieme) for insieme in insiemi])"
   ]
  },
  {
   "cell_type": "code",
   "execution_count": null,
   "metadata": {},
   "outputs": [],
   "source": [
    "def conta_numeri_primi_pool_apply(numeri, dormi={}, verboso=False, \n",
    "                            indices_or_sections=4, processes=mp.cpu_count()):\n",
    "    pool = mp.Pool(processes=processes)\n",
    "    \n",
    "    risultati = [pool.apply(conta_numeri_primi, args=(n, dormi, verboso)) \n",
    "                 for n in np.array_split(numeri, indices_or_sections)] \n",
    "    \n",
    "    return sum(risultati)\n",
    "\n",
    "def conta_numeri_primi_pool_apply_async(numeri, dormi={}, verboso=False, \n",
    "                            indices_or_sections=4, processes=mp.cpu_count()):\n",
    "    pool = mp.Pool(processes=processes)\n",
    "    \n",
    "    risultati = [pool.apply_async(conta_numeri_primi, args=(n, dormi, verboso)) \n",
    "                 for n in np.array_split(numeri, indices_or_sections)] \n",
    "    \n",
    "    return sum([p.get() for p in risultati])"
   ]
  },
  {
   "cell_type": "code",
   "execution_count": null,
   "metadata": {},
   "outputs": [],
   "source": [
    "n = conta_numeri_primi_pool_apply(numeri, verboso=True)\n",
    "\n",
    "print(\"\\n# numeri primi: {}\".format(n))"
   ]
  },
  {
   "cell_type": "code",
   "execution_count": null,
   "metadata": {},
   "outputs": [],
   "source": [
    "n = conta_numeri_primi_pool_apply_async(numeri, verboso=True)\n",
    "\n",
    "print(\"\\n# numeri primi: {}\".format(n))"
   ]
  },
  {
   "cell_type": "code",
   "execution_count": null,
   "metadata": {},
   "outputs": [],
   "source": [
    "%timeit -r 10 -n 1 conta_numeri_primi(numeri)"
   ]
  },
  {
   "cell_type": "code",
   "execution_count": null,
   "metadata": {},
   "outputs": [],
   "source": [
    "%timeit -r 10 -n 1 conta_numeri_primi_pool_apply(numeri, indices_or_sections=16)"
   ]
  },
  {
   "cell_type": "code",
   "execution_count": null,
   "metadata": {},
   "outputs": [],
   "source": [
    "%timeit -r 10 -n 1 conta_numeri_primi_pool_apply_async(numeri, indices_or_sections=16)"
   ]
  },
  {
   "cell_type": "code",
   "execution_count": null,
   "metadata": {},
   "outputs": [],
   "source": [
    "%timeit -r 10 -n 1 conta_numeri_primi_pool_apply_async(numeri, indices_or_sections=100)"
   ]
  },
  {
   "cell_type": "code",
   "execution_count": null,
   "metadata": {},
   "outputs": [],
   "source": [
    "%timeit -r 2 -n 1 conta_numeri_primi_parallelo(numeri, threading.Thread, dormi={0: 1})"
   ]
  },
  {
   "cell_type": "code",
   "execution_count": null,
   "metadata": {},
   "outputs": [],
   "source": [
    "%timeit -r 2 -n 1 conta_numeri_primi_parallelo(numeri, mp.Process, dormi={0: 1})"
   ]
  },
  {
   "cell_type": "code",
   "execution_count": null,
   "metadata": {},
   "outputs": [],
   "source": [
    "%timeit -r 10 -n 1 conta_numeri_primi_pool_apply(numeri, indices_or_sections=100)"
   ]
  },
  {
   "cell_type": "code",
   "execution_count": null,
   "metadata": {},
   "outputs": [],
   "source": [
    "%timeit -r 2 -n 1 conta_numeri_primi_pool_apply(numeri, dormi={0: 1}, indices_or_sections=16)"
   ]
  },
  {
   "cell_type": "code",
   "execution_count": null,
   "metadata": {},
   "outputs": [],
   "source": [
    "%timeit -r 2 -n 1 conta_numeri_primi_pool_apply_async(numeri, dormi={0: 1}, indices_or_sections=16)"
   ]
  },
  {
   "cell_type": "code",
   "execution_count": null,
   "metadata": {},
   "outputs": [],
   "source": [
    "%timeit -r 2 -n 1 conta_numeri_primi_pool_apply_async(numeri, dormi={0: 1}, indices_or_sections=16)"
   ]
  },
  {
   "cell_type": "code",
   "execution_count": null,
   "metadata": {},
   "outputs": [],
   "source": [
    "%timeit -r 10 -n 1 conta_numeri_primi_pool(numeri)"
   ]
  },
  {
   "cell_type": "code",
   "execution_count": null,
   "metadata": {},
   "outputs": [],
   "source": [
    "pool = mp.Pool(processes=4)\n",
    "\n",
    "risultati = [pool.apply_async(conta_numeri_primi, args=(n, {}, False)) \n",
    "             for n in np.array_split(numeri, 100)] \n",
    "sum([p.get() for p in risultati])"
   ]
  },
  {
   "cell_type": "code",
   "execution_count": null,
   "metadata": {},
   "outputs": [],
   "source": [
    "pool = mp.Pool(processes=4)\n",
    "results = [pool.apply_async(cube, args=(x,)) for x in range(1,7)]\n",
    "output = [p.get() for p in results]\n",
    "print(output)"
   ]
  }
 ],
 "metadata": {
  "kernelspec": {
   "display_name": "Python 3",
   "language": "python",
   "name": "python3"
  },
  "language_info": {
   "codemirror_mode": {
    "name": "ipython",
    "version": 3
   },
   "file_extension": ".py",
   "mimetype": "text/x-python",
   "name": "python",
   "nbconvert_exporter": "python",
   "pygments_lexer": "ipython3",
   "version": "3.6.7"
  }
 },
 "nbformat": 4,
 "nbformat_minor": 2
}
