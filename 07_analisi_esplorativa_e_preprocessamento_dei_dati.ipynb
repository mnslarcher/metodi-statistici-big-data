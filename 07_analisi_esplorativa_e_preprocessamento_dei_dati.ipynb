{
 "cells": [
  {
   "cell_type": "markdown",
   "metadata": {},
   "source": [
    "![under_construction](figures/under_construction.gif)"
   ]
  },
  {
   "cell_type": "markdown",
   "metadata": {},
   "source": [
    "I dati utilizzati in questo notebook sono stati presi dalla competizione di Analytics Vidhya [Practice Problem: Big Mart Sales III](https://datahack.analyticsvidhya.com/contest/practice-problem-big-mart-sales-iii/#data_dictionary)."
   ]
  },
  {
   "cell_type": "markdown",
   "metadata": {},
   "source": [
    "# Analisi esplorativa e preprocessamento dei dati"
   ]
  },
  {
   "cell_type": "markdown",
   "metadata": {},
   "source": [
    "## Indice"
   ]
  },
  {
   "cell_type": "code",
   "execution_count": null,
   "metadata": {},
   "outputs": [],
   "source": [
    "import inspect\n",
    "import matplotlib.pyplot as plt\n",
    "import numpy as np\n",
    "import pandas as pd\n",
    "\n",
    "%load_ext autoreload\n",
    "%autoreload 2"
   ]
  },
  {
   "cell_type": "markdown",
   "metadata": {},
   "source": [
    "# 1. Big Mart Sales"
   ]
  },
  {
   "cell_type": "markdown",
   "metadata": {},
   "source": [
    "## 1.1 Descrizione della competizione"
   ]
  },
  {
   "cell_type": "markdown",
   "metadata": {},
   "source": [
    "## Problem Statement\n",
    "\n",
    "The data scientists at BigMart have collected 2013 sales data for 1559 products across 10 stores in different cities. Also, certain attributes of each product and store have been defined. The aim is to build a predictive model and find out the sales of each product at a particular store.\n",
    "\n",
    "Using this model, BigMart will try to understand the properties of products and stores which play a key role in increasing sales.\n",
    "\n",
    " \n",
    "\n",
    "Please note that the data may have missing values as some stores might not report all the data due to technical glitches. Hence, it will be required to treat them accordingly."
   ]
  },
  {
   "cell_type": "markdown",
   "metadata": {},
   "source": [
    "## Data\n",
    "\n",
    "We have train (8523) and test (5681) data set, train data set has both input and output variable(s). You need to predict the sales for test data set.\n",
    "\n",
    "|**Variable**                 | Description                                              |\n",
    "|-----------------------------|----------------------------------------------------------|\n",
    "|**Item_Identifier**          | Unique product ID                                        |\n",
    "|**Item_Weight**              | Weight of product                                        |\n",
    "|**Item_Fat_Content**         | Whether the product is low fat or not                    |\n",
    "|**Item_Visibility**          | The % of total display area of all products in a store allocated<br/>to the particular product|\n",
    "|**Item_Type**                |The category to which the product belongs                 |\n",
    "|**Item_MRP**                 |Maximum Retail Price (list price) of the product          |\n",
    "|**Outlet_Identifier**        |Unique store ID                                           |\n",
    "|**Outlet_Establishment_Year**|The year in which store was established                   |\n",
    "|**Outlet_Size**              |The size of the store in terms of ground area covered     |\n",
    "|**Outlet_Location_Type**     |The type of city in which the store is located            |\n",
    "|**Outlet_Type**              |Whether the outlet is just a grocery store or some sort of<br/>supermarket|\n",
    "|**Item_Outlet_Sales**        |Sales of the product in the particulat store. This is the outcome variable<br/>to be predicted|"
   ]
  },
  {
   "cell_type": "markdown",
   "metadata": {},
   "source": [
    "### Evaluation Metric\n",
    "\n",
    "Your model performance will be evaluated on the basis of your prediction of the sales for the test data (test.csv), which contains similar data-points as train except for the sales to be predicted. Your submission needs to be in the format as shown in \"SampleSubmission.csv\".\n",
    "\n",
    "We at our end, have the actual sales for the test dataset, against which your predictions will be evaluated. We will use the Root Mean Square Error value to judge your response.\n",
    "\n",
    "$\n",
    "RMSE = \\sqrt{\\frac{\\sum_{i=1}^N(Predicted_i - Actual_i)^2}{N}}\n",
    "$\n",
    "\n",
    "Where,\n",
    "$N$: total number of observations\n",
    "Predicted: the response entered by user\n",
    "Actual: actual values of sales\n",
    "\n",
    "Also, note that the test data is further divided into Public (25%) and Private (75%) data. Your initial responses will be checked and scored on the Public data. But, the final rankings will be based on score on Private data set. Since this is a practice problem, we will keep declare winners after specific time intervals and refresh the competition."
   ]
  },
  {
   "cell_type": "markdown",
   "metadata": {},
   "source": [
    "## 1.2 Leggere i dati e separare la variabile risposta"
   ]
  },
  {
   "cell_type": "markdown",
   "metadata": {},
   "source": [
    "### Leggere i dati"
   ]
  },
  {
   "cell_type": "code",
   "execution_count": null,
   "metadata": {},
   "outputs": [],
   "source": [
    "data = pd.read_csv(\"datasets/big_mart_sales/Train_UWu5bXk.csv\")\n",
    "print(\"Dimensione del dataset: {} x {}\".format(*data.shape))\n",
    "data.head()"
   ]
  },
  {
   "cell_type": "markdown",
   "metadata": {},
   "source": [
    "### Dividere le variabili esplicative dalla variabile risposta"
   ]
  },
  {
   "cell_type": "code",
   "execution_count": null,
   "metadata": {},
   "outputs": [],
   "source": [
    "risposta = \"Item_Outlet_Sales\"\n",
    "esplicative = sorted(col for col in data.columns if col != risposta)\n",
    "\n",
    "X, y = data[esplicative].copy(), data[risposta].copy()"
   ]
  },
  {
   "cell_type": "markdown",
   "metadata": {},
   "source": [
    "# 2. Analisi esplorativa: studiare le variabili esplicative"
   ]
  },
  {
   "cell_type": "markdown",
   "metadata": {},
   "source": [
    "## 2.1 Dividere le variabili quantitative dalle variabili qualitative"
   ]
  },
  {
   "cell_type": "markdown",
   "metadata": {},
   "source": [
    "### Controllare i `dtypes` delle colonne"
   ]
  },
  {
   "cell_type": "code",
   "execution_count": null,
   "metadata": {},
   "outputs": [],
   "source": [
    "X.dtypes"
   ]
  },
  {
   "cell_type": "markdown",
   "metadata": {},
   "source": [
    "### Salvare i nomi delle colonne in due liste distinte"
   ]
  },
  {
   "cell_type": "code",
   "execution_count": null,
   "metadata": {},
   "outputs": [],
   "source": [
    "quantitative = X.select_dtypes(include=[\"int64\", \"float64\"]).columns.tolist()\n",
    "qualitative = X.select_dtypes(include=[\"object\"]).columns.tolist()"
   ]
  },
  {
   "cell_type": "markdown",
   "metadata": {},
   "source": [
    "## 2.2 Variabili quantitative"
   ]
  },
  {
   "cell_type": "code",
   "execution_count": null,
   "metadata": {},
   "outputs": [],
   "source": [
    "X[quantitative].head()"
   ]
  },
  {
   "cell_type": "markdown",
   "metadata": {},
   "source": [
    "### Contare i valori mancanti"
   ]
  },
  {
   "cell_type": "code",
   "execution_count": null,
   "metadata": {},
   "outputs": [],
   "source": [
    "X[quantitative].isnull().sum()"
   ]
  },
  {
   "cell_type": "markdown",
   "metadata": {},
   "source": [
    "### Descrivere le variabili"
   ]
  },
  {
   "cell_type": "code",
   "execution_count": null,
   "metadata": {},
   "outputs": [],
   "source": [
    "X.describe() # nota: vengono automaticamente considerate solo le colonne numeriche"
   ]
  },
  {
   "cell_type": "markdown",
   "metadata": {},
   "source": [
    "## 2.3 Variabili qualitative"
   ]
  },
  {
   "cell_type": "code",
   "execution_count": null,
   "metadata": {},
   "outputs": [],
   "source": [
    "X[qualitative].head()"
   ]
  },
  {
   "cell_type": "markdown",
   "metadata": {},
   "source": [
    "### Contare i valori mancanti"
   ]
  },
  {
   "cell_type": "code",
   "execution_count": null,
   "metadata": {},
   "outputs": [],
   "source": [
    "X[qualitative].isnull().sum()"
   ]
  },
  {
   "cell_type": "markdown",
   "metadata": {},
   "source": [
    "### Contare il numero di livelli"
   ]
  },
  {
   "cell_type": "code",
   "execution_count": null,
   "metadata": {},
   "outputs": [],
   "source": [
    "X[qualitative].nunique()"
   ]
  },
  {
   "cell_type": "markdown",
   "metadata": {},
   "source": [
    "### Contare il numero di osservazioni per ogni livello"
   ]
  },
  {
   "cell_type": "code",
   "execution_count": null,
   "metadata": {
    "scrolled": false
   },
   "outputs": [],
   "source": [
    "for col in qualitative:\n",
    "    display(X[col].value_counts().head(16))"
   ]
  },
  {
   "cell_type": "markdown",
   "metadata": {},
   "source": [
    "### Esercizio\n",
    "\n",
    "Elencare quanto scoperto grazie all'analisi esplorativa."
   ]
  },
  {
   "cell_type": "code",
   "execution_count": null,
   "metadata": {},
   "outputs": [],
   "source": []
  },
  {
   "cell_type": "markdown",
   "metadata": {},
   "source": [
    "### Esercizio\n",
    "\n",
    "Esplorare le variabili esplicative graficamente (istogrammi, boxplot, ...).\n",
    "\n",
    "> Suggerimento: considerare le librerie [Matplotlib](https://matplotlib.org/), [Seaborn](https://seaborn.pydata.org/) o, per grafici interattivi, [Bokeh](https://bokeh.pydata.org/en/latest/)."
   ]
  },
  {
   "cell_type": "code",
   "execution_count": null,
   "metadata": {},
   "outputs": [],
   "source": []
  },
  {
   "cell_type": "markdown",
   "metadata": {},
   "source": [
    "# 3. Preprocessare i dati"
   ]
  },
  {
   "cell_type": "markdown",
   "metadata": {},
   "source": [
    "## 3.1 Riempire i valori mancanti"
   ]
  },
  {
   "cell_type": "markdown",
   "metadata": {},
   "source": [
    "### Studio della relazione tra *Item_Identifier* e *Item_Weight*"
   ]
  },
  {
   "cell_type": "code",
   "execution_count": null,
   "metadata": {},
   "outputs": [],
   "source": [
    "weight_grby_id = X[[\"Item_Identifier\", \"Item_Weight\"]].groupby(\"Item_Identifier\").\\\n",
    "    agg([\"count\", \"min\", \"max\", \"mean\"])[\"Item_Weight\"]\n",
    "weight_grby_id.sort_values(\"count\", inplace=True, ascending=False)\n",
    "\n",
    "print(\"Item_Identifier senza nemmeno un Item_Weight associato: {}\".format((weight_grby_id[\"count\"] == 0).sum()))\n",
    "weight_grby_id.head()"
   ]
  },
  {
   "cell_type": "markdown",
   "metadata": {},
   "source": [
    "### Riempire i valori mancanti di *Item_Weight*"
   ]
  },
  {
   "cell_type": "code",
   "execution_count": null,
   "metadata": {},
   "outputs": [],
   "source": [
    "from msbd.preprocessamento import RiempireNAItemWeight\n",
    "\n",
    "print(inspect.getsource(RiempireNAItemWeight))"
   ]
  },
  {
   "cell_type": "code",
   "execution_count": null,
   "metadata": {},
   "outputs": [],
   "source": [
    "print(\"Valori mancanti di Item_Weight prima della sostituzione: {}\".format(X[\"Item_Weight\"].isnull().sum()))\n",
    "\n",
    "riempire_na_item_weight = RiempireNAItemWeight()\n",
    "\n",
    "X = riempire_na_item_weight.fit_transform(X)\n",
    "\n",
    "print(\"Valori mancanti di Item_Weight dopo della sostituzione: {}\".format(X[\"Item_Weight\"].isnull().sum()))"
   ]
  },
  {
   "cell_type": "markdown",
   "metadata": {},
   "source": [
    "### Studiare la relazione tra *Outlet_Location_Type* e *Outlet_Size*"
   ]
  },
  {
   "cell_type": "code",
   "execution_count": null,
   "metadata": {},
   "outputs": [],
   "source": [
    "size_grby_location = X.groupby(\"Outlet_Location_Type\")[\"Outlet_Size\"].value_counts().unstack().fillna(0)\n",
    "\n",
    "size_grby_location"
   ]
  },
  {
   "cell_type": "markdown",
   "metadata": {},
   "source": [
    "### Studiare la relazione tra *Outlet_Type* e *Outlet_Size*"
   ]
  },
  {
   "cell_type": "code",
   "execution_count": null,
   "metadata": {},
   "outputs": [],
   "source": [
    "size_grby_type = X.groupby(\"Outlet_Type\")[\"Outlet_Size\"].value_counts().unstack().fillna(0)\n",
    "\n",
    "size_grby_type"
   ]
  },
  {
   "cell_type": "markdown",
   "metadata": {},
   "source": [
    "### Riempire i valori mancanti di *Outlet_Size*"
   ]
  },
  {
   "cell_type": "code",
   "execution_count": null,
   "metadata": {},
   "outputs": [],
   "source": [
    "from msbd.preprocessamento import RiempireNAOutletSize\n",
    "\n",
    "print(inspect.getsource(RiempireNAOutletSize))"
   ]
  },
  {
   "cell_type": "code",
   "execution_count": null,
   "metadata": {},
   "outputs": [],
   "source": [
    "print(\"Valori mancanti di Outlet_Size prima della sostituzione: {}\".format(X[\"Outlet_Size\"].isnull().sum()))\n",
    "\n",
    "riempire_na_outlet_size = RiempireNAOutletSize()\n",
    "\n",
    "X = riempire_na_outlet_size.fit_transform(X)\n",
    "\n",
    "print(\"Valori mancanti di Outlet_Size dopo della sostituzione: {}\".format(X[\"Outlet_Size\"].isnull().sum()))"
   ]
  },
  {
   "cell_type": "markdown",
   "metadata": {},
   "source": [
    "### Riempire gli ultimi valori mancanti rimasti utilizzando la media"
   ]
  },
  {
   "cell_type": "code",
   "execution_count": null,
   "metadata": {},
   "outputs": [],
   "source": [
    "from msbd.preprocessamento import RiempireNAMedia\n",
    "\n",
    "print(inspect.getsource(RiempireNAMedia))"
   ]
  },
  {
   "cell_type": "code",
   "execution_count": null,
   "metadata": {},
   "outputs": [],
   "source": [
    "print(\"Valori mancanti prima della sostituzione: \\n{}\".format(X.isnull().sum()))\n",
    "\n",
    "riempire_na_media = RiempireNAMedia()\n",
    "\n",
    "X = riempire_na_media.fit_transform(X)\n",
    "\n",
    "print(\"\\nValori mancanti dopo della sostituzione: \\n{}\".format(X.isnull().sum()))"
   ]
  },
  {
   "cell_type": "markdown",
   "metadata": {},
   "source": [
    "## 3.2 Aggregare i livelli simili delle variabili qualitative"
   ]
  },
  {
   "cell_type": "markdown",
   "metadata": {},
   "source": [
    "### Aggregare i livelli simili di *Item_Fat_Content*"
   ]
  },
  {
   "cell_type": "code",
   "execution_count": null,
   "metadata": {},
   "outputs": [],
   "source": [
    "from msbd.preprocessamento import Sostituire\n",
    "\n",
    "print(inspect.getsource(Sostituire))"
   ]
  },
  {
   "cell_type": "markdown",
   "metadata": {},
   "source": [
    "### Esercizio\n",
    "\n",
    "Definire il dizionario `to_replace`, da utilizzare per inizializzare l'istanza della classe `Sostituire`, con lo scopo di aggregare i livelli simili di *Item_Fat_Content*."
   ]
  },
  {
   "cell_type": "code",
   "execution_count": null,
   "metadata": {},
   "outputs": [],
   "source": [
    "to_replace = {\"Item_Fat_Content\": {\"LF\": \"Low Fat\", \"low fat\": \"Low Fat\", \"reg\": \"Regular\"}}"
   ]
  },
  {
   "cell_type": "code",
   "execution_count": null,
   "metadata": {},
   "outputs": [],
   "source": [
    "print(\"Livelli prima della sostituzione: {}\".format(X[\"Item_Fat_Content\"].unique()))\n",
    "\n",
    "sostituire_item_fat_content = Sostituire(to_replace)\n",
    "\n",
    "X = sostituire_item_fat_content.fit_transform(X)\n",
    "\n",
    "print(\"Livelli dopo la sostituzione: {}\".format(X[\"Item_Fat_Content\"].unique()))"
   ]
  },
  {
   "cell_type": "markdown",
   "metadata": {},
   "source": [
    "## 3.3 Eliminare le colonne che non si intendono utilizzare"
   ]
  },
  {
   "cell_type": "markdown",
   "metadata": {},
   "source": [
    "### Eliminare *Item_Identifier*"
   ]
  },
  {
   "cell_type": "code",
   "execution_count": null,
   "metadata": {},
   "outputs": [],
   "source": [
    "from msbd.preprocessamento import Eliminare\n",
    "\n",
    "print(inspect.getsource(Eliminare))"
   ]
  },
  {
   "cell_type": "code",
   "execution_count": null,
   "metadata": {
    "scrolled": true
   },
   "outputs": [],
   "source": [
    "elim = Eliminare(\"Item_Identifier\")\n",
    "\n",
    "X = elim.fit_transform(X)\n",
    "\n",
    "esplicative.remove(\"Item_Identifier\")\n",
    "qualitative.remove(\"Item_Identifier\")"
   ]
  },
  {
   "cell_type": "markdown",
   "metadata": {},
   "source": [
    "# 4. Ottenere e salvare gli indici degli insiemi *training*, *validation* e *test*"
   ]
  },
  {
   "cell_type": "markdown",
   "metadata": {},
   "source": [
    "## 4.1 Ottenere gli indici degli insiemi di *training*, *validation* e *test*"
   ]
  },
  {
   "cell_type": "code",
   "execution_count": null,
   "metadata": {},
   "outputs": [],
   "source": [
    "from sklearn.model_selection import train_test_split\n",
    "\n",
    "idx_train, idx_test = train_test_split(y.index.values, test_size=1000)\n",
    "idx_train, idx_val = train_test_split(idx_train, test_size=1000)\n",
    "\n",
    "print(\"Dimensione del training set: {}\".format(len(idx_train)))\n",
    "print(\"Dimensione del validation set: {}\".format(len(idx_val)))\n",
    "print(\"Dimensione del test set: {}\".format(len(idx_test)))"
   ]
  },
  {
   "cell_type": "markdown",
   "metadata": {},
   "source": [
    "## 4.2 Salvare gli indici di *training*, *validation* e *test*"
   ]
  },
  {
   "cell_type": "code",
   "execution_count": null,
   "metadata": {},
   "outputs": [],
   "source": [
    "FILE = \"datasets/big_mart_sales/{}.npy\"\n",
    "\n",
    "np.save(FILE.format(\"idx_train\"), idx_train)\n",
    "np.save(FILE.format(\"idx_val\"), idx_val)\n",
    "np.save(FILE.format(\"idx_test\"), idx_test)"
   ]
  },
  {
   "cell_type": "markdown",
   "metadata": {},
   "source": [
    "# 5. Analisi esplorativa: studiare la relazione tra variabili esplicative e variabile risposta"
   ]
  },
  {
   "cell_type": "markdown",
   "metadata": {},
   "source": [
    "<div class=\"alert alert-danger fade in\">\n",
    "<strong>IMPORTANTE</strong>: Le analisi relative (anche) alla variabile risposta vanno effettuate utilizzando solo l'insieme di <em>training</em>. Utilizzare in questa fase anche gli insiemi di <em>validation</em> e/o di <em>test</em> può inficiare in modo più o meno grave le conclusioni che si traggono su di essi.\n",
    "</div>"
   ]
  },
  {
   "cell_type": "markdown",
   "metadata": {},
   "source": [
    "## 5.1 Variabili quantitative"
   ]
  },
  {
   "cell_type": "markdown",
   "metadata": {},
   "source": [
    "### Esercizio\n",
    "\n",
    "Studiare la relazione tra variabili quantitative e variabile risposta."
   ]
  },
  {
   "cell_type": "code",
   "execution_count": null,
   "metadata": {},
   "outputs": [],
   "source": []
  },
  {
   "cell_type": "markdown",
   "metadata": {},
   "source": [
    "## 5.2 Variabili qualitative"
   ]
  },
  {
   "cell_type": "code",
   "execution_count": null,
   "metadata": {},
   "outputs": [],
   "source": [
    "from msbd.grafici import grafico_barre_qualitative_risposta\n",
    "\n",
    "print(inspect.getsource(grafico_barre_qualitative_risposta))"
   ]
  },
  {
   "cell_type": "code",
   "execution_count": null,
   "metadata": {},
   "outputs": [],
   "source": [
    "plt.figure(figsize=(10, 10))\n",
    "\n",
    "grafico_barre_qualitative_risposta(X.loc[idx_train], y.loc[idx_train], qualitative, n_columns=2)\n",
    "\n",
    "plt.show()"
   ]
  },
  {
   "cell_type": "markdown",
   "metadata": {},
   "source": [
    "# 6. Trasformare le variabili qualitative in dummy"
   ]
  },
  {
   "cell_type": "code",
   "execution_count": null,
   "metadata": {},
   "outputs": [],
   "source": [
    "from msbd.preprocessamento import OttenereDummy\n",
    "\n",
    "print(inspect.getsource(OttenereDummy))"
   ]
  },
  {
   "cell_type": "markdown",
   "metadata": {},
   "source": [
    "### Esercizio\n",
    "\n",
    "Per come è definito, il metodo `fit()` della classe `OttenereDummy` crea le variabili dummy solo per salvarne i nomi. Ottenere lo stesso risultato senza utilizzare la funzione `get_dummies()` e senza creare le dummy in `fit()` (le dummy verranno create in `transform()`)."
   ]
  },
  {
   "cell_type": "code",
   "execution_count": null,
   "metadata": {},
   "outputs": [],
   "source": [
    "print(\"X prima della creazione delle variabili dummy:\")\n",
    "display(X.head(2))\n",
    "\n",
    "od = OttenereDummy(drop_first=True)\n",
    "\n",
    "X = od.fit_transform(X)\n",
    "\n",
    "print(\"\\nX dopo la creazione delle variabili dummy:\")\n",
    "X.head(2)"
   ]
  },
  {
   "cell_type": "markdown",
   "metadata": {},
   "source": [
    "### Esercizio\n",
    "\n",
    "Perché abbiamo scelto `drop_first=True`?"
   ]
  },
  {
   "cell_type": "code",
   "execution_count": null,
   "metadata": {},
   "outputs": [],
   "source": []
  },
  {
   "cell_type": "markdown",
   "metadata": {},
   "source": [
    "# 7. Pipeline di preprocessamento"
   ]
  },
  {
   "cell_type": "code",
   "execution_count": null,
   "metadata": {},
   "outputs": [],
   "source": [
    "from sklearn.pipeline import Pipeline"
   ]
  },
  {
   "cell_type": "markdown",
   "metadata": {},
   "source": [
    "## 7.1 Definire una `Pipeline()`"
   ]
  },
  {
   "cell_type": "code",
   "execution_count": null,
   "metadata": {},
   "outputs": [],
   "source": [
    "preproc = Pipeline([\n",
    "    (\"riempire_na_item_weight\", RiempireNAItemWeight()),\n",
    "    (\"riempire_na_outlet_size\", RiempireNAOutletSize()),\n",
    "    (\"riempire_na_media\", RiempireNAMedia()),\n",
    "    (\"eliminare_item_identifier\", Eliminare(columns=\"Item_Identifier\")),\n",
    "    (\"ottenere_dummy\", OttenereDummy(drop_first=True)),\n",
    "])"
   ]
  },
  {
   "cell_type": "markdown",
   "metadata": {},
   "source": [
    "## 7.2 Trasformare i dati attraverso la pipeline"
   ]
  },
  {
   "cell_type": "code",
   "execution_count": null,
   "metadata": {},
   "outputs": [],
   "source": [
    "print(\"Dati 'grezzi':\")\n",
    "display(data.head(2))\n",
    "\n",
    "data_preproc = preproc.fit_transform(data)\n",
    "\n",
    "print(\"Dati preprocessati:\")\n",
    "data_preproc.head(2)"
   ]
  },
  {
   "cell_type": "markdown",
   "metadata": {},
   "source": [
    "### Esercizio\n",
    "\n",
    "Verificare che la pipeline costruita applichi tutte le trasformazioni viste in questo notebook analizzando `data_preproc`."
   ]
  },
  {
   "cell_type": "code",
   "execution_count": null,
   "metadata": {},
   "outputs": [],
   "source": []
  },
  {
   "cell_type": "markdown",
   "metadata": {},
   "source": [
    "## 7.3 Salvare i dati trasformati e la pipeline definita"
   ]
  },
  {
   "cell_type": "code",
   "execution_count": null,
   "metadata": {},
   "outputs": [],
   "source": []
  }
 ],
 "metadata": {
  "kernelspec": {
   "display_name": "Python 3",
   "language": "python",
   "name": "python3"
  },
  "language_info": {
   "codemirror_mode": {
    "name": "ipython",
    "version": 3
   },
   "file_extension": ".py",
   "mimetype": "text/x-python",
   "name": "python",
   "nbconvert_exporter": "python",
   "pygments_lexer": "ipython3",
   "version": "3.6.7"
  }
 },
 "nbformat": 4,
 "nbformat_minor": 2
}
