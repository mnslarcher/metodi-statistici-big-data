{
 "cells": [
  {
   "cell_type": "markdown",
   "metadata": {},
   "source": [
    "![under_construction](figures/under_construction.gif)"
   ]
  },
  {
   "cell_type": "markdown",
   "metadata": {},
   "source": [
    "I dati utilizzati in questo notebook sono stati presi dalla competizione di Analytics Vidhya [Practice Problem: Big Mart Sales III](https://datahack.analyticsvidhya.com/contest/practice-problem-big-mart-sales-iii/#data_dictionary).\n",
    "\n",
    "### Riferimenti bibliografici:\n",
    "\n",
    "* Azzalini, A. &  Scarpa B. (2012), [Data Analysis and Data Mining: An Introduction](https://global.oup.com/academic/product/data-analysis-and-data-mining-9780199767106?q=Data%20Mining&lang=en&cc=it).\n",
    "* Hastie, T.; Tibshirani, R. & Friedman, J. (2009), [The Elements of Statistical Learning](https://web.stanford.edu/~hastie/ElemStatLearn/)."
   ]
  },
  {
   "cell_type": "markdown",
   "metadata": {},
   "source": [
    "# Regressione stepwise, LASSO e Ridge"
   ]
  },
  {
   "cell_type": "markdown",
   "metadata": {},
   "source": [
    "## Indice"
   ]
  },
  {
   "cell_type": "markdown",
   "metadata": {},
   "source": [
    "1. [](#)<br />\n",
    "    1.1 [](#)<br />"
   ]
  },
  {
   "cell_type": "code",
   "execution_count": null,
   "metadata": {},
   "outputs": [],
   "source": [
    "import os\n",
    "import seaborn as sns\n",
    "import warnings\n",
    "\n",
    "warnings.filterwarnings(\"ignore\")"
   ]
  },
  {
   "cell_type": "code",
   "execution_count": null,
   "metadata": {},
   "outputs": [],
   "source": [
    "import inspect\n",
    "import matplotlib.pyplot as plt\n",
    "import numpy as np\n",
    "import pandas as pd\n",
    "\n",
    "%load_ext autoreload\n",
    "%autoreload 2"
   ]
  },
  {
   "cell_type": "markdown",
   "metadata": {},
   "source": [
    "> Nota: per la descrizione del problema e dei dati vedere il notebook 07_analisi_esplorativa_e_preprocessamento_dei_dati.ipynb."
   ]
  },
  {
   "cell_type": "code",
   "execution_count": null,
   "metadata": {},
   "outputs": [],
   "source": [
    "PATH = \"output/07/\"\n",
    "\n",
    "X_train = pd.read_pickle(PATH + \"/X_train.pkl\")\n",
    "X_val = pd.read_pickle(PATH + \"/X_val.pkl\")\n",
    "X_test = pd.read_pickle(PATH + \"/X_test.pkl\")\n",
    "y_train = pd.read_pickle(PATH + \"/y_train.pkl\")\n",
    "y_val = pd.read_pickle(PATH + \"/y_val.pkl\")\n",
    "y_test = pd.read_pickle(PATH + \"/y_test.pkl\")"
   ]
  },
  {
   "cell_type": "markdown",
   "metadata": {},
   "source": [
    "# Alcune definizioni utili"
   ]
  },
  {
   "cell_type": "markdown",
   "metadata": {},
   "source": [
    "Sia $y_i$ l'osservazione i-esima della variabile risposta, $\\overline{y}$ la media degli $y_i$ e $\\hat{y}_i$ la stima di $y_i$ data dal modello, si definiscono le seguenti quantità:\n",
    "\n",
    "**Somma dei quadrati dei residui**:\n",
    "$$\n",
    "\\mathrm{RSS} = \\sum\\limits_{i=1}^n(y_i - \\hat{y}_i)^2\n",
    "$$\n",
    "\n",
    "**Somma dei quadrati totale**:\n",
    "$$\n",
    "\\mathrm{TSS} = \\sum\\limits_{i=1}^n(y_i - \\overline{y}_i)^2\n",
    "$$\n",
    "\n",
    "**Coefficiente di determinazione**:\n",
    "$$\n",
    "R^2 = 1 - \\frac{\\mathrm{RSS}}{\\mathrm{TSS}}\n",
    "$$\n",
    "\n",
    "**Errore quadratico medio / stima della varianza dei residui**:\n",
    "$$\n",
    "\\mathrm{MSE} = \\hat{\\sigma}^2 = \\frac{\\mathrm{RSS}}{n}\n",
    "$$\n",
    "\n",
    "**Radice dell'errore quadratico medio**:\n",
    "$$\n",
    "\\mathrm{RMSE} = \\sqrt{\\mathrm{MSE}}\n",
    "$$\n",
    "\n",
    "**Criterio d'informazione di Akaike**:\n",
    "$$\n",
    "\\mathrm{AIC} = 2k - 2\\ln(\\hat{L})\n",
    "$$\n",
    "\n",
    "**Vaolore massimo della log-verosimiglianza, caso errori i.i.d. $\\sim{\\mathcal{N}}(0,\\sigma)$**:\n",
    "$$\n",
    "\\ln{(\\hat{L})} = -\\frac{n}{2}\\ln(2\\pi) - \\frac{n}{2}\\ln({\\hat{\\sigma}}^2) - \\frac{1}{2{\\hat{\\sigma}}^2}\\mathrm{RSS}\n",
    "$$"
   ]
  },
  {
   "cell_type": "markdown",
   "metadata": {},
   "source": [
    "# Decidere la metrica in base a cui valutare il modello"
   ]
  },
  {
   "cell_type": "markdown",
   "metadata": {},
   "source": [
    "### Evaluation Metric\n",
    "​\n",
    "Your model performance will be evaluated on the basis of your prediction of the sales for the test data (test.csv), which contains similar data-points as train except for the sales to be predicted. Your submission needs to be in the format as shown in \"SampleSubmission.csv\".\n",
    "​\n",
    "We at our end, have the actual sales for the test dataset, against which your predictions will be evaluated. We will use the Root Mean Square Error value to judge your response.\n",
    "​\n",
    "$\n",
    "RMSE = \\sqrt{\\frac{\\sum_{i=1}^N(Predicted_i - Actual_i)^2}{N}}\n",
    "$\n",
    "​\n",
    "Where,\n",
    "$N$: total number of observations\n",
    "Predicted: the response entered by user\n",
    "Actual: actual values of sales\n",
    "​\n",
    "Also, note that the test data is further divided into Public (25%) and Private (75%) data. Your initial responses will be checked and scored on the Public data. But, the final rankings will be based on score on Private data set. Since this is a practice problem, we will keep declare winners after specific time intervals and refresh the competition."
   ]
  },
  {
   "cell_type": "code",
   "execution_count": null,
   "metadata": {},
   "outputs": [],
   "source": [
    "from msbd.metriche import radice_errore_quadratico_medio\n",
    "\n",
    "print(inspect.getsource(radice_errore_quadratico_medio))"
   ]
  },
  {
   "cell_type": "markdown",
   "metadata": {},
   "source": [
    "# Creare una baseline"
   ]
  },
  {
   "cell_type": "markdown",
   "metadata": {},
   "source": [
    "## `DummyRegressor()`"
   ]
  },
  {
   "cell_type": "code",
   "execution_count": null,
   "metadata": {},
   "outputs": [],
   "source": [
    "from sklearn.dummy import DummyRegressor"
   ]
  },
  {
   "cell_type": "code",
   "execution_count": null,
   "metadata": {},
   "outputs": [],
   "source": [
    "dr = DummyRegressor(strategy='mean')\n",
    "dr.fit(X_train, y_train)\n",
    "\n",
    "print(\"RMSE training: {:.2f}\".format(radice_errore_quadratico_medio(y_train, dr.predict(X_train))))\n",
    "print(\"RMSE validation: {:.2f}\".format(radice_errore_quadratico_medio(y_val, dr.predict(X_val))))"
   ]
  },
  {
   "cell_type": "markdown",
   "metadata": {},
   "source": [
    "## `LinearRegression()`"
   ]
  },
  {
   "cell_type": "markdown",
   "metadata": {},
   "source": [
    "> Nota: per un'implementazione del modello lineare e un summary più vicini a quelli di R considerare la classe [`OLS()`](https://www.statsmodels.org/dev/generated/statsmodels.regression.linear_model.OLS.html) di [`statsmodels`](https://www.statsmodels.org/stable/index.html)."
   ]
  },
  {
   "cell_type": "code",
   "execution_count": null,
   "metadata": {},
   "outputs": [],
   "source": [
    "from sklearn.linear_model import LinearRegression"
   ]
  },
  {
   "cell_type": "code",
   "execution_count": null,
   "metadata": {},
   "outputs": [],
   "source": [
    "lr = LinearRegression()\n",
    "lr.fit(X_train, y_train)\n",
    "y_pred = lr.predict(X_val)\n",
    "\n",
    "print(\"RMSE training: {:.2f}\".format(radice_errore_quadratico_medio(y_train, lr.predict(X_train))))\n",
    "print(\"RMSE validation: {:.2f}\".format(radice_errore_quadratico_medio(y_val, lr.predict(X_val))))"
   ]
  },
  {
   "cell_type": "code",
   "execution_count": null,
   "metadata": {},
   "outputs": [],
   "source": [
    "from msbd.grafici import grafico_coefficienti\n",
    "\n",
    "print(inspect.getsource(grafico_coefficienti))"
   ]
  },
  {
   "cell_type": "code",
   "execution_count": null,
   "metadata": {
    "scrolled": false
   },
   "outputs": [],
   "source": [
    "plt.figure(figsize=(15, 3))\n",
    "\n",
    "print(\"Intercetta: {:.2f}\".format(lr.intercept_))\n",
    "grafico_coefficienti(lr.coef_, X_train.columns.tolist())\n",
    "\n",
    "plt.show()"
   ]
  },
  {
   "cell_type": "markdown",
   "metadata": {},
   "source": [
    "# Regressione stepwise"
   ]
  },
  {
   "cell_type": "code",
   "execution_count": null,
   "metadata": {},
   "outputs": [],
   "source": [
    "from msbd.selezione_variabili import Stepwise\n",
    "\n",
    "print(inspect.getsource(Stepwise))"
   ]
  },
  {
   "cell_type": "code",
   "execution_count": null,
   "metadata": {},
   "outputs": [],
   "source": [
    "from msbd.metriche import gauss_aic\n",
    "\n",
    "print(inspect.getsource(gauss_aic))"
   ]
  },
  {
   "cell_type": "code",
   "execution_count": null,
   "metadata": {},
   "outputs": [],
   "source": [
    "sw = Stepwise(LinearRegression(), gauss_aic, 'avanti', verboso=True)"
   ]
  },
  {
   "cell_type": "code",
   "execution_count": null,
   "metadata": {},
   "outputs": [],
   "source": [
    "sw.fit(X_train, y_train)"
   ]
  },
  {
   "cell_type": "code",
   "execution_count": null,
   "metadata": {},
   "outputs": [],
   "source": [
    "print(\"RMSE training: {:.2f}\".format(radice_errore_quadratico_medio(y_train, sw.predict(X_train))))\n",
    "print(\"RMSE validation: {:.2f}\".format(radice_errore_quadratico_medio(y_val, sw.predict(X_val))))"
   ]
  },
  {
   "cell_type": "code",
   "execution_count": null,
   "metadata": {},
   "outputs": [],
   "source": [
    "plt.figure(figsize=(15, 3))\n",
    "\n",
    "print(\"Intercetta: {:.2f}\".format(sw.stimatore_.intercept_))\n",
    "grafico_coefficienti(sw.stimatore_.coef_, sw.variabili_selezionate_)\n",
    "\n",
    "plt.show()"
   ]
  },
  {
   "cell_type": "code",
   "execution_count": null,
   "metadata": {},
   "outputs": [],
   "source": []
  }
 ],
 "metadata": {
  "kernelspec": {
   "display_name": "Python 3",
   "language": "python",
   "name": "python3"
  },
  "language_info": {
   "codemirror_mode": {
    "name": "ipython",
    "version": 3
   },
   "file_extension": ".py",
   "mimetype": "text/x-python",
   "name": "python",
   "nbconvert_exporter": "python",
   "pygments_lexer": "ipython3",
   "version": "3.6.7"
  }
 },
 "nbformat": 4,
 "nbformat_minor": 2
}
