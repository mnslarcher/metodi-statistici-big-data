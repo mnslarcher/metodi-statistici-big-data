{
 "cells": [
  {
   "cell_type": "markdown",
   "metadata": {},
   "source": [
    "# Analisi discriminate"
   ]
  },
  {
   "cell_type": "markdown",
   "metadata": {},
   "source": [
    "## Indice"
   ]
  },
  {
   "cell_type": "markdown",
   "metadata": {},
   "source": [
    "1. [Creare il data set](#dataset)<br>\n",
    "2. [Analisi discriminate lineare (LDA)](#lda)<br>\n",
    "    2.1 [Analisi discriminate lineare come algoritmo di riduzione della dimensionalità](#riduzione)<br>\n",
    "    2.2 [Analisi discriminate lineare come algoritmo di classificazione](#classificazione)<br>\n",
    "3. [Analisi discriminante quadratica (QDA)](#qda)<br>"
   ]
  },
  {
   "cell_type": "code",
   "execution_count": null,
   "metadata": {},
   "outputs": [],
   "source": [
    "import inspect\n",
    "import matplotlib.pyplot as plt\n",
    "import numpy as np\n",
    "\n",
    "%load_ext autoreload\n",
    "%autoreload 2"
   ]
  },
  {
   "cell_type": "markdown",
   "metadata": {},
   "source": [
    "# 1. Creare il data set <a id=dataset> </a>"
   ]
  },
  {
   "cell_type": "code",
   "execution_count": null,
   "metadata": {},
   "outputs": [],
   "source": [
    "from msbd.datasets import crea_normali\n",
    "\n",
    "print(inspect.getsource(crea_normali))"
   ]
  },
  {
   "cell_type": "code",
   "execution_count": null,
   "metadata": {},
   "outputs": [],
   "source": [
    "np.random.seed(42)\n",
    "\n",
    "mu0 = [-0.5, -0.5]\n",
    "mu1 = [0, 0]\n",
    "mu2 = [1, 1]\n",
    "sigma0 = [[0.5, -0.1], \n",
    "          [-0.1, 0.5]]\n",
    "sigma1 = [[0.75, -0.5], \n",
    "          [-0.5, 0.75]]\n",
    "sigma2 = [[1, -0.9], \n",
    "          [-0.9, 1]]\n",
    "\n",
    "X, y = crea_normali(\n",
    "    medie=[mu0, mu1, mu2],\n",
    "    cov=[sigma0, sigma1, sigma2],\n",
    "    num=[100] * 3,\n",
    ")"
   ]
  },
  {
   "cell_type": "markdown",
   "metadata": {},
   "source": [
    "### Dividere i dati in training e validation"
   ]
  },
  {
   "cell_type": "code",
   "execution_count": null,
   "metadata": {},
   "outputs": [],
   "source": [
    "from sklearn.model_selection import train_test_split"
   ]
  },
  {
   "cell_type": "code",
   "execution_count": null,
   "metadata": {},
   "outputs": [],
   "source": [
    "X_train, X_val, y_train, y_val = train_test_split(X, y, test_size=0.25, random_state=42)"
   ]
  },
  {
   "cell_type": "markdown",
   "metadata": {},
   "source": [
    "### Rappresentare graficamente i dati"
   ]
  },
  {
   "cell_type": "code",
   "execution_count": null,
   "metadata": {},
   "outputs": [],
   "source": [
    "from msbd.grafici import grafico_bidimensionale_classi\n",
    "\n",
    "print(inspect.getsource(grafico_bidimensionale_classi))"
   ]
  },
  {
   "cell_type": "code",
   "execution_count": null,
   "metadata": {},
   "outputs": [],
   "source": [
    "plt.title(\"Tre gaussiane\")\n",
    "\n",
    "grafico_bidimensionale_classi(X_train, y_train, alpha=0.75, s=75)\n",
    "\n",
    "plt.legend()\n",
    "plt.show()"
   ]
  },
  {
   "cell_type": "markdown",
   "metadata": {},
   "source": [
    "# 2. Analisi discriminate lineare (LDA) <a id=lda> </a>"
   ]
  },
  {
   "cell_type": "markdown",
   "metadata": {},
   "source": [
    "## 2.1 Analisi discriminate lineare come algoritmo di riduzione della dimensionalità <a id=riduzione> </a>"
   ]
  },
  {
   "cell_type": "code",
   "execution_count": null,
   "metadata": {},
   "outputs": [],
   "source": [
    "from sklearn.decomposition import PCA\n",
    "from sklearn.discriminant_analysis import LinearDiscriminantAnalysis\n",
    "from sklearn.discriminant_analysis import QuadraticDiscriminantAnalysis"
   ]
  },
  {
   "cell_type": "code",
   "execution_count": null,
   "metadata": {},
   "outputs": [],
   "source": [
    "pca = PCA(n_components=2)\n",
    "lda = LinearDiscriminantAnalysis(n_components=2)\n",
    "\n",
    "X_pca = pca.fit_transform(X_train)\n",
    "X_lda = lda.fit_transform(X_train, y_train)"
   ]
  },
  {
   "cell_type": "markdown",
   "metadata": {},
   "source": [
    "### Esercizio\n",
    "\n",
    "Commentare la differenza tra gli argomenti del metodo `fit()` (e quindi `fit_transform()`) della classe `PCA` e `LinearDiscriminantAnalysis`."
   ]
  },
  {
   "cell_type": "code",
   "execution_count": null,
   "metadata": {},
   "outputs": [],
   "source": []
  },
  {
   "cell_type": "markdown",
   "metadata": {},
   "source": [
    "### Confrontare componenti principali e variabili canoniche (o discriminanti)"
   ]
  },
  {
   "cell_type": "code",
   "execution_count": null,
   "metadata": {},
   "outputs": [],
   "source": [
    "plt.figure(figsize=(12, 4))\n",
    "\n",
    "plt.subplot(121)\n",
    "plt.title(\"Analisi delle componenti principali \")\n",
    "grafico_bidimensionale_classi(X_pca, y_train, alpha=0.75, s=75)\n",
    "plt.xlabel(\"1° componente principale\")\n",
    "plt.ylabel(\"2° componente principale\")\n",
    "plt.legend()\n",
    "\n",
    "plt.subplot(122)\n",
    "plt.title(\"Analisi del discriminante lineare\")\n",
    "grafico_bidimensionale_classi(X_lda, y_train, alpha=0.75, s=75)\n",
    "plt.xlabel(\"1° variabile canonica\")\n",
    "plt.ylabel(\"2° variabile canonica\")\n",
    "plt.legend()\n",
    "\n",
    "plt.show()"
   ]
  },
  {
   "cell_type": "markdown",
   "metadata": {},
   "source": [
    "### Esercizio\n",
    "\n",
    "La prima componente principale separa approssimativamente le classi? E la prima variabile canonica?"
   ]
  },
  {
   "cell_type": "code",
   "execution_count": null,
   "metadata": {},
   "outputs": [],
   "source": []
  },
  {
   "cell_type": "markdown",
   "metadata": {},
   "source": [
    "## 2.2 Analisi discriminate lineare come algoritmo di classificazione <a id=classificazione> </a>"
   ]
  },
  {
   "cell_type": "code",
   "execution_count": null,
   "metadata": {},
   "outputs": [],
   "source": [
    "lda = LinearDiscriminantAnalysis()\n",
    "lda.fit(X_train, y_train)"
   ]
  },
  {
   "cell_type": "code",
   "execution_count": null,
   "metadata": {
    "scrolled": true
   },
   "outputs": [],
   "source": [
    "from msbd.grafici import grafico_bidimensionale_classi_previste\n",
    "\n",
    "print(inspect.getsource(grafico_bidimensionale_classi_previste))"
   ]
  },
  {
   "cell_type": "markdown",
   "metadata": {},
   "source": [
    "### Classificare le osservazioni del validation set"
   ]
  },
  {
   "cell_type": "code",
   "execution_count": null,
   "metadata": {},
   "outputs": [],
   "source": [
    "plt.figure(figsize=(8, 6))\n",
    "\n",
    "grafico_bidimensionale_classi_previste(X_train, y_train, X_val, y_val, lda.predict(X_val), \"LDA\")\n",
    "\n",
    "plt.show()"
   ]
  },
  {
   "cell_type": "markdown",
   "metadata": {},
   "source": [
    "# 3. Analisi discriminante quadratica (QDA) <a id=qda> </a>"
   ]
  },
  {
   "cell_type": "code",
   "execution_count": null,
   "metadata": {},
   "outputs": [],
   "source": [
    "qda = QuadraticDiscriminantAnalysis()\n",
    "\n",
    "qda.fit(X_train, y_train)"
   ]
  },
  {
   "cell_type": "markdown",
   "metadata": {},
   "source": [
    "### Classificare le osservazioni del validation set"
   ]
  },
  {
   "cell_type": "code",
   "execution_count": null,
   "metadata": {},
   "outputs": [],
   "source": [
    "plt.figure(figsize=(8, 6))\n",
    "\n",
    "grafico_bidimensionale_classi_previste(X_train, y_train, X_val, y_val, qda.predict(X_val), \"QDA\")\n",
    "\n",
    "plt.show()"
   ]
  },
  {
   "cell_type": "markdown",
   "metadata": {},
   "source": [
    "### Esercizio\n",
    "\n",
    "1. Identificare almeno tre osservazioni classificate incorettamente da LDA e correttamente da QDA;\n",
    "2. Motivare come mai, in questo caso, QDA risulta più accurata di LDA. È sempre così?\n",
    "3. Rieseguire il notebook fino a qua dopo aver posto `sigma0` e `sigma1` uguali a `sigma2`. Commentare il risultato."
   ]
  },
  {
   "cell_type": "code",
   "execution_count": null,
   "metadata": {},
   "outputs": [],
   "source": []
  },
  {
   "cell_type": "markdown",
   "metadata": {},
   "source": [
    "### Esercizio\n",
    "\n",
    "Riprodurre il grafico [Linear and Quadratic Discriminant Analysis with covariance ellipsoid](https://scikit-learn.org/stable/auto_examples/classification/plot_lda_qda.html#sphx-glr-auto-examples-classification-plot-lda-qda-py) utilizzando i dati di questo notebook.\n",
    "\n",
    "> Nota: nel nostro caso le classi (e quindi le elissi) sono 3."
   ]
  },
  {
   "cell_type": "code",
   "execution_count": null,
   "metadata": {},
   "outputs": [],
   "source": []
  }
 ],
 "metadata": {
  "kernelspec": {
   "display_name": "Python 3",
   "language": "python",
   "name": "python3"
  },
  "language_info": {
   "codemirror_mode": {
    "name": "ipython",
    "version": 3
   },
   "file_extension": ".py",
   "mimetype": "text/x-python",
   "name": "python",
   "nbconvert_exporter": "python",
   "pygments_lexer": "ipython3",
   "version": "3.6.7"
  }
 },
 "nbformat": 4,
 "nbformat_minor": 2
}
