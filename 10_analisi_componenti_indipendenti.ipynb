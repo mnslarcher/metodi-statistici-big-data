{
 "cells": [
  {
   "cell_type": "markdown",
   "metadata": {},
   "source": [
    "![under_construction](figures/under_construction.gif)"
   ]
  },
  {
   "cell_type": "markdown",
   "metadata": {},
   "source": [
    "### Riferimenti bibliografici:\n",
    "\n",
    "* Hyvarinen, A. &  Oja E. (2012), [Independent Component Analysis: Algorithms and Applications](https://www.cs.helsinki.fi/u/ahyvarin/papers/NN00new.pdf)."
   ]
  },
  {
   "cell_type": "markdown",
   "metadata": {},
   "source": [
    "# Analisi delle componenti indipendenti (ICA)"
   ]
  },
  {
   "cell_type": "markdown",
   "metadata": {},
   "source": [
    "## Indice"
   ]
  },
  {
   "cell_type": "markdown",
   "metadata": {},
   "source": [
    "1. [](#)<br />\n",
    "    1.1 [](#)<br />"
   ]
  },
  {
   "cell_type": "code",
   "execution_count": null,
   "metadata": {},
   "outputs": [],
   "source": [
    "from sklearn.decomposition import FastICA\n",
    "from sklearn.pipeline import Pipeline\n",
    "import inspect\n",
    "import matplotlib.pyplot as plt\n",
    "import numpy as np\n",
    "import pandas as pd\n",
    "\n",
    "%load_ext autoreload\n",
    "%autoreload 2"
   ]
  },
  {
   "cell_type": "markdown",
   "metadata": {},
   "source": [
    "# Problema del cocktail party"
   ]
  },
  {
   "cell_type": "code",
   "execution_count": null,
   "metadata": {},
   "outputs": [],
   "source": [
    "from msbd.datasets import CocktailParty\n",
    "\n",
    "print(inspect.getsource(CocktailParty))"
   ]
  },
  {
   "cell_type": "code",
   "execution_count": null,
   "metadata": {},
   "outputs": [],
   "source": [
    "A = np.array(\n",
    "    [[0.5, 0.5], \n",
    "     [0.2, 0.8]]\n",
    ")\n",
    "\n",
    "cp = CocktailParty(A)"
   ]
  },
  {
   "cell_type": "code",
   "execution_count": null,
   "metadata": {},
   "outputs": [],
   "source": [
    "t = np.linspace(0, 100, 1000)\n",
    "S = np.c_[cp.s1(t), cp.s2(t)]\n",
    "X = np.c_[cp.x1(t), cp.x2(t)]\n",
    "\n",
    "print(\"Dimensioni di S: {} X {}\".format(*S.shape))\n",
    "print(\"Dimensioni di X: {} X {}\".format(*X.shape))"
   ]
  },
  {
   "cell_type": "code",
   "execution_count": null,
   "metadata": {},
   "outputs": [],
   "source": [
    "def grafico_cocktail_party(t, S, X, S_hat=None):\n",
    "    plt.suptitle(\"Problema del cocktail party\")\n",
    "\n",
    "    plt.subplot(411 + 200 * (S_hat is not None))\n",
    "    plt.plot(t, S[:, 0])\n",
    "    plt.ylabel(\"$s_1(t)$\")\n",
    "\n",
    "    plt.subplot(412 + 200 * (S_hat is not None))\n",
    "    plt.plot(t, S[:, 1])\n",
    "    plt.ylabel(\"$s_2(t)$\")\n",
    "\n",
    "    plt.subplot(413 + 200 * (S_hat is not None))\n",
    "    plt.plot(t, X[:, 0], color=\"tab:orange\")\n",
    "    plt.ylabel(\"$x_1(t)$\")\n",
    "\n",
    "    plt.subplot(414 + 200 * (S_hat is not None))\n",
    "    plt.plot(t, X[:, 1], color=\"tab:orange\")\n",
    "    plt.ylabel(\"$x_2(t)$\")\n",
    "    \n",
    "    if S_hat is not None:\n",
    "        plt.subplot(615)\n",
    "        plt.plot(t, S_hat[:, 0], color=\"tab:green\")\n",
    "        plt.ylabel(\"$\\hat{s}t)$\")\n",
    "\n",
    "        plt.subplot(616)\n",
    "        plt.plot(t, S_hat[:, 1], color=\"tab:green\")\n",
    "        plt.ylabel(\"$\\hat{s}(t)$\")\n",
    "\n",
    "    plt.tight_layout()\n",
    "    plt.subplots_adjust(top=0.9)"
   ]
  },
  {
   "cell_type": "code",
   "execution_count": null,
   "metadata": {},
   "outputs": [],
   "source": [
    "from msbd.grafici import grafico_cocktail_party\n",
    "\n",
    "print(inspect.getsource(grafico_cocktail_party))"
   ]
  },
  {
   "cell_type": "code",
   "execution_count": null,
   "metadata": {},
   "outputs": [],
   "source": [
    "plt.figure(figsize=(8, 6))\n",
    "\n",
    "grafico_cocktail_party(t, S, X)\n",
    "\n",
    "plt.show()"
   ]
  },
  {
   "cell_type": "code",
   "execution_count": null,
   "metadata": {},
   "outputs": [],
   "source": [
    "ica = FastICA(whiten=True, random_state=42)\n",
    "\n",
    "S_hat = ica.fit_transform(X)"
   ]
  },
  {
   "cell_type": "code",
   "execution_count": null,
   "metadata": {},
   "outputs": [],
   "source": [
    "plt.figure(figsize=(8, 8))\n",
    "\n",
    "grafico_cocktail_party(t, S, X, S_hat)\n",
    "\n",
    "plt.show()"
   ]
  },
  {
   "cell_type": "markdown",
   "metadata": {},
   "source": [
    "### Esercizio\n",
    "\n",
    "Elencare tutte le differenze tra segnali veri e stimati."
   ]
  },
  {
   "cell_type": "code",
   "execution_count": null,
   "metadata": {},
   "outputs": [],
   "source": []
  },
  {
   "cell_type": "code",
   "execution_count": null,
   "metadata": {},
   "outputs": [],
   "source": [
    "from msbd.preprocessamento import Sbiancare\n",
    "\n",
    "\n",
    "print(inspect.getsource(Sbiancare))"
   ]
  },
  {
   "cell_type": "markdown",
   "metadata": {},
   "source": [
    "### Esercizio\n",
    "\n",
    "1. Completare i metodo `inverse_transform()` della classe `Sbiancare` definita in `msbd/preprocessamento/sbiancare.py`;\n",
    "2. Verificare il corretto funzionamento del metodo appena definito.\n",
    "\n",
    "> Suggerimento: usare il fatto che la matrice $\\mathbf{E}$ è una matrice [unitaria](https://it.wikipedia.org/wiki/Matrice_unitaria)."
   ]
  },
  {
   "cell_type": "code",
   "execution_count": null,
   "metadata": {},
   "outputs": [],
   "source": []
  },
  {
   "cell_type": "markdown",
   "metadata": {},
   "source": [
    "### Esercizio\n",
    "\n",
    "1. Definire una pipeline `ica_pipe` con al primo step `Sbiancare()` e al secondo step `FastICA(whiten=False)`;\n",
    "2. Ottenere `S_hat`come `S_hat = ica_pipe.fit_transform(X)`;\n",
    "3. Fare nuovamente il grafico *cocktail party* utilizzando la stima di $\\mathbf{S}$ ottenuta al passo precedente;\n",
    "4. Commentare i risultati."
   ]
  },
  {
   "cell_type": "code",
   "execution_count": null,
   "metadata": {},
   "outputs": [],
   "source": []
  }
 ],
 "metadata": {
  "kernelspec": {
   "display_name": "Python 3",
   "language": "python",
   "name": "python3"
  },
  "language_info": {
   "codemirror_mode": {
    "name": "ipython",
    "version": 3
   },
   "file_extension": ".py",
   "mimetype": "text/x-python",
   "name": "python",
   "nbconvert_exporter": "python",
   "pygments_lexer": "ipython3",
   "version": "3.6.7"
  }
 },
 "nbformat": 4,
 "nbformat_minor": 2
}
