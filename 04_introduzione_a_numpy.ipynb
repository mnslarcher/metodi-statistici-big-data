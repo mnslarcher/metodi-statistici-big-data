{
 "cells": [
  {
   "cell_type": "markdown",
   "metadata": {},
   "source": [
    "# Introduzione a NumPy"
   ]
  },
  {
   "cell_type": "markdown",
   "metadata": {},
   "source": [
    "## Indice\n",
    "1. [NumPy](#numpy)<br />\n",
    "2. [`ndarray`](#ndarray)<br />\n",
    "    2.1 [Creare un array](#creare_array)<br />\n",
    "    2.2 [Caratteristiche di un `ndarray`](#caratteristiche_array)<br />\n",
    "    2.3 [Cambiare la forma di un array](#cambiare_forma_array)<br />\n",
    "    2.4 [Accedere agli elementi di un array](#accedere_elementi)<br />\n",
    "    2.5 [Unire più array](#unire_array)<br />\n",
    "    2.6 [Copie e viste di un array](#copie_viste)<br />\n",
    "3. [Algebra lineare](#algebra_lineare)<br />\n",
    "    3.1 [Operazioni di base con scalari](#operazioni_scalari)<br />\n",
    "    3.2 [Prodotto di array](#prodotto_array)<br />\n",
    "4. [Funzioni](#funzioni)<br />\n",
    "    4.1 [Funzioni matematiche](#funzioni_matematiche)<br />\n",
    "    4.2 [Applicare una funzione lungo un asse](#funzioni_asse)<br />"
   ]
  },
  {
   "cell_type": "markdown",
   "metadata": {},
   "source": [
    "# 1. NumPy <a id=numpy> </a>\n",
    "\n",
    "Dal [sito ufficiale](http://www.numpy.org/) di NumPy:\n",
    "> NumPy is the fundamental package for scientific computing with Python. It contains among other things:\n",
    "* a powerful N-dimensional array object\n",
    "* sophisticated (broadcasting) functions\n",
    "* tools for integrating C/C++ and Fortran code\n",
    "* useful linear algebra, Fourier transform, and random number capabilities\n",
    "\n",
    ">Besides its obvious scientific uses, NumPy can also be used as an efficient multi-dimensional container of generic data. Arbitrary data-types can be defined. This allows NumPy to seamlessly and speedily integrate with a wide variety of databases.\n",
    "\n",
    "Tutorial ufficiale: [Quickstart tutorial](https://docs.scipy.org/doc/numpy/user/quickstart.html)."
   ]
  },
  {
   "cell_type": "code",
   "execution_count": null,
   "metadata": {},
   "outputs": [],
   "source": [
    "import matplotlib.pyplot as plt\n",
    "import numpy as np\n",
    "\n",
    "%load_ext autoreload\n",
    "%autoreload 2"
   ]
  },
  {
   "cell_type": "markdown",
   "metadata": {},
   "source": [
    "# 2. `ndarray` <a id=ndarray> </a>"
   ]
  },
  {
   "cell_type": "markdown",
   "metadata": {},
   "source": [
    "## 2.1 Creare un array <a id=creare_array> </a>"
   ]
  },
  {
   "cell_type": "markdown",
   "metadata": {},
   "source": [
    "### `numpy.array()`"
   ]
  },
  {
   "cell_type": "code",
   "execution_count": null,
   "metadata": {},
   "outputs": [],
   "source": [
    "a = np.array(\n",
    "    [[1, 2, 3], \n",
    "     [4, 5, 6]]\n",
    ")\n",
    "\n",
    "print(\"Tipo: {}\".format(type(a)))\n",
    "print(\"Contenuto della variabile:\")\n",
    "print(a)"
   ]
  },
  {
   "cell_type": "markdown",
   "metadata": {},
   "source": [
    "### `numpy.arange()`"
   ]
  },
  {
   "cell_type": "code",
   "execution_count": null,
   "metadata": {},
   "outputs": [],
   "source": [
    "a = np.arange(6)\n",
    "\n",
    "print(\"Contenuto della variabile:\")\n",
    "print(a)"
   ]
  },
  {
   "cell_type": "markdown",
   "metadata": {},
   "source": [
    "### `numpy.zeros()`"
   ]
  },
  {
   "cell_type": "code",
   "execution_count": null,
   "metadata": {},
   "outputs": [],
   "source": [
    "a = np.zeros((2, 3))\n",
    "\n",
    "print(\"Contenuto della variabile:\")\n",
    "print(a)"
   ]
  },
  {
   "cell_type": "markdown",
   "metadata": {},
   "source": [
    "### `numpy.ones()`"
   ]
  },
  {
   "cell_type": "code",
   "execution_count": null,
   "metadata": {},
   "outputs": [],
   "source": [
    "a = np.ones((2, 3))\n",
    "\n",
    "print(\"Contenuto della variabile:\")\n",
    "print(a)"
   ]
  },
  {
   "cell_type": "markdown",
   "metadata": {},
   "source": [
    "### `numpy.random.random()`"
   ]
  },
  {
   "cell_type": "code",
   "execution_count": null,
   "metadata": {},
   "outputs": [],
   "source": [
    "a = np.random.random((2, 3))\n",
    "\n",
    "print(\"Contenuto della variabile:\")\n",
    "print(a)"
   ]
  },
  {
   "cell_type": "markdown",
   "metadata": {},
   "source": [
    "### `numpy.empty()`"
   ]
  },
  {
   "cell_type": "code",
   "execution_count": null,
   "metadata": {
    "scrolled": true
   },
   "outputs": [],
   "source": [
    "a = np.empty((2, 3))\n",
    "\n",
    "print(\"Contenuto della variabile:\")\n",
    "print(a)"
   ]
  },
  {
   "cell_type": "markdown",
   "metadata": {},
   "source": [
    "### Esercizio\n",
    "\n",
    "Ottenere il seguente array utilizzando esclusivamente `numpy.arange()`:\n",
    "```python\n",
    "[10, 20, 30, 40, 50, 60, 70, 80, 90]\n",
    "```"
   ]
  },
  {
   "cell_type": "code",
   "execution_count": null,
   "metadata": {},
   "outputs": [],
   "source": []
  },
  {
   "cell_type": "markdown",
   "metadata": {},
   "source": [
    "## 2.2 Caratteristiche di un `ndarray` <a id=caratteristiche_array> </a>"
   ]
  },
  {
   "cell_type": "markdown",
   "metadata": {},
   "source": [
    "### `numpy.ndarray.ndim`"
   ]
  },
  {
   "cell_type": "code",
   "execution_count": null,
   "metadata": {},
   "outputs": [],
   "source": [
    "a = np.array(\n",
    "    [[1, 2, 3],\n",
    "     [4, 5, 6]]\n",
    ")\n",
    "\n",
    "print(\"Numero di dimensioni: {}\".format(a.ndim))"
   ]
  },
  {
   "cell_type": "markdown",
   "metadata": {},
   "source": [
    "### `numpy.ndarray.shape`"
   ]
  },
  {
   "cell_type": "code",
   "execution_count": null,
   "metadata": {},
   "outputs": [],
   "source": [
    "a = np.array(\n",
    "    [[1, 2, 3],\n",
    "     [4, 5, 6]]\n",
    ")\n",
    "\n",
    "print(\"Dimensioni: {}\".format(a.shape))"
   ]
  },
  {
   "cell_type": "markdown",
   "metadata": {},
   "source": [
    "### `numpy.ndarray.size`"
   ]
  },
  {
   "cell_type": "code",
   "execution_count": null,
   "metadata": {},
   "outputs": [],
   "source": [
    "a = np.array(\n",
    "    [[1, 2, 3],\n",
    "     [4, 5, 6]]\n",
    ")\n",
    "\n",
    "print(\"Numero di elementi: {}\".format(a.size))"
   ]
  },
  {
   "cell_type": "markdown",
   "metadata": {},
   "source": [
    "### `numpy.ndarray.itemsize`"
   ]
  },
  {
   "cell_type": "code",
   "execution_count": null,
   "metadata": {},
   "outputs": [],
   "source": [
    "a = np.array(\n",
    "    [[1, 2, 3],\n",
    "     [4, 5, 6]]\n",
    ")\n",
    "\n",
    "print(\"Dimensione in bytes di ogni elemento dell'array: {}\".format(a.itemsize))"
   ]
  },
  {
   "cell_type": "markdown",
   "metadata": {},
   "source": [
    "###  `numpy.ndarray.dtype `"
   ]
  },
  {
   "cell_type": "code",
   "execution_count": null,
   "metadata": {},
   "outputs": [],
   "source": [
    "a = np.array(\n",
    "    [[1, 2, 3],\n",
    "     [4, 5, 6]]\n",
    ")\n",
    "\n",
    "print(\"Tipo degli elmenti dell'array: {}\".format(a.dtype))"
   ]
  },
  {
   "cell_type": "markdown",
   "metadata": {},
   "source": [
    "### Esercizio\n",
    "\n",
    "Sapendo che il tipo degli elementi è `int64`, avremmo potuto prevedere la dimensione in bytes? Motivare la risposta."
   ]
  },
  {
   "cell_type": "code",
   "execution_count": null,
   "metadata": {},
   "outputs": [],
   "source": []
  },
  {
   "cell_type": "markdown",
   "metadata": {},
   "source": [
    "## 2.3 Cambiare la forma di un array <a id=cambiare_forma_array> </a>"
   ]
  },
  {
   "cell_type": "markdown",
   "metadata": {},
   "source": [
    "###  `numpy.ndarray.reshape() `"
   ]
  },
  {
   "cell_type": "code",
   "execution_count": null,
   "metadata": {},
   "outputs": [],
   "source": [
    "a = np.arange(6)\n",
    "\n",
    "print(\"Contenuto della variabile:\")\n",
    "print(a)\n",
    "print(\"\\nDimensioni: {}\".format(a.shape))\n",
    "\n",
    "print(\"\\nModificare le dimensioni dell'array:\")\n",
    "a = a.reshape(3, 2)\n",
    "print(\"a = a.reshape(3, 2)\")\n",
    "\n",
    "print(\"\\nContenuto della variabile:\")\n",
    "print(a)\n",
    "print(\"\\nDimensioni: {}\".format(a.shape))"
   ]
  },
  {
   "cell_type": "markdown",
   "metadata": {},
   "source": [
    "###  `numpy.diag() `"
   ]
  },
  {
   "cell_type": "code",
   "execution_count": null,
   "metadata": {},
   "outputs": [],
   "source": [
    "a = np.ones(2)\n",
    "\n",
    "print(\"Contenuto della variabile:\")\n",
    "print(a)\n",
    "print(\"\\nDimensioni: {}\".format(a.shape))\n",
    "\n",
    "print(\"\\nCreare una matrice diagonale a partire da un vettore:\")\n",
    "print(\"a = np.diag(a)\")\n",
    "a = np.diag(a)\n",
    "\n",
    "print(\"\\nContenuto della variabile:\")\n",
    "print(a)\n",
    "print(\"\\nDimensioni: {}\".format(a.shape))"
   ]
  },
  {
   "cell_type": "markdown",
   "metadata": {},
   "source": [
    "### Esercizio\n",
    "\n",
    "Verificare che, se la matrice diagonale che si vuole ottenere è l'identità, si può utilizzare direttamente `numpy.eye()`."
   ]
  },
  {
   "cell_type": "code",
   "execution_count": null,
   "metadata": {},
   "outputs": [],
   "source": []
  },
  {
   "cell_type": "markdown",
   "metadata": {},
   "source": [
    "### Esercizio\n",
    "\n",
    "Creare il seguente array usando `numpy.arange()` e `numpy.diag()`:\n",
    "```python\n",
    "[[0 0 0]\n",
    " [0 1 0]\n",
    " [0 0 2]]\n",
    " ```"
   ]
  },
  {
   "cell_type": "code",
   "execution_count": null,
   "metadata": {},
   "outputs": [],
   "source": []
  },
  {
   "cell_type": "markdown",
   "metadata": {},
   "source": [
    "###  `numpy.ndarray.T `"
   ]
  },
  {
   "cell_type": "code",
   "execution_count": null,
   "metadata": {},
   "outputs": [],
   "source": [
    "a = np.ones((2, 3))\n",
    "\n",
    "print(\"Contenuto della variabile:\")\n",
    "print(a)\n",
    "print(\"\\nDimensioni: {}\".format(a.shape))\n",
    "\n",
    "print(\"\\nTrasporre la matrice:\")\n",
    "print(\"a = a.T\")\n",
    "a = a.T\n",
    "\n",
    "print(\"\\nContenuto della variabile:\")\n",
    "print(a)\n",
    "print(\"\\nDimensioni: {}\".format(a.shape))"
   ]
  },
  {
   "cell_type": "markdown",
   "metadata": {},
   "source": [
    "### `numpy.newaxis`"
   ]
  },
  {
   "cell_type": "code",
   "execution_count": null,
   "metadata": {},
   "outputs": [],
   "source": [
    "a = np.arange(5)\n",
    "\n",
    "print(\"Contenuto della variabile:\")\n",
    "print(a)\n",
    "print(\"\\nDimensioni: {}\".format(a.shape))\n",
    "\n",
    "print(\"\\nAggiungere una dimensione all'array:\")\n",
    "print(\"a = a[:, np.newaxis]\")\n",
    "a = a[:, np.newaxis] # equivalente a: a[:, None]\n",
    "\n",
    "print(\"\\nContenuto della variabile:\")\n",
    "print(a)\n",
    "print(\"\\nDimensioni: {}\".format(a.shape))"
   ]
  },
  {
   "cell_type": "markdown",
   "metadata": {},
   "source": [
    "## 2.4 Accedere agli elementi di un array <a id=accedere_elementi> </a>"
   ]
  },
  {
   "cell_type": "code",
   "execution_count": null,
   "metadata": {},
   "outputs": [],
   "source": [
    "a = np.arange(12).reshape((4, 3))\n",
    "\n",
    "print(\"Contenuto della variabile:\")\n",
    "print(a)\n",
    "\n",
    "print(\"\\nElemento della seconda riga, terza colonna (a[1, 2]):\")\n",
    "print(a[1, 2])\n",
    "\n",
    "print(\"\\nPrima riga (a[0, :]):\")\n",
    "print(a[0, :])\n",
    "\n",
    "print(\"\\nSeconda colonna (a[:, 1]):\")\n",
    "print(a[:, 1])\n",
    "\n",
    "print(\"\\nSeconda e terza riga (a[1:3, :]):\")\n",
    "print(a[1:3, :])\n",
    "\n",
    "print(\"\\nUltime due colonne (a[:, -2:]):\")\n",
    "print(a[:, -2:])\n",
    "\n",
    "print(\"\\nRighe in ordine inverso (a[::-1, :]):\")\n",
    "print(a[::-1, :])"
   ]
  },
  {
   "cell_type": "markdown",
   "metadata": {},
   "source": [
    "## Esercizo\n",
    "\n",
    "1. Creare (in modo intelligente...) l'array\n",
    "```python\n",
    "[[ 0,  1,  2,  3],\n",
    " [ 4,  5,  6,  7],\n",
    " [ 8,  9, 10, 11],\n",
    " [12, 13, 14, 15]]\n",
    "```\n",
    "2. Selezionare gli elementi della seconda e terza riga, seconda, terza e quarta colonna, verificare che il risultato sia uguale a\n",
    "\n",
    "```python\n",
    "[[ 5,  6,  7],\n",
    " [ 9, 10, 11]]\n",
    "```"
   ]
  },
  {
   "cell_type": "code",
   "execution_count": null,
   "metadata": {},
   "outputs": [],
   "source": []
  },
  {
   "cell_type": "markdown",
   "metadata": {},
   "source": [
    "## 2.5 Unire più array <a id=unire_array> </a>"
   ]
  },
  {
   "cell_type": "markdown",
   "metadata": {},
   "source": [
    "### `numpy.hstack()` (orizzontalmente)"
   ]
  },
  {
   "cell_type": "code",
   "execution_count": null,
   "metadata": {},
   "outputs": [],
   "source": [
    "a = np.zeros((2, 2))\n",
    "b = np.ones((2, 2))\n",
    "\n",
    "print('Contenuto della variabile \"a\":')\n",
    "print(a)\n",
    "\n",
    "print('\\nContenuto della variabile \"b\":')\n",
    "print(b)\n",
    "\n",
    "print('\\nImpilare orizzontalmente \"a\" e \"b\":')\n",
    "print(\"c = np.hstack([a, b])\")\n",
    "c = np.hstack([a, b])\n",
    "\n",
    "print('\\nContenuto della variabile \"c\":')\n",
    "print(c)"
   ]
  },
  {
   "cell_type": "markdown",
   "metadata": {},
   "source": [
    "### `numpy.vstack()` (verticalmente)"
   ]
  },
  {
   "cell_type": "code",
   "execution_count": null,
   "metadata": {},
   "outputs": [],
   "source": [
    "a = np.zeros((2, 2))\n",
    "b = np.ones((2, 2))\n",
    "\n",
    "print('Contenuto della variabile \"a\":')\n",
    "print(a)\n",
    "\n",
    "print('\\nContenuto della variabile \"b\":')\n",
    "print(b)\n",
    "\n",
    "print('\\nImpilare verticalmente \"a\" e \"b\":')\n",
    "print(\"c = np.vstack([a, b])\")\n",
    "c = np.vstack([a, b])\n",
    "\n",
    "print('\\nContenuto della variabile \"c\":')\n",
    "print(c)"
   ]
  },
  {
   "cell_type": "markdown",
   "metadata": {},
   "source": [
    "## 2.6 Copie e viste di un array <a id=copie_viste> </a>"
   ]
  },
  {
   "cell_type": "markdown",
   "metadata": {},
   "source": [
    "### Vista (view)"
   ]
  },
  {
   "cell_type": "code",
   "execution_count": null,
   "metadata": {},
   "outputs": [],
   "source": [
    "a = np.ones(4)\n",
    "\n",
    "print('Contenuto della variabile \"a\":')\n",
    "print(a)\n",
    "\n",
    "print(\"\\nb = a\")\n",
    "b = a\n",
    "\n",
    "print('\\nContenuto della variabile \"b\":')\n",
    "print(b)\n",
    "\n",
    "print('\\n\"b\" è \"a\"? {}'.format(b is a))\n",
    "\n",
    "print('\\nModifico \"b\"...')\n",
    "b[2] = 0\n",
    "\n",
    "print('\\nContenuto della variabile \"a\":')\n",
    "print(a)\n",
    "\n",
    "print('\\nContenuto della variabile \"b\":')\n",
    "print(b)"
   ]
  },
  {
   "cell_type": "markdown",
   "metadata": {},
   "source": [
    "### Copia (copy)"
   ]
  },
  {
   "cell_type": "code",
   "execution_count": null,
   "metadata": {},
   "outputs": [],
   "source": [
    "a = np.ones(4)\n",
    "\n",
    "print('Contenuto della variabile \"a\":')\n",
    "print(a)\n",
    "\n",
    "print(\"\\nb = a.copy()\")\n",
    "b = a.copy()\n",
    "\n",
    "print('\\nContenuto della variabile \"b\":')\n",
    "print(b)\n",
    "\n",
    "print('\\n\"b\" è \"a\"? {}'.format(b is a))\n",
    "\n",
    "print('\\nModifico \"b\"...')\n",
    "b[2] = 0\n",
    "\n",
    "print('\\nContenuto della variabile \"a\":')\n",
    "print(a)\n",
    "\n",
    "print('\\nContenuto della variabile \"b\":')\n",
    "print(b)"
   ]
  },
  {
   "cell_type": "markdown",
   "metadata": {},
   "source": [
    "# 3. Algebra lineare <a id=algebra_lineare> </a>"
   ]
  },
  {
   "cell_type": "markdown",
   "metadata": {},
   "source": [
    "## 3.1 Operazioni di base con scalari <a id=operazioni_scalari> </a>"
   ]
  },
  {
   "cell_type": "code",
   "execution_count": null,
   "metadata": {},
   "outputs": [],
   "source": [
    "a = np.arange(20, 60, 10).reshape(2, -2)\n",
    "\n",
    "print(\"Contenuto della variabile:\")\n",
    "print(a)\n",
    "\n",
    "print(\"\\nDivido per 10 e aggiungo 5:\")\n",
    "print(\"a = (a / 10) + 5\")\n",
    "a = (a / 10) + 5\n",
    "\n",
    "print(\"\\nContenuto della variabile:\")\n",
    "print(a)"
   ]
  },
  {
   "cell_type": "markdown",
   "metadata": {},
   "source": [
    "## 3.2 Prodotto di array <a id=prodotto_array> </a>"
   ]
  },
  {
   "cell_type": "markdown",
   "metadata": {},
   "source": [
    "### `*` ([prodotto di Hadamard](https://it.wikipedia.org/wiki/Moltiplicazione_di_matrici#Costruzioni_alternative) o prodotto puntuale)"
   ]
  },
  {
   "cell_type": "code",
   "execution_count": null,
   "metadata": {},
   "outputs": [],
   "source": [
    "a = np.array(\n",
    "    [[2, 1], \n",
    "     [0, 3]]\n",
    ")\n",
    "b = np.array(\n",
    "    [[2, 0], \n",
    "     [1, 3]]\n",
    ")\n",
    "\n",
    "print('Contenuto della variabile \"a\":')\n",
    "print(a)\n",
    "\n",
    "print('\\nContenuto della variabile \"b\":')\n",
    "print(b)\n",
    "\n",
    "print('\\nProdotto di Hadamard tra \"a\" e \"b\":')\n",
    "print(\"c = a * b\")\n",
    "c = a * b\n",
    "\n",
    "print('\\nContenuto della variabile \"c\":')\n",
    "print(c)"
   ]
  },
  {
   "cell_type": "markdown",
   "metadata": {},
   "source": [
    "### Esercizio\n",
    "\n",
    "Studiare il concetto di [broadcasting](https://docs.scipy.org/doc/numpy-1.13.0/user/basics.broadcasting.html). \n",
    "\n",
    "Se\n",
    "```python\n",
    "a = np.empty((2, 3, 4))\n",
    "b = np.empty((3, 4))\n",
    "c = a * b\n",
    "```\n",
    "qual è la `shape` di `c`? provare a rispondere e, solo sucessivamente, verificarlo scrivendo l'opportuno codice."
   ]
  },
  {
   "cell_type": "code",
   "execution_count": null,
   "metadata": {},
   "outputs": [],
   "source": []
  },
  {
   "cell_type": "markdown",
   "metadata": {},
   "source": [
    "### `numpy.dot()` ([prodotto scalare](https://it.wikipedia.org/wiki/Prodotto_scalare) o [prodotto matriciale](https://it.wikipedia.org/wiki/Moltiplicazione_di_matrici) se `ndim` è uguale a 2)"
   ]
  },
  {
   "cell_type": "code",
   "execution_count": null,
   "metadata": {},
   "outputs": [],
   "source": [
    "a = np.array(\n",
    "    [[2, 1], \n",
    "     [0, 3]]\n",
    ")\n",
    "b = np.array(\n",
    "    [[2, 0], \n",
    "     [1, 3]]\n",
    ")\n",
    "\n",
    "print('Contenuto della variabile \"a\":')\n",
    "print(a)\n",
    "\n",
    "print('\\nContenuto della variabile \"b\":')\n",
    "print(b)\n",
    "\n",
    "print('\\nProdotto scalare tra \"a\" e \"b\":')\n",
    "print(\"c = np.dot(a, b)\")\n",
    "c = np.dot(a, b) # equivalente a: c = a.dot(b)\n",
    "\n",
    "print('\\nContenuto della variabile \"c\":')\n",
    "print(c)"
   ]
  },
  {
   "cell_type": "markdown",
   "metadata": {},
   "source": [
    "### Esercizio\n",
    "\n",
    "Sia \n",
    "```python\n",
    "a = np.array(\n",
    "    [[0, -1],\n",
    "     [1, 2]]\n",
    ")\n",
    "```\n",
    "1. Calcolare l'inversa di $a$ utilizzando la funzione `numpy.linalg.inv()`.\n",
    "2. Verificare che la matrice ottenuta sia effettivamente l'inversa di $a$ facendo il prodotto (quale?) tra le due matrici."
   ]
  },
  {
   "cell_type": "code",
   "execution_count": null,
   "metadata": {},
   "outputs": [],
   "source": []
  },
  {
   "cell_type": "markdown",
   "metadata": {},
   "source": [
    "# 4. Funzioni <a id=funzioni> </a>"
   ]
  },
  {
   "cell_type": "markdown",
   "metadata": {},
   "source": [
    "## 4.1 Funzioni matematiche <a id=funzioni_matematiche> </a>"
   ]
  },
  {
   "cell_type": "markdown",
   "metadata": {},
   "source": [
    "### `numpy.sin()`"
   ]
  },
  {
   "cell_type": "code",
   "execution_count": null,
   "metadata": {},
   "outputs": [],
   "source": [
    "a = np.array(\n",
    "    [[0, np.pi / 6],\n",
    "     [np.pi / 3, np.pi / 2]]\n",
    ")\n",
    "\n",
    "print(\"Contenuto della variabile:\")\n",
    "print(a)\n",
    "\n",
    "print(\"\\nSeno degli elementi dell'array:\")\n",
    "print(\"a = np.sin(a)\")\n",
    "a = np.sin(a)\n",
    "\n",
    "print(\"\\nContenuto della variabile:\")\n",
    "print(a.round(2))"
   ]
  },
  {
   "cell_type": "markdown",
   "metadata": {},
   "source": [
    "### `numpy.cos()`"
   ]
  },
  {
   "cell_type": "code",
   "execution_count": null,
   "metadata": {},
   "outputs": [],
   "source": [
    "a = np.array(\n",
    "    [[0, np.pi / 6],\n",
    "     [np.pi / 3, np.pi / 2]]\n",
    ")\n",
    "\n",
    "print(\"Contenuto della variabile:\")\n",
    "print(a)\n",
    "\n",
    "print(\"\\nCoseno degli elementi dell'array:\")\n",
    "print(\"a = np.cos(a)\")\n",
    "a = np.cos(a)\n",
    "\n",
    "print(\"\\nContenuto della variabile:\")\n",
    "print(a.round(2))"
   ]
  },
  {
   "cell_type": "markdown",
   "metadata": {},
   "source": [
    "### Esercizio\n",
    "\n",
    "Creare nuovi esempi utilizzando le funzioni `numpy.exp()`,  `numpy.log()`,  `numpy.sqrt()`."
   ]
  },
  {
   "cell_type": "code",
   "execution_count": null,
   "metadata": {},
   "outputs": [],
   "source": []
  },
  {
   "cell_type": "markdown",
   "metadata": {},
   "source": [
    "### Esercizio\n",
    "\n",
    "Siano\n",
    "```python\n",
    "a = np.array([0.5, np.cos(np.pi / 6)])\n",
    "b = np.array([np.cos(np.pi / 6), 0.5])\n",
    "```\n",
    "1. Ispezionare la funzione  `grafico_due_vettori` in `msbd/grafici/arrays.py`.\n",
    "2. Verificare che $a \\cdot b = |a| \\times |b| \\times \\cos(\\theta)$, con $\\theta$ angolo tra i due vettori.\n",
    "\n",
    "> Suggerimento: per $|\\cdot|$ vedere `np.linalg.norm()`."
   ]
  },
  {
   "cell_type": "code",
   "execution_count": null,
   "metadata": {
    "scrolled": true
   },
   "outputs": [],
   "source": [
    "from msbd.grafici import grafico_due_vettori\n",
    "\n",
    "a = np.array([0.5, np.cos(np.pi / 6)])\n",
    "b = np.array([np.cos(np.pi / 6), 0.5])\n",
    "\n",
    "grafico_due_vettori(a, b)\n",
    "plt.show()"
   ]
  },
  {
   "cell_type": "code",
   "execution_count": null,
   "metadata": {},
   "outputs": [],
   "source": []
  },
  {
   "cell_type": "markdown",
   "metadata": {},
   "source": [
    "## 4.2 Applicare una funzione lungo un asse <a id=funzioni_asse> </a>"
   ]
  },
  {
   "cell_type": "markdown",
   "metadata": {},
   "source": [
    "### Su tutti gli assi"
   ]
  },
  {
   "cell_type": "code",
   "execution_count": null,
   "metadata": {},
   "outputs": [],
   "source": [
    "a = np.array(\n",
    "    [[-1, 1],\n",
    "     [-1, 1]]\n",
    ")\n",
    "\n",
    "print(\"Contenuto della variabile:\")\n",
    "print(a)\n",
    "\n",
    "print(\"\\nMedia su tutti gli assi (np.mean(a)):\")\n",
    "print(np.mean(a)) # equivalente a: a.mean()"
   ]
  },
  {
   "cell_type": "markdown",
   "metadata": {},
   "source": [
    "### Lungo il primo asse"
   ]
  },
  {
   "cell_type": "code",
   "execution_count": null,
   "metadata": {},
   "outputs": [],
   "source": [
    "a = np.array(\n",
    "    [[-1, 1],\n",
    "     [-1, 1]]\n",
    ")\n",
    "\n",
    "print(\"Contenuto della variabile:\")\n",
    "print(a)\n",
    "\n",
    "print(\"\\nMedia lungo il primo asse (np.mean(a, axis=0)):\")\n",
    "print(np.mean(a, axis=0)) # equivalente a: a.mean(axis=0)"
   ]
  },
  {
   "cell_type": "markdown",
   "metadata": {},
   "source": [
    "### Lungo il secondo asse"
   ]
  },
  {
   "cell_type": "code",
   "execution_count": null,
   "metadata": {},
   "outputs": [],
   "source": [
    "a = np.array(\n",
    "    [[-1, 1],\n",
    "     [-1, 1]]\n",
    ")\n",
    "\n",
    "print(\"Contenuto della variabile:\")\n",
    "print(a)\n",
    "\n",
    "print(\"\\nMedia lungo il secondo asse (np.mean(a, axis=1)):\")\n",
    "print(np.mean(a, axis=1)) # equivalente a: a.mean(axis=1)"
   ]
  },
  {
   "cell_type": "markdown",
   "metadata": {},
   "source": [
    "## Esercizio\n",
    "\n",
    "Sia\n",
    "```python\n",
    "a = np.array(\n",
    "    [\n",
    "        [[1, 2],\n",
    "         [3, 4]],\n",
    "        [[1, 2],\n",
    "         [3, 4]],\n",
    "        [[1, 2],\n",
    "         [3, 4]],\n",
    "    ]\n",
    ")\n",
    "```\n",
    "Calcolare la media prima lungo il primo, poi lungo il secondo e infine lungo terzo asse. Riflettere sui risultati ottenuti."
   ]
  },
  {
   "cell_type": "code",
   "execution_count": null,
   "metadata": {},
   "outputs": [],
   "source": []
  }
 ],
 "metadata": {
  "kernelspec": {
   "display_name": "Python 3",
   "language": "python",
   "name": "python3"
  },
  "language_info": {
   "codemirror_mode": {
    "name": "ipython",
    "version": 3
   },
   "file_extension": ".py",
   "mimetype": "text/x-python",
   "name": "python",
   "nbconvert_exporter": "python",
   "pygments_lexer": "ipython3",
   "version": "3.6.7"
  }
 },
 "nbformat": 4,
 "nbformat_minor": 2
}
