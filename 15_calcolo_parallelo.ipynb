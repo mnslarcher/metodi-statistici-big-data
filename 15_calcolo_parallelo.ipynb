{
 "cells": [
  {
   "cell_type": "markdown",
   "metadata": {},
   "source": [
    "# Calcolo parallelo"
   ]
  },
  {
   "cell_type": "markdown",
   "metadata": {},
   "source": [
    "# Indice"
   ]
  },
  {
   "cell_type": "markdown",
   "metadata": {},
   "source": [
    "1. [Web scraping](#scraping)<br>\n",
    "2. [Programmazione sequenziale](#sequenziale)<br>\n",
    "3. [Programmazione concorrente - *multithreading*](#multithreading)<br>\n",
    "    3.1 [La classe `Thread`](#thread)<br>\n",
    "    3.2 [Confrontare i tempi di esecuzione](#tempi)<br>\n",
    "4. [Programmazione concorrente - *multiprocessing*](#multiprocessing)<br>\n",
    "    4.1 [La classe `Process`](#process)<br>\n",
    "    4.2 [La classe `Pool`](#pool)<br>\n",
    "5. [Scegliere gli iperparametri ottimali](#iperparametri)<br>"
   ]
  },
  {
   "cell_type": "code",
   "execution_count": null,
   "metadata": {},
   "outputs": [],
   "source": [
    "import inspect\n",
    "import multiprocessing as mp\n",
    "import numpy as np\n",
    "import os\n",
    "import pandas as pd\n",
    "import threading\n",
    "import time\n",
    "\n",
    "\n",
    "%load_ext autoreload\n",
    "%autoreload 2"
   ]
  },
  {
   "cell_type": "markdown",
   "metadata": {},
   "source": [
    "# 1. Web scraping <a id=scraping> </a>"
   ]
  },
  {
   "cell_type": "code",
   "execution_count": null,
   "metadata": {},
   "outputs": [],
   "source": [
    "from msbd.scraping import ottieni_contenuto_url\n",
    "\n",
    "print(inspect.getsource(ottieni_contenuto_url))"
   ]
  },
  {
   "cell_type": "markdown",
   "metadata": {},
   "source": [
    "### Estratte il contenuto di una pagina"
   ]
  },
  {
   "cell_type": "code",
   "execution_count": null,
   "metadata": {},
   "outputs": [],
   "source": [
    "contenuto = ottieni_contenuto_url(\"https://www.didattica.unipd.it/off/2016/LT/SC/SC2094/000ZZ/SCP4063754/N0\")"
   ]
  },
  {
   "cell_type": "code",
   "execution_count": null,
   "metadata": {},
   "outputs": [],
   "source": [
    "N = 5\n",
    "\n",
    "righe_non_vuote = [c for c in contenuto.split(\"\\n\") if c.strip()]\n",
    "\n",
    "print(\"Prime {} righe non vuote:\\n\".format(N) + (\"\\n{}\" * N).format(*righe_non_vuote[:N]))"
   ]
  },
  {
   "cell_type": "markdown",
   "metadata": {},
   "source": [
    "# 2. Programmazione sequenziale <a id=sequenziale> </a>"
   ]
  },
  {
   "cell_type": "code",
   "execution_count": null,
   "metadata": {},
   "outputs": [],
   "source": [
    "URLS = [\n",
    "    \"https://www.didattica.unipd.it/off/2016/LT/SC/SC2094/000ZZ/SCP4063754/N0\",\n",
    "    \"https://stackoverflow.com/questions/3044580/multiprocessing-vs-threading-python\",\n",
    "    \"https://docs.python.org/3.6/library/threading.html\",\n",
    "    \"https://docs.python.org/3.6/library/multiprocessing.html\",\n",
    "]"
   ]
  },
  {
   "cell_type": "markdown",
   "metadata": {},
   "source": [
    "### Esercizio\n",
    "\n",
    "Utilizzare *list comprehension* (o un ciclo *for*) e la funzione `ottieni_contenuto_url()` per completare la funzione `ottieni_contenuto_urls_sequenziale()` in `msbd/modello_lineare/scraping.py`. Il risultato della funzione deve essere la lista dei contenuti degli URL passati come argomento."
   ]
  },
  {
   "cell_type": "code",
   "execution_count": null,
   "metadata": {},
   "outputs": [],
   "source": [
    "from msbd.scraping import ottieni_contenuto_urls_sequenziale\n",
    "\n",
    "print(inspect.getsource(ottieni_contenuto_urls_sequenziale))"
   ]
  },
  {
   "cell_type": "code",
   "execution_count": null,
   "metadata": {},
   "outputs": [],
   "source": [
    "inizio = time.time()\n",
    "\n",
    "contenuti = ottieni_contenuto_urls_sequenziale(URLS)\n",
    "\n",
    "fine = time.time()\n",
    "print(\"Durata: {:.2f}s\".format(fine - inizio))"
   ]
  },
  {
   "cell_type": "markdown",
   "metadata": {},
   "source": [
    "# 3. Programmazione concorrente - *multithreading* <a id=multithreading> </a>"
   ]
  },
  {
   "cell_type": "markdown",
   "metadata": {},
   "source": [
    "## 3.1 La classe [Thread](https://docs.python.org/3.6/library/threading.html#threading.Thread) <a id=thread> </a>"
   ]
  },
  {
   "cell_type": "code",
   "execution_count": null,
   "metadata": {},
   "outputs": [],
   "source": [
    "from msbd.scraping import ottieni_contenuto_urls_threading\n",
    "\n",
    "print(inspect.getsource(ottieni_contenuto_urls_threading))"
   ]
  },
  {
   "cell_type": "code",
   "execution_count": null,
   "metadata": {},
   "outputs": [],
   "source": [
    "inizio = time.time()\n",
    "\n",
    "contenuti = ottieni_contenuto_urls_threading(URLS)\n",
    "\n",
    "fine = time.time()\n",
    "print(\"Durata: {:.2f}s\".format(fine - inizio))"
   ]
  },
  {
   "cell_type": "markdown",
   "metadata": {},
   "source": [
    "### Esercizio\n",
    "\n",
    "Descrivere cosa è cambiato rispetto all'esecuzione sequenziale."
   ]
  },
  {
   "cell_type": "code",
   "execution_count": null,
   "metadata": {},
   "outputs": [],
   "source": []
  },
  {
   "cell_type": "markdown",
   "metadata": {},
   "source": [
    "## 3.2 Confrontare i tempi di esecuzione <a id=tempi> </a>"
   ]
  },
  {
   "cell_type": "markdown",
   "metadata": {},
   "source": [
    "### Tempo di esecuzione approccio sequenziale"
   ]
  },
  {
   "cell_type": "code",
   "execution_count": null,
   "metadata": {
    "scrolled": true
   },
   "outputs": [],
   "source": [
    "%timeit -r 7 -n 1 ottieni_contenuto_urls_sequenziale(URLS, verboso=False)"
   ]
  },
  {
   "cell_type": "markdown",
   "metadata": {},
   "source": [
    "#### Alternativa:"
   ]
  },
  {
   "cell_type": "code",
   "execution_count": null,
   "metadata": {},
   "outputs": [],
   "source": [
    "import timeit\n",
    "\n",
    "REPEAT = 7\n",
    "NUMBER = 1\n",
    "\n",
    "tempi = timeit.repeat(\"ottieni_contenuto_urls_sequenziale(URLS, verboso=False)\", \n",
    "                      setup=\"from __main__ import ottieni_contenuto_urls_sequenziale, URLS\",\n",
    "                      repeat=REPEAT, number=NUMBER)\n",
    "\n",
    "print(\"{:.2f} s ± {:.0f} ms per loop (mean ± std. dev. of {} runs, {} loop each)\".format(\n",
    "    np.mean(tempi), 1000 * np.std(tempi), REPEAT, NUMBER))"
   ]
  },
  {
   "cell_type": "markdown",
   "metadata": {},
   "source": [
    "### Tempo di esecuzione approccio multithreading"
   ]
  },
  {
   "cell_type": "code",
   "execution_count": null,
   "metadata": {
    "scrolled": true
   },
   "outputs": [],
   "source": [
    "%timeit -r 7 -n 1 ottieni_contenuto_urls_threading(URLS, verboso=False)"
   ]
  },
  {
   "cell_type": "markdown",
   "metadata": {},
   "source": [
    "# 4. Programmazione concorrente - *multiprocessing* <a id=multiprocessing> </a>"
   ]
  },
  {
   "cell_type": "code",
   "execution_count": null,
   "metadata": {
    "scrolled": true
   },
   "outputs": [],
   "source": [
    "N_CPU = mp.cpu_count()\n",
    "\n",
    "print(\"# CPU: {}\".format(N_CPU))"
   ]
  },
  {
   "cell_type": "markdown",
   "metadata": {},
   "source": [
    "## 4.1 La classe [Process](https://docs.python.org/3.6/library/multiprocessing.html?highlight=process#multiprocessing.Process) <a id=process> </a>"
   ]
  },
  {
   "cell_type": "markdown",
   "metadata": {},
   "source": [
    "### Esercizio\n",
    "\n",
    "Completare la funzione `ottieni_contenuto_urls_multiprocessing()` in `msbd/modello_lineare/scraping.py`.\n",
    "\n",
    "> Suggerimento: imitare la funzione `ottieni_contenuto_urls_threading()` sostituendo alla classe `Thread` contenuta nella libreria `threading` la classe `Process` contenuta nella libreria `multiprocessing` (già importata in `scraping.py` come `mp`)."
   ]
  },
  {
   "cell_type": "code",
   "execution_count": null,
   "metadata": {},
   "outputs": [],
   "source": [
    "from msbd.scraping import ottieni_contenuto_urls_multiprocessing\n",
    "\n",
    "print(inspect.getsource(ottieni_contenuto_urls_multiprocessing))"
   ]
  },
  {
   "cell_type": "code",
   "execution_count": null,
   "metadata": {},
   "outputs": [],
   "source": [
    "inizio = time.time()\n",
    "\n",
    "contenuti = ottieni_contenuto_urls_multiprocessing(URLS)\n",
    "\n",
    "fine = time.time()\n",
    "print(\"Durata: {:.2f}s\".format(fine - inizio))"
   ]
  },
  {
   "cell_type": "markdown",
   "metadata": {},
   "source": [
    "### Esercizio\n",
    "\n",
    "1. Descrivere le differenze rispetto al risultato ottenuto con l'approccio sequenziale;\n",
    "2. Descrivere le differenze rispetto al risultato ottenuto con l'approccio multi thread."
   ]
  },
  {
   "cell_type": "code",
   "execution_count": null,
   "metadata": {},
   "outputs": [],
   "source": []
  },
  {
   "cell_type": "markdown",
   "metadata": {},
   "source": [
    "### Esercizio\n",
    "\n",
    "Utilizzare il comando magico `%timeit` per calcolare il tempo di esecuzione di `ottieni_contenuto_urls_multiprocessing(URLS, verboso=False)`"
   ]
  },
  {
   "cell_type": "code",
   "execution_count": null,
   "metadata": {},
   "outputs": [],
   "source": [
    "# ============== YOUR CODE HERE ==============\n",
    "raise NotImplementedError\n",
    "# ============================================"
   ]
  },
  {
   "cell_type": "markdown",
   "metadata": {},
   "source": [
    "## 4.2 La classe [Pool](https://docs.python.org/3.6/library/multiprocessing.html?highlight=process#multiprocessing.pool.Pool) <a id=pool> </a>"
   ]
  },
  {
   "cell_type": "code",
   "execution_count": null,
   "metadata": {},
   "outputs": [],
   "source": [
    "inizio = time.time()\n",
    "\n",
    "pool = mp.Pool(processes=N_CPU)\n",
    "contenuti = [pool.map(ottieni_contenuto_url, URLS)]\n",
    "pool.close()\n",
    "pool.join()\n",
    "\n",
    "fine = time.time()\n",
    "print(\"Durata: {:.2f}s\".format(fine - inizio))"
   ]
  },
  {
   "cell_type": "code",
   "execution_count": null,
   "metadata": {},
   "outputs": [],
   "source": [
    "from nltk.tokenize import TweetTokenizer\n",
    "from nltk.stem.snowball import SnowballStemmer"
   ]
  },
  {
   "cell_type": "code",
   "execution_count": null,
   "metadata": {},
   "outputs": [],
   "source": [
    "# leggere il data set\n",
    "tweets = pd.read_csv(\"datasets/twitter/train.csv\", encoding=\"latin\")[\"SentimentText\"].tolist()\n",
    "# creare il tokenizer\n",
    "tokenizer = TweetTokenizer(preserve_case=False, reduce_len=True, strip_handles=True)\n",
    "# creare lo stemmer\n",
    "stemmer = SnowballStemmer(\"english\")\n",
    "# creare una funzione per dividere il tweet in token ridotti alla radice\n",
    "def tweet_analyzer(tweet): return [stemmer.stem(t) for t in tokenizer.tokenize(tweet)]"
   ]
  },
  {
   "cell_type": "markdown",
   "metadata": {},
   "source": [
    "### Approccio sequenziale"
   ]
  },
  {
   "cell_type": "code",
   "execution_count": null,
   "metadata": {},
   "outputs": [],
   "source": [
    "inizio = time.time()\n",
    "\n",
    "tweets_preproc = [tweet_analyzer(tweet) for tweet in tweets]\n",
    "\n",
    "fine = time.time()\n",
    "print(\"Durata: {:.2f}s\".format(fine - inizio))\n",
    "\n",
    "print(tweets_preproc[42])"
   ]
  },
  {
   "cell_type": "markdown",
   "metadata": {},
   "source": [
    "### Approccio parallelo"
   ]
  },
  {
   "cell_type": "markdown",
   "metadata": {},
   "source": [
    "### Esercizio\n",
    "\n",
    "Utilizzare la classe `Pool`per parallelizzare l'analisi dei tweet."
   ]
  },
  {
   "cell_type": "code",
   "execution_count": null,
   "metadata": {},
   "outputs": [],
   "source": [
    "inizio = time.time()\n",
    "\n",
    "# ============== YOUR CODE HERE ==============\n",
    "raise NotImplementedError\n",
    "tweets_preproc = []\n",
    "# ============================================\n",
    "\n",
    "fine = time.time()\n",
    "print(\"Durata: {:.2f}s\".format(fine - inizio))\n",
    "\n",
    "print(tweets_preproc[42])"
   ]
  },
  {
   "cell_type": "markdown",
   "metadata": {},
   "source": [
    "### Linee guida generali sulla scelta della classe più appropriata"
   ]
  },
  {
   "cell_type": "markdown",
   "metadata": {},
   "source": [
    ">1. **Thread**: numero di task medio-basso, molte operazioni di I/O, utilizzo della CPU relativamente basso;\n",
    ">2. **Process**: numero di task medio-basso, utilizzo intensivo della CPU;\n",
    ">3. **Pool**: numero di task alto, utilizzo intensivo della CPU."
   ]
  },
  {
   "cell_type": "markdown",
   "metadata": {},
   "source": [
    "# 5. Scegliere gli iperparametri ottimali <a id=iperparametri> </a>"
   ]
  },
  {
   "cell_type": "code",
   "execution_count": null,
   "metadata": {},
   "outputs": [],
   "source": [
    "from msbd.preprocessamento import OttenereDummy\n",
    "from sklearn.impute import SimpleImputer\n",
    "from sklearn.metrics import accuracy_score\n",
    "from sklearn.model_selection import ParameterGrid\n",
    "from sklearn.model_selection import ShuffleSplit\n",
    "from sklearn.pipeline import Pipeline\n",
    "from sklearn.tree import DecisionTreeClassifier"
   ]
  },
  {
   "cell_type": "code",
   "execution_count": null,
   "metadata": {},
   "outputs": [],
   "source": [
    "# leggere il data set\n",
    "dati = pd.read_csv(\"datasets/titanic/train.csv\")\n",
    "# dividere la X dalla y\n",
    "X, y = dati.drop(columns=\"Survived\").copy(), dati[\"Survived\"].copy()\n",
    "# definire una pipeline di classificazione\n",
    "clf = Pipeline([\n",
    "    (\"ottenere_dummy\", OttenereDummy(drop_first=True)),\n",
    "    (\"imputer\", SimpleImputer(strategy=\"mean\")), \n",
    "    (\"tree\", DecisionTreeClassifier())\n",
    "])\n",
    "# griglia su cui eseguire la ricerca\n",
    "griglia = {\n",
    "    'tree__max_depth': np.arange(1, 18),\n",
    "    'tree__min_samples_leaf': 2 ** np.arange(9),\n",
    "}\n",
    "# dividiere i dati in training e test\n",
    "splitter = ShuffleSplit(n_splits=1, test_size=0.25, random_state=42)\n",
    "train_indices, val_indices = next(splitter.split(X, y))\n",
    "X_train, y_train = X.iloc[train_indices], y.iloc[train_indices]\n",
    "X_val, y_val = X.iloc[val_indices], y.iloc[val_indices]"
   ]
  },
  {
   "cell_type": "markdown",
   "metadata": {},
   "source": [
    "### Approccio sequenziale"
   ]
  },
  {
   "cell_type": "markdown",
   "metadata": {},
   "source": [
    "### Esercizio\n",
    "\n",
    "Effetturare una *grid search* come visto nel notebook [Alberi di decisione](11_alberi_di_decisione.ipynb)."
   ]
  },
  {
   "cell_type": "code",
   "execution_count": null,
   "metadata": {},
   "outputs": [],
   "source": [
    "inizio = time.time()\n",
    "\n",
    "risultati = []\n",
    "\n",
    "# ============== YOUR CODE HERE ==============\n",
    "raise NotImplementedError\n",
    "# ============================================\n",
    "\n",
    "fine = time.time()\n",
    "print(\"Durata: {:.2f}s\".format(fine - inizio))\n",
    "\n",
    "risultati = pd.DataFrame(risultati)\n",
    "risultati.sort_values(\"accuracy_score\", ascending=False, inplace=True)\n",
    "risultati.reset_index(drop=True, inplace=True)\n",
    "\n",
    "risultati.head(5)"
   ]
  },
  {
   "cell_type": "markdown",
   "metadata": {},
   "source": [
    "### Approccio parallelo"
   ]
  },
  {
   "cell_type": "code",
   "execution_count": null,
   "metadata": {},
   "outputs": [],
   "source": [
    "from sklearn.model_selection import GridSearchCV"
   ]
  },
  {
   "cell_type": "code",
   "execution_count": null,
   "metadata": {},
   "outputs": [],
   "source": [
    "inizio = time.time()\n",
    "\n",
    "gscv = GridSearchCV(\n",
    "    estimator=clf, \n",
    "    param_grid=griglia,\n",
    "    scoring=\"accuracy\",\n",
    "    cv=splitter, \n",
    "    n_jobs=N_CPU, \n",
    "    return_train_score=False\n",
    ")\n",
    "\n",
    "gscv.fit(X, y)\n",
    "\n",
    "fine = time.time()\n",
    "print(\"Durata: {:.2f}s\".format(fine - inizio))\n",
    "\n",
    "risultati = pd.DataFrame(gscv.cv_results_)\n",
    "risultati.sort_values(\"split0_test_score\", ascending=False, inplace=True)\n",
    "risultati.reset_index(drop=True, inplace=True)\n",
    "\n",
    "risultati.head(5)"
   ]
  },
  {
   "cell_type": "code",
   "execution_count": null,
   "metadata": {},
   "outputs": [],
   "source": []
  }
 ],
 "metadata": {
  "kernelspec": {
   "display_name": "Python 3",
   "language": "python",
   "name": "python3"
  },
  "language_info": {
   "codemirror_mode": {
    "name": "ipython",
    "version": 3
   },
   "file_extension": ".py",
   "mimetype": "text/x-python",
   "name": "python",
   "nbconvert_exporter": "python",
   "pygments_lexer": "ipython3",
   "version": "3.6.7"
  }
 },
 "nbformat": 4,
 "nbformat_minor": 2
}
