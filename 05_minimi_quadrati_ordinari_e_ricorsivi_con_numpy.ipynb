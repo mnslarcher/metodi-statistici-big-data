{
 "cells": [
  {
   "cell_type": "markdown",
   "metadata": {},
   "source": [
    "# Minimi quadrati ordinari e ricorsivi con NumPy"
   ]
  },
  {
   "cell_type": "markdown",
   "metadata": {},
   "source": [
    "## Indice"
   ]
  },
  {
   "cell_type": "markdown",
   "metadata": {},
   "source": [
    "1. [Diabetes dataset](#dataset)<br />\n",
    "2. [Minimi quadrati ordinari](#ordinari)<br />\n",
    "3. [Minimi quadrati ricorsivi](#ricorsivi)<br />\n",
    "4. [Flusso di dati](#flusso)<br />"
   ]
  },
  {
   "cell_type": "code",
   "execution_count": null,
   "metadata": {},
   "outputs": [],
   "source": [
    "import inspect\n",
    "import matplotlib.pyplot as plt\n",
    "import numpy as np\n",
    "\n",
    "%load_ext autoreload\n",
    "%autoreload 2"
   ]
  },
  {
   "cell_type": "markdown",
   "metadata": {},
   "source": [
    "# 1. [Diabetes dataset](https://scikit-learn.org/stable/datasets/index.html#diabetes-dataset) <a id=dataset> </a>"
   ]
  },
  {
   "cell_type": "code",
   "execution_count": null,
   "metadata": {},
   "outputs": [],
   "source": [
    "from sklearn import datasets\n",
    "\n",
    "X, y = datasets.load_diabetes(return_X_y=True)\n",
    "X = X[:, [2]] # tengo solo la variabile Body mass index"
   ]
  },
  {
   "cell_type": "code",
   "execution_count": null,
   "metadata": {},
   "outputs": [],
   "source": [
    "from msbd.grafici import grafico_progressione_diabete_vs_bmi\n",
    "\n",
    "print(inspect.getsource(grafico_progressione_diabete_vs_bmi))\n",
    "\n",
    "grafico_progressione_diabete_vs_bmi(X, y)\n",
    "plt.show()"
   ]
  },
  {
   "cell_type": "markdown",
   "metadata": {},
   "source": [
    "# 2. Minimi quadrati ordinari <a id=ordinari> </a>"
   ]
  },
  {
   "cell_type": "markdown",
   "metadata": {},
   "source": [
    "### Esercizio\n",
    "\n",
    "1. Completare il metodo `fit()`, stima dei coefficienti con il metodo dei minimi quadrati ordinari, della classe `RegressioneLineare` in `msbd/modello_lineare/regressione_lineare.py`;\n",
    "\n",
    "2. Verificare il proprio codice utilizzando pytest.\n",
    "\n",
    "Si ricorda che la stima dei coefficienti $\\hat{\\beta}$ con il metodo dei minimi quadrati ordinari consiste in $\\hat{\\beta}=(X^TX)^{-1}X^Ty$."
   ]
  },
  {
   "cell_type": "code",
   "execution_count": null,
   "metadata": {},
   "outputs": [],
   "source": [
    "from msbd.modello_lineare import  RegressioneLineare\n",
    "\n",
    "print(inspect.getsource(RegressioneLineare))"
   ]
  },
  {
   "cell_type": "code",
   "execution_count": null,
   "metadata": {},
   "outputs": [],
   "source": [
    "!pytest -v msbd/tests/test_regressione_lineare_fit.py"
   ]
  },
  {
   "cell_type": "code",
   "execution_count": null,
   "metadata": {
    "scrolled": true
   },
   "outputs": [],
   "source": [
    "from sklearn.linear_model import LinearRegression\n",
    "\n",
    "grafico_progressione_diabete_vs_bmi(X, y)\n",
    "\n",
    "lr = LinearRegression()\n",
    "lr.fit(X, y)\n",
    "y_hat = lr.predict(X)\n",
    "\n",
    "plt.plot(X, y_hat, c='tab:green', label=\"Minimi quadrati ordinari\")\n",
    "plt.legend()\n",
    "plt.show()"
   ]
  },
  {
   "cell_type": "markdown",
   "metadata": {},
   "source": [
    "### Esercizio\n",
    "\n",
    "Riottenere il grafico utilizzando la classe `RegressioneLineare`."
   ]
  },
  {
   "cell_type": "code",
   "execution_count": null,
   "metadata": {},
   "outputs": [],
   "source": []
  },
  {
   "cell_type": "markdown",
   "metadata": {},
   "source": [
    "# 3. Minimi quadrati ricorsivi <a id=ricorsivi> </a>"
   ]
  },
  {
   "cell_type": "markdown",
   "metadata": {},
   "source": [
    "### Esercizio\n",
    "\n",
    "1. Completare il metodo `partial_fit()`, stima dei coefficienti tramite l'algoritmo dei minimi quadrati ricorsivi, della classe `RegressioneLineare` in `msbd/modello_lineare/regressione_lineare.py`; \n",
    "\n",
    "2. Verificare il proprio codice utilizzando pytest.\n",
    "\n",
    "Da pagina 34 del libro di B. Scarpa e A. Azzalini, *Data Analysis and Data Mining* (nota: la stima dell'errore standard è omessa):\n",
    "\n",
    "**Algoritmo** Minimi quadrati ricorsivi\n",
    "\n",
    "1. $W_{(p\\times p)} = 0,\\, u_{(p\\times 1)} = 0.$\n",
    "2. Ciclo per $n = 1,\\, \\dots,\\, p$:\n",
    "    1. leggo l'$n$-esimo record: $x = \\tilde{x}_n,\\, y = \\tilde{y}_n$;\n",
    "    2. $W = W + xx^\\top$;\n",
    "    3. $u = u + xy$.\n",
    "    4. Se $n = p$:\n",
    "        1. $V = W^{-1}$.\n",
    "        2. $\\hat{\\beta} = Vu$.\n",
    "3. Ciclo per $n = p + 1,\\, p + 2, \\dots$:\n",
    "    1. leggo l'$n$-esimo record: $x = \\tilde{x}_n,\\, y = \\tilde{y}_n$;\n",
    "    2. $h = 1 / (1 + x^{\\top}Vx)$;\n",
    "    3. $e = y - x^{\\top}\\hat{\\beta}$;\n",
    "    4. $\\hat{\\beta} = \\hat{\\beta} + hVxe$;\n",
    "    5. $V = V - hVxx^{\\top}V$."
   ]
  },
  {
   "cell_type": "code",
   "execution_count": null,
   "metadata": {},
   "outputs": [],
   "source": [
    "!pytest -v msbd/tests/test_regressione_lineare_partial_fit.py"
   ]
  },
  {
   "cell_type": "markdown",
   "metadata": {},
   "source": [
    "# 4. Flusso di dati <a id=flusso> </a>"
   ]
  },
  {
   "cell_type": "code",
   "execution_count": null,
   "metadata": {
    "scrolled": false
   },
   "outputs": [],
   "source": [
    "lr = LinearRegression()\n",
    "lr.fit(X, y)\n",
    "y_hat = lr.predict(X)\n",
    "\n",
    "for i, (xn, yn) in enumerate(zip(X, y), 1):\n",
    "    if i == 1:\n",
    "        X_par = xn\n",
    "        y_par = yn\n",
    "    else:\n",
    "        X_par = np.vstack([X_par, xn])\n",
    "        y_par = np.vstack([y_par, yn])\n",
    "\n",
    "    if i % 10 ** (1 + (i > 50)) == 0:\n",
    "        lr = LinearRegression()\n",
    "        lr.fit(X_par, y_par)\n",
    "        y_hat_par = lr.predict(X)\n",
    "    \n",
    "        print(\"Regressione lineare dopo l'arrivo di {} osservazioni:\".format(i))\n",
    "        grafico_progressione_diabete_vs_bmi(X, y)\n",
    "        plt.scatter(X[:i], y[:i], color=\"tab:orange\")\n",
    "        plt.plot(X, y_hat, color='tab:green', label=\"MQ ordinari - dataset completo\")\n",
    "        plt.plot(X, y_hat_par, color=\"tab:red\", label=\"MQ ordinari - dataset parziale\")\n",
    "        plt.legend(loc=\"lower right\")\n",
    "        plt.show()"
   ]
  },
  {
   "cell_type": "markdown",
   "metadata": {},
   "source": [
    "### Esercizio\n",
    "\n",
    "1. Ripetere la simulazione del flusso di dati, questa volta confrontando la stima ottenuta con l'algoritmo dei minimi quadrati ordinari sul dataset completo con quella ottenuto con l'algoritmo dei minimi quadrati ricorsivi all'arrivo di nuove osservazioni. Riflettere attentamente a come deve essere modificato il codice utilizzato in precedenza;\n",
    "2. Elencare i vantaggi di questo approccio rispetto al precedente."
   ]
  },
  {
   "cell_type": "code",
   "execution_count": null,
   "metadata": {},
   "outputs": [],
   "source": []
  }
 ],
 "metadata": {
  "kernelspec": {
   "display_name": "Python 3",
   "language": "python",
   "name": "python3"
  },
  "language_info": {
   "codemirror_mode": {
    "name": "ipython",
    "version": 3
   },
   "file_extension": ".py",
   "mimetype": "text/x-python",
   "name": "python",
   "nbconvert_exporter": "python",
   "pygments_lexer": "ipython3",
   "version": "3.6.7"
  }
 },
 "nbformat": 4,
 "nbformat_minor": 2
}
