{
 "cells": [
  {
   "cell_type": "code",
   "execution_count": null,
   "metadata": {},
   "outputs": [],
   "source": [
    "import inspect\n",
    "import multiprocessing as mp\n",
    "import numpy as np\n",
    "import os\n",
    "import threading\n",
    "\n",
    "%load_ext autoreload\n",
    "%autoreload 2"
   ]
  },
  {
   "cell_type": "code",
   "execution_count": null,
   "metadata": {},
   "outputs": [],
   "source": [
    "from msbd.scraping import ottieni_contenuto_url\n",
    "\n",
    "print(inspect.getsource(ottieni_contenuto_url))"
   ]
  },
  {
   "cell_type": "code",
   "execution_count": null,
   "metadata": {},
   "outputs": [],
   "source": [
    "contenuto = ottieni_contenuto_url(\"https://www.didattica.unipd.it/off/2016/LT/SC/SC2094/000ZZ/SCP4063754/N0\")"
   ]
  },
  {
   "cell_type": "code",
   "execution_count": null,
   "metadata": {},
   "outputs": [],
   "source": [
    "URLS = [\n",
    "    \"https://en.wikipedia.org/wiki/Multithreading_(computer_architecture)\",\n",
    "    \"https://en.wikipedia.org/wiki/Multiprocessing\",\n",
    "    \"https://docs.python.org/3.6/library/threading.html\",\n",
    "    \"https://docs.python.org/3.6/library/multiprocessing.html\",\n",
    "]"
   ]
  },
  {
   "cell_type": "markdown",
   "metadata": {},
   "source": [
    "### Esercizio"
   ]
  },
  {
   "cell_type": "markdown",
   "metadata": {},
   "source": [
    "# `Thread`"
   ]
  },
  {
   "cell_type": "code",
   "execution_count": null,
   "metadata": {},
   "outputs": [],
   "source": [
    "from bs4 import BeautifulSoup\n",
    "import requests"
   ]
  },
  {
   "cell_type": "code",
   "execution_count": null,
   "metadata": {},
   "outputs": [],
   "source": [
    "def salva_contenuto_urls_multiprocess(urls, file):\n",
    "    coda = mp.Queue()\n",
    "    \n",
    "    processi = [mp.Process(target=ottieni_contenuto_url, args=(url, coda)) \n",
    "        for url in urls]\n",
    "    \n",
    "    for p in processi:\n",
    "        p.start()\n",
    "\n",
    "    contenuto = [coda.get() for p in processi]\n",
    "    \n",
    "    for p in processi:\n",
    "        p.join()\n",
    "\n",
    "    return contenuto"
   ]
  },
  {
   "cell_type": "code",
   "execution_count": null,
   "metadata": {},
   "outputs": [],
   "source": [
    "prova[0]"
   ]
  },
  {
   "cell_type": "code",
   "execution_count": null,
   "metadata": {},
   "outputs": [],
   "source": [
    "prova = salva_contenuto_urls_multiprocess(urls, \"aaa\")"
   ]
  },
  {
   "cell_type": "code",
   "execution_count": null,
   "metadata": {},
   "outputs": [],
   "source": [
    "def contenuto_url(url, coda=None):\n",
    "    id_processo = os.getpid()\n",
    "    nome_processo = mp.current_process().name\n",
    "    nome_thread = threading.current_thread().name\n",
    "    \n",
    "    print(\"[INIZIO]\\nID processo: {}\\nNome processo: {}\\nNome thread: {}\\n\".format(\n",
    "        id_processo, nome_processo, nome_thread))\n",
    "\n",
    "    try:\n",
    "        risposta = requests.get(url)\n",
    "        testo = BeautifulSoup(risposta.content, \"lxml\").get_text()\n",
    "    except:\n",
    "        testo = \"\"\n",
    "        \n",
    "    print(\"[FINE]\\nID processo: {}\\nNome processo: {}\\nNome thread: {}\\n\".format(\n",
    "        id_processo, nome_processo, nome_thread))\n",
    "    \n",
    "    if coda is not None:\n",
    "        coda.put(testo)\n",
    "    else:\n",
    "        return testo"
   ]
  },
  {
   "cell_type": "code",
   "execution_count": null,
   "metadata": {},
   "outputs": [],
   "source": [
    "urls = [\n",
    "    \"https://it.wikipedia.org/wiki/Multithreading\",\n",
    "    \"https://docs.python.org/3.6/library/threading.html\",\n",
    "    \"https://realpython.com/intro-to-python-threading/\",\n",
    "    \"https://stackoverflow.com/questions/3044580/multiprocessing-vs-threading-python\"\n",
    "]"
   ]
  },
  {
   "cell_type": "code",
   "execution_count": null,
   "metadata": {},
   "outputs": [],
   "source": [
    "from msbd.scraping.scraping import ottieni_contenuto_url"
   ]
  },
  {
   "cell_type": "code",
   "execution_count": null,
   "metadata": {},
   "outputs": [],
   "source": [
    "import requests\n",
    "from bs4 import BeautifulSoup"
   ]
  },
  {
   "cell_type": "code",
   "execution_count": null,
   "metadata": {
    "scrolled": true
   },
   "outputs": [],
   "source": [
    "n_cpu = mp.cpu_count()\n",
    "\n",
    "print(\"# CPU: {}\".format(n_cpu))"
   ]
  },
  {
   "cell_type": "code",
   "execution_count": null,
   "metadata": {},
   "outputs": [],
   "source": [
    "risposta = requests.get(urls[0])"
   ]
  },
  {
   "cell_type": "code",
   "execution_count": null,
   "metadata": {},
   "outputs": [],
   "source": [
    "testo = BeautifulSoup(risposta.content, \"lxml\").get_text()"
   ]
  },
  {
   "cell_type": "code",
   "execution_count": null,
   "metadata": {},
   "outputs": [],
   "source": [
    "        risposta = requests.get(urls[0])\n",
    "        testo = BeautifulSoup(risposta.content, \"lxml\").get_text()"
   ]
  },
  {
   "cell_type": "code",
   "execution_count": null,
   "metadata": {},
   "outputs": [],
   "source": [
    "        risposta = requests.get(urls[0])\n",
    "        testo = BeautifulSoup(risposta.content, \"lxml\").get_text()"
   ]
  },
  {
   "cell_type": "code",
   "execution_count": null,
   "metadata": {},
   "outputs": [],
   "source": [
    "import pickle"
   ]
  },
  {
   "cell_type": "code",
   "execution_count": null,
   "metadata": {},
   "outputs": [],
   "source": [
    "with open(\"datasets/urls/sequenziale.pkl\", \"rb\") as f:\n",
    "    contenuti = pickle.load(f)"
   ]
  },
  {
   "cell_type": "code",
   "execution_count": null,
   "metadata": {},
   "outputs": [],
   "source": [
    "OUTPUT_DIR = \"output/14\"\n",
    "\n",
    "os.makedirs(OUTPUT_DIR, exist_ok=True)"
   ]
  },
  {
   "cell_type": "code",
   "execution_count": null,
   "metadata": {},
   "outputs": [],
   "source": [
    "!python msbd/scraping/scraping.py --urls datasets/urls/urls.txt --tipo sequenziale --output=$OUTPUT_DIR/sequenziale.pkl"
   ]
  },
  {
   "cell_type": "code",
   "execution_count": null,
   "metadata": {},
   "outputs": [],
   "source": [
    "!python msbd/scraping/scraping.py --urls datasets/urls/urls.txt --tipo multiprocess --output=$OUTPUT_DIR/multiprocess.pkl"
   ]
  },
  {
   "cell_type": "code",
   "execution_count": null,
   "metadata": {},
   "outputs": [],
   "source": [
    "import time"
   ]
  },
  {
   "cell_type": "code",
   "execution_count": null,
   "metadata": {},
   "outputs": [],
   "source": [
    "with open(\"datasets/url/lista_url.txt\") as f:\n",
    "    lista_url = f.read().split(\"\\n\")"
   ]
  },
  {
   "cell_type": "code",
   "execution_count": null,
   "metadata": {},
   "outputs": [],
   "source": [
    "lista_url"
   ]
  },
  {
   "cell_type": "code",
   "execution_count": null,
   "metadata": {},
   "outputs": [],
   "source": [
    "inizio = time.time()\n",
    "\n",
    "contenuti = [contenuto_url(url) for url in urls]\n",
    "\n",
    "fine = time.time()\n",
    "print(\"Durata: {:.2f}s\".format(fine - inizio))"
   ]
  },
  {
   "cell_type": "code",
   "execution_count": null,
   "metadata": {},
   "outputs": [],
   "source": [
    "def process(target, urls):\n",
    "    coda = mp.Queue()\n",
    "    \n",
    "    processi = [mp.Process(target=target, args=(url, coda)) for url in urls]\n",
    "    \n",
    "    for p in processi:\n",
    "        p.start()\n",
    "    \n",
    "    for p in processi:\n",
    "        p.join()\n",
    "\n",
    "    return [coda.get() for p in processi] "
   ]
  },
  {
   "cell_type": "code",
   "execution_count": null,
   "metadata": {},
   "outputs": [],
   "source": [
    "contenuti"
   ]
  },
  {
   "cell_type": "code",
   "execution_count": null,
   "metadata": {},
   "outputs": [],
   "source": [
    "inizio = time.time()\n",
    "\n",
    "__name__ == \"main\"\n",
    "\n",
    "contenuti = process(contenuto_url, urls)\n",
    "\n",
    "fine = time.time()\n",
    "print(\"Durata: {:.2f}s\".format(fine - inizio))"
   ]
  },
  {
   "cell_type": "code",
   "execution_count": null,
   "metadata": {},
   "outputs": [],
   "source": [
    "inizio = time.time()\n",
    "\n",
    "coda_fifo = mp.Queue()\n",
    "    \n",
    "processi = [threading.Thread(target=ottieni_testo_da_url, args=(url, coda_fifo)) \n",
    "            for url in urls]\n",
    "    \n",
    "for p in processi:\n",
    "    p.start()\n",
    "    \n",
    "for p in processi:\n",
    "    p.join()\n",
    "\n",
    "testi = [coda_fifo.get() for p in processi] \n",
    "\n",
    "fine = time.time()\n",
    "print(\"Durata: {:.2f}s\".format(fine - inizio))"
   ]
  },
  {
   "cell_type": "code",
   "execution_count": null,
   "metadata": {},
   "outputs": [],
   "source": [
    "inizio = time.time()\n",
    "\n",
    "contenuti = process()\n",
    "\n",
    "fine = time.time()\n",
    "print(\"Durata: {:.2f}s\".format(fine - inizio))"
   ]
  },
  {
   "cell_type": "code",
   "execution_count": null,
   "metadata": {},
   "outputs": [],
   "source": [
    "def e_primo(n):\n",
    "    \n",
    "    return (n >= 2) & all(n % i for i in range(2, n))\n",
    "\n",
    "\n",
    "def conta_numeri_primi(numeri, dormi={}, verboso=False):\n",
    "\n",
    "    if verboso:\n",
    "        pid = os.getpid()\n",
    "        pname = mp.current_process().name\n",
    "        tname = threading.current_thread().name\n",
    "        print(\"PID: {}, Processo: {}, Thread: {}\".format(pid, pname, tname))\n",
    "    \n",
    "    c = 0\n",
    "    \n",
    "    for n in numeri:\n",
    "\n",
    "        if n in dormi:\n",
    "            time.sleep(dormi[n])\n",
    "\n",
    "        if (n >= 2) & all(n % i for i in range(2, n)):\n",
    "            c += 1\n",
    "\n",
    "    return c"
   ]
  },
  {
   "cell_type": "code",
   "execution_count": null,
   "metadata": {},
   "outputs": [],
   "source": [
    "def target(numeri, output, dormi, verboso):\n",
    "    output.put(conta_numeri_primi(numeri, dormi, verboso))\n",
    "\n",
    "def conta_numeri_primi_parallelo(numeri, classe, dormi={}, verboso=False, \n",
    "                                 indices_or_sections=4):\n",
    "    output = mp.Queue()\n",
    "    \n",
    "    processi = [classe(target=target, args=(n, output, dormi, verboso)) \n",
    "                for n in np.array_split(numeri, indices_or_sections)]\n",
    "    \n",
    "    for p in processi:\n",
    "        p.start()\n",
    "    \n",
    "    for p in processi:\n",
    "        p.join()\n",
    "\n",
    "    return sum([output.get() for p in processi])"
   ]
  },
  {
   "cell_type": "code",
   "execution_count": null,
   "metadata": {},
   "outputs": [],
   "source": [
    "n = conta_numeri_primi(numeri, verboso=True)\n",
    "\n",
    "print(\"\\n# numeri primi: {}\".format(n))\n",
    "print()"
   ]
  },
  {
   "cell_type": "code",
   "execution_count": null,
   "metadata": {},
   "outputs": [],
   "source": [
    "n = conta_numeri_primi_parallelo(numeri, mp.Process, verboso=True)\n",
    "\n",
    "print(\"\\n# numeri primi: {}\".format(n))"
   ]
  },
  {
   "cell_type": "code",
   "execution_count": null,
   "metadata": {},
   "outputs": [],
   "source": [
    "n = conta_numeri_primi_parallelo(numeri, threading.Thread, verboso=True)\n",
    "\n",
    "print(\"\\n# numeri primi: {}\".format(n))"
   ]
  },
  {
   "cell_type": "code",
   "execution_count": null,
   "metadata": {},
   "outputs": [],
   "source": [
    "%timeit -r 10 -n 1 conta_numeri_primi(numeri)"
   ]
  },
  {
   "cell_type": "code",
   "execution_count": null,
   "metadata": {},
   "outputs": [],
   "source": [
    "%timeit -r 10 -n 1 conta_numeri_primi_parallelo(numeri, threading.Thread)"
   ]
  },
  {
   "cell_type": "code",
   "execution_count": null,
   "metadata": {},
   "outputs": [],
   "source": [
    "%timeit -r 10 -n 1 conta_numeri_primi_parallelo(numeri, mp.Process)"
   ]
  },
  {
   "cell_type": "code",
   "execution_count": null,
   "metadata": {},
   "outputs": [],
   "source": []
  },
  {
   "cell_type": "code",
   "execution_count": null,
   "metadata": {},
   "outputs": [],
   "source": [
    "%timeit -r 10 -n 1 conta_numeri_primi(numeri, dormi={0: 0.25})"
   ]
  },
  {
   "cell_type": "code",
   "execution_count": null,
   "metadata": {},
   "outputs": [],
   "source": [
    "%timeit -r 10 -n 1 conta_numeri_primi_parallelo(numeri, threading.Thread, dormi={0: 0.25})"
   ]
  },
  {
   "cell_type": "code",
   "execution_count": null,
   "metadata": {},
   "outputs": [],
   "source": [
    "%timeit -r 10 -n 1 conta_numeri_primi_parallelo(numeri, mp.Process, dormi={0: 0.25})"
   ]
  },
  {
   "cell_type": "code",
   "execution_count": null,
   "metadata": {},
   "outputs": [],
   "source": [
    "def conta_numeri_primi_pool_apply(numeri, dormi={}, verboso=False, \n",
    "                            indices_or_sections=4, processes=mp.cpu_count()):\n",
    "    pool = mp.Pool(processes=processes)\n",
    "    \n",
    "    risultati = [pool.apply(conta_numeri_primi, args=(n, dormi, verboso)) \n",
    "                 for n in np.array_split(numeri, indices_or_sections)] \n",
    "    \n",
    "    return sum(risultati)\n",
    "\n",
    "def conta_numeri_primi_pool_apply_async(numeri, dormi={}, verboso=False, \n",
    "                            indices_or_sections=4, processes=mp.cpu_count()):\n",
    "    pool = mp.Pool(processes=processes)\n",
    "    \n",
    "    risultati = [pool.apply_async(conta_numeri_primi, args=(n, dormi, verboso)) \n",
    "                 for n in np.array_split(numeri, indices_or_sections)] \n",
    "    \n",
    "    return sum([p.get() for p in risultati])"
   ]
  },
  {
   "cell_type": "code",
   "execution_count": null,
   "metadata": {},
   "outputs": [],
   "source": [
    "n = conta_numeri_primi_pool_apply(numeri, verboso=True)\n",
    "\n",
    "print(\"\\n# numeri primi: {}\".format(n))"
   ]
  },
  {
   "cell_type": "code",
   "execution_count": null,
   "metadata": {},
   "outputs": [],
   "source": [
    "n = conta_numeri_primi_pool_apply_async(numeri, verboso=True)\n",
    "\n",
    "print(\"\\n# numeri primi: {}\".format(n))"
   ]
  },
  {
   "cell_type": "code",
   "execution_count": null,
   "metadata": {},
   "outputs": [],
   "source": [
    "%timeit -r 10 -n 1 conta_numeri_primi(numeri)"
   ]
  },
  {
   "cell_type": "code",
   "execution_count": null,
   "metadata": {},
   "outputs": [],
   "source": [
    "%timeit -r 10 -n 1 conta_numeri_primi_pool_apply(numeri, indices_or_sections=16)"
   ]
  },
  {
   "cell_type": "code",
   "execution_count": null,
   "metadata": {},
   "outputs": [],
   "source": [
    "%timeit -r 10 -n 1 conta_numeri_primi_pool_apply_async(numeri, indices_or_sections=16)"
   ]
  },
  {
   "cell_type": "code",
   "execution_count": null,
   "metadata": {},
   "outputs": [],
   "source": [
    "%timeit -r 10 -n 1 conta_numeri_primi_pool_apply_async(numeri, indices_or_sections=100)"
   ]
  },
  {
   "cell_type": "code",
   "execution_count": null,
   "metadata": {},
   "outputs": [],
   "source": [
    "%timeit -r 2 -n 1 conta_numeri_primi_parallelo(numeri, threading.Thread, dormi={0: 1})"
   ]
  },
  {
   "cell_type": "code",
   "execution_count": null,
   "metadata": {},
   "outputs": [],
   "source": [
    "%timeit -r 2 -n 1 conta_numeri_primi_parallelo(numeri, mp.Process, dormi={0: 1})"
   ]
  },
  {
   "cell_type": "code",
   "execution_count": null,
   "metadata": {},
   "outputs": [],
   "source": [
    "%timeit -r 10 -n 1 conta_numeri_primi_pool_apply(numeri, indices_or_sections=100)"
   ]
  },
  {
   "cell_type": "code",
   "execution_count": null,
   "metadata": {},
   "outputs": [],
   "source": [
    "%timeit -r 2 -n 1 conta_numeri_primi_pool_apply(numeri, dormi={0: 1}, indices_or_sections=16)"
   ]
  },
  {
   "cell_type": "code",
   "execution_count": null,
   "metadata": {},
   "outputs": [],
   "source": [
    "%timeit -r 2 -n 1 conta_numeri_primi_pool_apply_async(numeri, dormi={0: 1}, indices_or_sections=16)"
   ]
  },
  {
   "cell_type": "code",
   "execution_count": null,
   "metadata": {},
   "outputs": [],
   "source": [
    "%timeit -r 2 -n 1 conta_numeri_primi_pool_apply_async(numeri, dormi={0: 1}, indices_or_sections=16)"
   ]
  },
  {
   "cell_type": "code",
   "execution_count": null,
   "metadata": {},
   "outputs": [],
   "source": [
    "%timeit -r 10 -n 1 conta_numeri_primi_pool(numeri)"
   ]
  },
  {
   "cell_type": "code",
   "execution_count": null,
   "metadata": {},
   "outputs": [],
   "source": [
    "pool = mp.Pool(processes=4)\n",
    "\n",
    "risultati = [pool.apply_async(conta_numeri_primi, args=(n, {}, False)) \n",
    "             for n in np.array_split(numeri, 100)] \n",
    "sum([p.get() for p in risultati])"
   ]
  },
  {
   "cell_type": "code",
   "execution_count": null,
   "metadata": {},
   "outputs": [],
   "source": [
    "pool = mp.Pool(processes=4)\n",
    "results = [pool.apply_async(cube, args=(x,)) for x in range(1,7)]\n",
    "output = [p.get() for p in results]\n",
    "print(output)"
   ]
  }
 ],
 "metadata": {
  "kernelspec": {
   "display_name": "Python 3",
   "language": "python",
   "name": "python3"
  },
  "language_info": {
   "codemirror_mode": {
    "name": "ipython",
    "version": 3
   },
   "file_extension": ".py",
   "mimetype": "text/x-python",
   "name": "python",
   "nbconvert_exporter": "python",
   "pygments_lexer": "ipython3",
   "version": "3.6.7"
  }
 },
 "nbformat": 4,
 "nbformat_minor": 2
}
