{
 "cells": [
  {
   "cell_type": "code",
   "execution_count": null,
   "metadata": {},
   "outputs": [],
   "source": [
    "import multiprocessing as mp\n",
    "import numpy as np\n",
    "import os\n",
    "import threading"
   ]
  },
  {
   "cell_type": "code",
   "execution_count": null,
   "metadata": {},
   "outputs": [],
   "source": [
    "print(\"# CPU: {}\".format(mp.cpu_count()))"
   ]
  },
  {
   "cell_type": "markdown",
   "metadata": {},
   "source": [
    "# La classe `Process`"
   ]
  },
  {
   "cell_type": "code",
   "execution_count": null,
   "metadata": {
    "scrolled": true
   },
   "outputs": [],
   "source": [
    "numeri = np.arange(4000)"
   ]
  },
  {
   "cell_type": "code",
   "execution_count": null,
   "metadata": {},
   "outputs": [],
   "source": [
    "import time"
   ]
  },
  {
   "cell_type": "code",
   "execution_count": null,
   "metadata": {},
   "outputs": [],
   "source": [
    "def conta_numeri_primi(numeri, dormi={}, verboso=False):\n",
    "\n",
    "    if verboso:\n",
    "        pid = os.getpid()\n",
    "        pname = mp.current_process().name\n",
    "        tname = threading.current_thread().name\n",
    "        print(\"PID: {}, Processo: {}, Thread: {}\".format(pid, pname, tname))\n",
    "    \n",
    "    c = 0\n",
    "    \n",
    "    for n in numeri:\n",
    "\n",
    "        if n in dormi:\n",
    "            time.sleep(dormi[n])\n",
    "\n",
    "        if (n >= 2) & all(n % i for i in range(2, n)):\n",
    "            c += 1\n",
    "\n",
    "    return c"
   ]
  },
  {
   "cell_type": "code",
   "execution_count": null,
   "metadata": {},
   "outputs": [],
   "source": [
    "def target(numeri, output, dormi, verboso):\n",
    "    output.put(conta_numeri_primi(numeri, dormi, verboso))\n",
    "\n",
    "def conta_numeri_primi_parallelo(numeri, classe, dormi={}, verboso=False, \n",
    "                                 indices_or_sections=4):\n",
    "    output = mp.Queue()\n",
    "    \n",
    "    processi = [classe(target=target, args=(n, output, dormi, verboso)) \n",
    "                for n in np.array_split(numeri, indices_or_sections)]\n",
    "    \n",
    "    for p in processi:\n",
    "        p.start()\n",
    "    \n",
    "    for p in processi:\n",
    "        p.join()\n",
    "\n",
    "    return sum([output.get() for p in processi])"
   ]
  },
  {
   "cell_type": "code",
   "execution_count": null,
   "metadata": {},
   "outputs": [],
   "source": [
    "n = conta_numeri_primi(numeri, verboso=True)\n",
    "\n",
    "print(\"\\n# numeri primi: {}\".format(n))\n",
    "print()"
   ]
  },
  {
   "cell_type": "code",
   "execution_count": null,
   "metadata": {},
   "outputs": [],
   "source": [
    "n = conta_numeri_primi_parallelo(numeri, mp.Process, verboso=True)\n",
    "\n",
    "print(\"\\n# numeri primi: {}\".format(n))"
   ]
  },
  {
   "cell_type": "code",
   "execution_count": null,
   "metadata": {},
   "outputs": [],
   "source": [
    "n = conta_numeri_primi_parallelo(numeri, threading.Thread, verboso=True)\n",
    "\n",
    "print(\"\\n# numeri primi: {}\".format(n))"
   ]
  },
  {
   "cell_type": "code",
   "execution_count": null,
   "metadata": {},
   "outputs": [],
   "source": [
    "%timeit -r 10 -n 1 conta_numeri_primi(numeri)"
   ]
  },
  {
   "cell_type": "code",
   "execution_count": null,
   "metadata": {},
   "outputs": [],
   "source": [
    "%timeit -r 10 -n 1 conta_numeri_primi_parallelo(numeri, threading.Thread)"
   ]
  },
  {
   "cell_type": "code",
   "execution_count": null,
   "metadata": {},
   "outputs": [],
   "source": [
    "%timeit -r 10 -n 1 conta_numeri_primi_parallelo(numeri, mp.Process)"
   ]
  },
  {
   "cell_type": "code",
   "execution_count": null,
   "metadata": {},
   "outputs": [],
   "source": []
  },
  {
   "cell_type": "code",
   "execution_count": null,
   "metadata": {},
   "outputs": [],
   "source": [
    "%timeit -r 10 -n 1 conta_numeri_primi(numeri, dormi={0: 0.25})"
   ]
  },
  {
   "cell_type": "code",
   "execution_count": null,
   "metadata": {},
   "outputs": [],
   "source": [
    "%timeit -r 10 -n 1 conta_numeri_primi_parallelo(numeri, threading.Thread, dormi={0: 0.25})"
   ]
  },
  {
   "cell_type": "code",
   "execution_count": null,
   "metadata": {},
   "outputs": [],
   "source": [
    "%timeit -r 10 -n 1 conta_numeri_primi_parallelo(numeri, mp.Process, dormi={0: 0.25})"
   ]
  },
  {
   "cell_type": "code",
   "execution_count": null,
   "metadata": {},
   "outputs": [],
   "source": [
    "def conta_numeri_primi_pool_apply(numeri, dormi={}, verboso=False, \n",
    "                            indices_or_sections=4, processes=mp.cpu_count()):\n",
    "    pool = mp.Pool(processes=processes)\n",
    "    \n",
    "    risultati = [pool.apply(conta_numeri_primi, args=(n, dormi, verboso)) \n",
    "                 for n in np.array_split(numeri, indices_or_sections)] \n",
    "    \n",
    "    return sum(risultati)\n",
    "\n",
    "def conta_numeri_primi_pool_apply_async(numeri, dormi={}, verboso=False, \n",
    "                            indices_or_sections=4, processes=mp.cpu_count()):\n",
    "    pool = mp.Pool(processes=processes)\n",
    "    \n",
    "    risultati = [pool.apply_async(conta_numeri_primi, args=(n, dormi, verboso)) \n",
    "                 for n in np.array_split(numeri, indices_or_sections)] \n",
    "    \n",
    "    return sum([p.get() for p in risultati])"
   ]
  },
  {
   "cell_type": "code",
   "execution_count": null,
   "metadata": {},
   "outputs": [],
   "source": [
    "n = conta_numeri_primi_pool_apply(numeri, verboso=True)\n",
    "\n",
    "print(\"\\n# numeri primi: {}\".format(n))"
   ]
  },
  {
   "cell_type": "code",
   "execution_count": null,
   "metadata": {},
   "outputs": [],
   "source": [
    "n = conta_numeri_primi_pool_apply_async(numeri, verboso=True)\n",
    "\n",
    "print(\"\\n# numeri primi: {}\".format(n))"
   ]
  },
  {
   "cell_type": "code",
   "execution_count": null,
   "metadata": {},
   "outputs": [],
   "source": [
    "%timeit -r 10 -n 1 conta_numeri_primi(numeri)"
   ]
  },
  {
   "cell_type": "code",
   "execution_count": null,
   "metadata": {},
   "outputs": [],
   "source": [
    "%timeit -r 10 -n 1 conta_numeri_primi_pool_apply(numeri, indices_or_sections=16)"
   ]
  },
  {
   "cell_type": "code",
   "execution_count": null,
   "metadata": {},
   "outputs": [],
   "source": [
    "%timeit -r 10 -n 1 conta_numeri_primi_pool_apply_async(numeri, indices_or_sections=16)"
   ]
  },
  {
   "cell_type": "code",
   "execution_count": null,
   "metadata": {},
   "outputs": [],
   "source": [
    "%timeit -r 10 -n 1 conta_numeri_primi_pool_apply_async(numeri, indices_or_sections=100)"
   ]
  },
  {
   "cell_type": "code",
   "execution_count": null,
   "metadata": {},
   "outputs": [],
   "source": [
    "%timeit -r 2 -n 1 conta_numeri_primi_parallelo(numeri, threading.Thread, dormi={0: 1})"
   ]
  },
  {
   "cell_type": "code",
   "execution_count": null,
   "metadata": {},
   "outputs": [],
   "source": [
    "%timeit -r 2 -n 1 conta_numeri_primi_parallelo(numeri, mp.Process, dormi={0: 1})"
   ]
  },
  {
   "cell_type": "code",
   "execution_count": null,
   "metadata": {},
   "outputs": [],
   "source": [
    "%timeit -r 10 -n 1 conta_numeri_primi_pool_apply(numeri, indices_or_sections=100)"
   ]
  },
  {
   "cell_type": "code",
   "execution_count": null,
   "metadata": {},
   "outputs": [],
   "source": [
    "%timeit -r 2 -n 1 conta_numeri_primi_pool_apply(numeri, dormi={0: 1}, indices_or_sections=16)"
   ]
  },
  {
   "cell_type": "code",
   "execution_count": null,
   "metadata": {},
   "outputs": [],
   "source": [
    "%timeit -r 2 -n 1 conta_numeri_primi_pool_apply_async(numeri, dormi={0: 1}, indices_or_sections=16)"
   ]
  },
  {
   "cell_type": "code",
   "execution_count": null,
   "metadata": {},
   "outputs": [],
   "source": [
    "%timeit -r 2 -n 1 conta_numeri_primi_pool_apply_async(numeri, dormi={0: 1}, indices_or_sections=16)"
   ]
  },
  {
   "cell_type": "code",
   "execution_count": null,
   "metadata": {},
   "outputs": [],
   "source": [
    "%timeit -r 10 -n 1 conta_numeri_primi_pool(numeri)"
   ]
  },
  {
   "cell_type": "code",
   "execution_count": null,
   "metadata": {},
   "outputs": [],
   "source": [
    "pool = mp.Pool(processes=4)\n",
    "\n",
    "risultati = [pool.apply_async(conta_numeri_primi, args=(n, {}, False)) \n",
    "             for n in np.array_split(numeri, 100)] \n",
    "sum([p.get() for p in risultati])"
   ]
  },
  {
   "cell_type": "code",
   "execution_count": null,
   "metadata": {},
   "outputs": [],
   "source": [
    "pool = mp.Pool(processes=4)\n",
    "results = [pool.apply_async(cube, args=(x,)) for x in range(1,7)]\n",
    "output = [p.get() for p in results]\n",
    "print(output)"
   ]
  }
 ],
 "metadata": {
  "kernelspec": {
   "display_name": "Python 3",
   "language": "python",
   "name": "python3"
  },
  "language_info": {
   "codemirror_mode": {
    "name": "ipython",
    "version": 3
   },
   "file_extension": ".py",
   "mimetype": "text/x-python",
   "name": "python",
   "nbconvert_exporter": "python",
   "pygments_lexer": "ipython3",
   "version": "3.6.7"
  }
 },
 "nbformat": 4,
 "nbformat_minor": 2
}
