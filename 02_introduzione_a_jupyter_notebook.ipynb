{
 "cells": [
  {
   "cell_type": "markdown",
   "metadata": {},
   "source": [
    "# Introduzione a Jupyter Notebook"
   ]
  },
  {
   "cell_type": "markdown",
   "metadata": {},
   "source": [
    "## Indice\n",
    "1. [Jupyter Notebook](#jupyter)<br />\n",
    "    1.1 [Lanciare Jupyter Notebook](#lanciare)<br />\n",
    "    1.2 [Modalità](#modalità)<br />\n",
    "    1.3 [Alcuni comandi utili](#comandi)<br />\n",
    "2. [Celle *Markdown*](#markdown)<br />\n",
    "3. [Celle *Code*](#code)<br />"
   ]
  },
  {
   "cell_type": "markdown",
   "metadata": {},
   "source": [
    "# 1. Jupyter Notebook\n",
    "\n",
    "![jupyter_logo](figures/jupyter_logo.jpg)\n",
    "\n",
    "Dal [sito ufficiale](https://jupyter.org/)  di Project Jupyter:\n",
    "> *The Jupyter Notebook is an open-source web application that allows you to create and share documents that contain live code, equations, visualizations and narrative text. Uses include: data cleaning and transformation, numerical simulation, statistical modeling, data visualization, machine learning, and much more.*"
   ]
  },
  {
   "cell_type": "markdown",
   "metadata": {},
   "source": [
    "## 1.1 Lanciare Jupyter Notebook <a id=lanciare> \n",
    "\n",
    "Da terminale, eseguire il comando:\n",
    "```\n",
    "jupyter notebook\n",
    "```\n",
    "\n",
    "Alternativamente, cliccare sull'incona *Jupyter Notebook* installata da Anaconda nel menu start (*Windows only*).\n",
    "\n",
    ">Nota: il comando da terminale funziona solamente se Anaconda è stata aggiunta al PATH. Su Windows questa opzione va selezionata in fase di installazione oppure il PATH va inserito manualmente in seguito."
   ]
  },
  {
   "cell_type": "markdown",
   "metadata": {},
   "source": [
    "## 1.2 Modalità <a id=modalità> \n",
    "\n",
    "Jupyter Notebook ha due differenti modalità di inserimento da tastiera: **Edit mode** (premere <kbd>Enter</kbd> per abilitare) consente di digitare codice o testo in una cella ed è indicato da un bordo di cella verde. **Command mode** (premere <kbd>Esc</kbd> per abilitare) lega la tastiera a comandi a livello del notebook ed è indicata da un bordo di cella grigio con un margine sinistro blu."
   ]
  },
  {
   "cell_type": "markdown",
   "metadata": {},
   "source": [
    "### Esercizio\n",
    "\n",
    "Nella cella seguente, passare dalla modalità **Edit** alla modalità **Command** e viceversa (il margine sinistro deve cambiare come descritto sopra)."
   ]
  },
  {
   "cell_type": "code",
   "execution_count": null,
   "metadata": {},
   "outputs": [],
   "source": []
  },
  {
   "cell_type": "markdown",
   "metadata": {},
   "source": [
    "## 1.3 Alcuni comandi utili <a id=comandi> \n",
    "\n",
    "* Riavviare il kernel e pulire l'output: *Kernel* $\\rightarrow$ *Restart & Clean Output*\n",
    "* Eseguire una cella e selezionare quella sotto: <kbd>Shift</kbd> + <kbd>Enter</kbd> oppure *Cell* $\\rightarrow$ *Run Cells and Select Below*\n",
    "* Inserire una cella sopra: <kbd>A</kbd> (Command mode) oppure *Insert* $\\rightarrow$ *Insert Cell Above*\n",
    "* Inserire una cella sotto: <kbd>B</kbd> (Command mode) oppure *Insert* $\\rightarrow$ *Insert Cell Below*\n",
    "* Cancellare le celle selezionate: <kbd>D</kbd>, <kbd>D</kbd> (Command mode) oppure *Edit* $\\rightarrow$ *Delete Cells*\n",
    "* Tagliare le celle selezionate: <kbd>X</kbd> (Command mode) oppure *Edit* $\\rightarrow$ *Cut Cells*\n",
    "* Copiare le celle selezionate: <kbd>C</kbd> (Command mode) oppure *Edit* $\\rightarrow$ *Copy Cells*\n",
    "* Incollare le celle selezionate: <kbd>V</kbd> (Command mode) oppure *Edit* $\\rightarrow$ *Paste Cells Below*\n",
    "* Cambiare il tipo di cella in *Markdown*: <kbd>M</kbd> (Command mode) oppure *Cell* $\\rightarrow$ *Cell Type* $\\rightarrow$ *Markdown*\n",
    "* Cambiare il tipo di cella in *Code*: <kbd>Y</kbd> (Command mode) oppure *Cell* $\\rightarrow$ *Cell Type* $\\rightarrow$ *Code*\n",
    "* Salvare e creare un *Checkpoint*: <kbd>S</kbd> (Command mode) oppure *File* $\\rightarrow$ *Save and Checkpoint*\n",
    "\n",
    ">Nota: l'elenco completo delle abbreviazioni da tastiera si può trovare in *Help* $\\rightarrow$ *Keyboard Shortcuts*."
   ]
  },
  {
   "cell_type": "markdown",
   "metadata": {},
   "source": [
    "### Esercizio\n",
    "\n",
    "Inserire una cella sopra e sotto questa usando le abbreviazioni da tastiera."
   ]
  },
  {
   "cell_type": "markdown",
   "metadata": {},
   "source": [
    "### Esercizio\n",
    "\n",
    "Cancellare le celle inserite nell'esercizio predecente usando le abbreviazioni da tastiera."
   ]
  },
  {
   "cell_type": "markdown",
   "metadata": {},
   "source": [
    "### Esercizio\n",
    "\n",
    "Cambiare il tipo della cella seguente da *Markdown* a *Code* e viceversa, eseguire la cella ogni volta."
   ]
  },
  {
   "cell_type": "code",
   "execution_count": null,
   "metadata": {},
   "outputs": [],
   "source": [
    "1 + 1"
   ]
  },
  {
   "cell_type": "markdown",
   "metadata": {},
   "source": [
    "# 2. Celle *Markdown* <a id=markdown> \n",
    "\n",
    "Dal [sito ufficiale](https://daringfireball.net/projects/markdown/) di Markdown:\n",
    ">*Markdown is a text-to-HTML conversion tool for web writers. Markdown allows you to write using an easy-to-read, easy-to-write plain text format, then convert it to structurally valid XHTML (or HTML).*\n",
    "\n",
    "Markdown permette di arricchire il Notebook con link, immagini, testi formattati, espressioni in $\\LaTeX$ e molto altro.\n",
    "\n",
    "Un utile riferimento è il [Markdown-Cheatsheet](https://github.com/adam-p/markdown-here/wiki/Markdown-Cheatsheet)."
   ]
  },
  {
   "cell_type": "markdown",
   "metadata": {},
   "source": [
    "### Esercizio\n",
    "\n",
    "Creare un link."
   ]
  },
  {
   "cell_type": "code",
   "execution_count": null,
   "metadata": {},
   "outputs": [],
   "source": []
  },
  {
   "cell_type": "markdown",
   "metadata": {},
   "source": [
    "### Esercizio\n",
    "Aggiungere un'immagine."
   ]
  },
  {
   "cell_type": "code",
   "execution_count": null,
   "metadata": {},
   "outputs": [],
   "source": []
  },
  {
   "cell_type": "markdown",
   "metadata": {},
   "source": [
    "### Esercizio\n",
    "\n",
    "Scrivere un'espressione matematica in $\\LaTeX$.\n",
    "\n",
    ">Suggerimento: prendere spunto dalla seguente [identità di Eulero](https://it.wikipedia.org/wiki/Identit%C3%A0_di_Eulero): $e^{i \\pi} + 1 = 0$"
   ]
  },
  {
   "cell_type": "code",
   "execution_count": null,
   "metadata": {},
   "outputs": [],
   "source": []
  },
  {
   "cell_type": "markdown",
   "metadata": {},
   "source": [
    "# 3. Celle *Code* <a id=code> \n",
    "\n",
    "Una cella di tipo *Code* permette di inserire del codice ed eseguirlo visualizzandone il risultato. Nelle due parentesi quadre a sinistra della cella viene visualizzato se il contenuto della cella è in esecuzione (simbolo $\\ast$), l'ordine in cui la cella è stata eseguita, oppure nulla se la cella non è mai stata eseguita."
   ]
  },
  {
   "cell_type": "markdown",
   "metadata": {},
   "source": [
    "### Esercizio\n",
    "\n",
    "Scrivere ed eseguire il comando `print(\"Hello world\")` nella cella seguente."
   ]
  },
  {
   "cell_type": "code",
   "execution_count": null,
   "metadata": {},
   "outputs": [],
   "source": []
  }
 ],
 "metadata": {
  "kernelspec": {
   "display_name": "Python 3",
   "language": "python",
   "name": "python3"
  },
  "language_info": {
   "codemirror_mode": {
    "name": "ipython",
    "version": 3
   },
   "file_extension": ".py",
   "mimetype": "text/x-python",
   "name": "python",
   "nbconvert_exporter": "python",
   "pygments_lexer": "ipython3",
   "version": "3.6.7"
  }
 },
 "nbformat": 4,
 "nbformat_minor": 2
}
