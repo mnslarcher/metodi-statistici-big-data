{
 "cells": [
  {
   "cell_type": "markdown",
   "metadata": {},
   "source": [
    "### Riferimenti bibliografici:\n",
    "\n",
    "* Hastie, T.; Tibshirani, R. & Friedman, J. (2009), [The Elements of Statistical Learning](https://web.stanford.edu/~hastie/ElemStatLearn/)."
   ]
  },
  {
   "cell_type": "markdown",
   "metadata": {},
   "source": [
    "# Componenti e curve principali"
   ]
  },
  {
   "cell_type": "markdown",
   "metadata": {},
   "source": [
    "## Indice"
   ]
  },
  {
   "cell_type": "markdown",
   "metadata": {},
   "source": [
    "1. [Analisi delle componenti principali (PCA)](#pca)<br />\n",
    "    1.1 [Relazione tra PCA e decomposizione a valori singolari (SVD)](#svd)<br />\n",
    "    1.2 [Studiare l'effetto della centratura di X](#centratura)<br />\n",
    "2. [Spirale logaritmica](#spirale)<br />\n",
    "    2.1 [Generare le osservazioni](#generare)<br />\n",
    "    2.2 [Visualizzare le osservazioni](#visualizzare)<br />\n",
    "3. [Curve principali](#curve_principali)<br />"
   ]
  },
  {
   "cell_type": "code",
   "execution_count": null,
   "metadata": {},
   "outputs": [],
   "source": [
    "import inspect\n",
    "import math\n",
    "import matplotlib.pyplot as plt\n",
    "import numpy as np\n",
    "\n",
    "%load_ext autoreload\n",
    "%autoreload 2"
   ]
  },
  {
   "cell_type": "markdown",
   "metadata": {},
   "source": [
    "# 1. Analisi delle componenti principali (PCA) <a id=pca> </a>"
   ]
  },
  {
   "cell_type": "markdown",
   "metadata": {},
   "source": [
    "## 1.1 Relazione tra PCA e decomposizione a valori singolari (SVD) <a id=svd> </a>"
   ]
  },
  {
   "cell_type": "code",
   "execution_count": null,
   "metadata": {},
   "outputs": [],
   "source": [
    "np.random.seed(42)\n",
    "\n",
    "x1 = np.random.uniform(3, 6, size=100)\n",
    "x2 = 10 - x1 + np.random.normal(scale=0.5, size=100)\n",
    "X = np.c_[x1, x2]"
   ]
  },
  {
   "cell_type": "markdown",
   "metadata": {},
   "source": [
    "$\\mathbf{X}$ è una matrice $N\\times p$.\n",
    "\n",
    "$\\mathbf{X} = \\mathbf{U}\\mathbf{D}\\mathbf{V}^\\top$ è detta *decomposizione a valori singolari* (SVD).\n",
    "\n",
    "$\\mathbf{U}$ è una matrice $N\\times p$ ortogonale le cui colonne vengono chiamate *vettori singolari sinistri*.\n",
    "\n",
    "$\\mathbf{V}$ è una matrice $p\\times p$ ortogonale le cui colonne vengono chiamate *vettori singolari destri*.\n",
    "\n",
    "$\\mathbf{D}$ è una matrice $p\\times p$ diagonale i cui valori vengono chiamati *valori singolari* e corrispondono alla radice quadrata degli autovalori di $\\mathbf{X}^\\top\\mathbf{X}$.\n",
    "\n",
    "$\\mathbf{U}\\mathbf{D}$ vengono dette le *componenti principali* di $\\mathbf{X}$.\n",
    "\n",
    "$\\mathbf{V}_q$ è la matrice composta dalle prime $q$ colonne di $\\mathbf{V}$.\n",
    "\n",
    "$\\mathbf{H}_q = \\mathbf{V}_q\\mathbf{V}_q^\\top$ è una *matrice di proiezione*, mappa ogni riga di $X$ (vista come vettore colonna), $x_i$, nella sua ricostruzione di ordine $q$, $\\mathbf{H}_qx_i$ (quindi $\\mathbf{X}_q = \\mathbf{X}\\mathbf{H}_q$)."
   ]
  },
  {
   "cell_type": "code",
   "execution_count": null,
   "metadata": {},
   "outputs": [],
   "source": [
    "np.random.seed(42)\n",
    "\n",
    "x = np.linspace(3, 6, num=100)\n",
    "X = np.c_[x, 10 - x] + np.random.multivariate_normal(np.zeros(2), 0.1 * np.eye(2), size=len(x))\n",
    "print(\"Dimensioni di X (N X p): {} X {}\".format(*X.shape))"
   ]
  },
  {
   "cell_type": "markdown",
   "metadata": {},
   "source": [
    "### Esercizio\n",
    "\n",
    "1. Ottenere $\\mathbf{U}$, $\\mathbf{D}$, $\\mathbf{V^\\top}$ utilizzando la funzione [`numpy.linalg.svd()`](https://docs.scipy.org/doc/numpy/reference/generated/numpy.linalg.svd.html) ponendo `full_matrices=False` (nota: la funzione restituisce $\\mathbf{U}$, $s$, $\\mathbf{V^\\top}$, dove $s$ sono gli elementi sulla diagonale di $D$);\n",
    "2. Verificare che $\\mathbf{X} = \\mathbf{U}\\mathbf{D}\\mathbf{V}^\\top$ utilizzando la funzione [`numpy.allclose()`](https://docs.scipy.org/doc/numpy/reference/generated/numpy.allclose.html);\n",
    "3. Verificare che `U.dot(D)`è equivalente a `U * s`;\n",
    "4. Dire grazie a che proprietà in NumPy è possibile moltiplicare (prodotto di Hadamard) un array $(N, K)$ con un array $(K,)$."
   ]
  },
  {
   "cell_type": "code",
   "execution_count": null,
   "metadata": {},
   "outputs": [],
   "source": []
  },
  {
   "cell_type": "markdown",
   "metadata": {},
   "source": [
    "## 1.2 Studiare l'effetto della centratura di X <a id=centratura> </a>"
   ]
  },
  {
   "cell_type": "markdown",
   "metadata": {},
   "source": [
    "> Nota: questa parte è ispirata a una [domanda](https://stats.stackexchange.com/questions/22329/how-does-centering-the-data-get-rid-of-the-intercept-in-regression-and-pca/22331#22331) chiesta su [Cross Validated](https://stats.stackexchange.com/) ([StackExchange](https://stackexchange.com/))"
   ]
  },
  {
   "cell_type": "code",
   "execution_count": null,
   "metadata": {},
   "outputs": [],
   "source": [
    "from msbd.grafici import grafico_proiezione_sul_primo_asse_principale\n",
    "\n",
    "print(inspect.getsource(grafico_proiezione_sul_primo_asse_principale))"
   ]
  },
  {
   "cell_type": "code",
   "execution_count": null,
   "metadata": {},
   "outputs": [],
   "source": [
    "plt.figure(figsize=(6, 6))\n",
    "\n",
    "grafico_proiezione_sul_primo_asse_principale(X)\n",
    "\n",
    "plt.show()"
   ]
  },
  {
   "cell_type": "markdown",
   "metadata": {},
   "source": [
    "### Esercizio\n",
    "\n",
    "Riottenere il grafico sui dati centrati."
   ]
  },
  {
   "cell_type": "code",
   "execution_count": null,
   "metadata": {},
   "outputs": [],
   "source": []
  },
  {
   "cell_type": "markdown",
   "metadata": {},
   "source": [
    "# 2. Spirale logaritmica <a id=spirale> </a>"
   ]
  },
  {
   "cell_type": "markdown",
   "metadata": {},
   "source": [
    "### Rappresentazione parametrica della spirale logaritmica\n",
    "\n",
    "$\n",
    "\\begin{align}\n",
    "x(\\lambda)&=a{\\text{e}}^{b\\lambda}\\cos(\\lambda)\\\\\n",
    "y(\\lambda)&=a{\\text{e}}^{b\\lambda}\\sin(\\lambda)\n",
    "\\end{align}\n",
    "$"
   ]
  },
  {
   "cell_type": "code",
   "execution_count": null,
   "metadata": {},
   "outputs": [],
   "source": [
    "from msbd.datasets import SpiraleLogaritmica\n",
    "\n",
    "print(inspect.getsource(SpiraleLogaritmica))"
   ]
  },
  {
   "cell_type": "markdown",
   "metadata": {},
   "source": [
    "## 2.1 Generare le osservazioni <a id=generare> </a>"
   ]
  },
  {
   "cell_type": "code",
   "execution_count": null,
   "metadata": {},
   "outputs": [],
   "source": [
    "sl = SpiraleLogaritmica(0.5, 0.5)\n",
    "\n",
    "l = np.random.uniform(-math.pi / 4, math.pi, 100)\n",
    "l.sort()\n",
    "X = sl.f(l)\n",
    "X_oss = X + np.random.multivariate_normal(np.zeros(2), 0.01 * np.eye(2), size=len(X))\n",
    "X -= X_oss.mean(axis=0)\n",
    "X_oss -= X_oss.mean(axis=0)"
   ]
  },
  {
   "cell_type": "markdown",
   "metadata": {},
   "source": [
    "## 2.2 Visualizzare le osservazioni <a id=visualizzare> </a>"
   ]
  },
  {
   "cell_type": "code",
   "execution_count": null,
   "metadata": {},
   "outputs": [],
   "source": [
    "plt.figure(figsize=(8, 5))\n",
    "\n",
    "plt.plot(X[:, 0], X[:, 1], lw=2, label=\"Spirale logaritmica\")\n",
    "plt.scatter(X_oss[:, 0], X_oss[:, 1], facecolor=\"none\", edgecolor=\"tab:blue\", label=\"Osservazioni\")\n",
    "plt.xlim([-2.5, 1.5])\n",
    "plt.ylim([-1.5, 1])\n",
    "plt.axis(\"off\")\n",
    "plt.tight_layout()\n",
    "plt.legend()\n",
    "\n",
    "plt.show()"
   ]
  },
  {
   "cell_type": "markdown",
   "metadata": {},
   "source": [
    "# 3. Curve principali <a id=curve_principali> </a>"
   ]
  },
  {
   "cell_type": "markdown",
   "metadata": {},
   "source": [
    "Passaggi per ottenere la curva principale $f(\\lambda)$ (da [The Elements of \n",
    "Statistical Learning](https://web.stanford.edu/~hastie/ElemStatLearn/) paragrafo 14.5.2):\n",
    "\n",
    "$f(\\lambda) = [f_1(\\lambda),\\, f_2(\\lambda),\\, \\cdots,\\, f_p(\\lambda)]$.\n",
    "\n",
    "$X^\\top = [X_1,\\, X_2,\\, \\cdots,\\, X_p]$ vettore casuale.\n",
    "\n",
    "$\\hat{\\lambda}_f(x)$ definisce il punto sulla curva più vicino a $x$.\n",
    "\n",
    "$\\hat{f}(\\lambda)\\leftarrow E(X\\mid\\lambda_f(X) = \\lambda)$ è chiamata *curva principale* per la distribuzione del vettore casuale $X$.\n",
    "\n",
    "Passaggi da alternare fino a convergenza:\n",
    "\n",
    "1. $\\hat{f}_j(\\lambda)\\leftarrow E(X_j\\mid\\lambda(X) = \\lambda);\\; j=1, 2, \\cdots,p,$\n",
    "2. $\\hat{\\lambda}_f(x)\\leftarrow \\mathrm{argmin}_{\\lambda^\\prime}\\Vert x - \\hat{f}(\\lambda^\\prime)\\Vert$."
   ]
  },
  {
   "cell_type": "code",
   "execution_count": null,
   "metadata": {
    "scrolled": false
   },
   "outputs": [],
   "source": [
    "from msbd.varieta import CurvaPrincipale\n",
    "\n",
    "print(inspect.getsource(CurvaPrincipale))"
   ]
  },
  {
   "cell_type": "code",
   "execution_count": null,
   "metadata": {},
   "outputs": [],
   "source": [
    "from msbd.grafici import grafico_curva_principale\n",
    "\n",
    "print(inspect.getsource(grafico_curva_principale))"
   ]
  },
  {
   "cell_type": "code",
   "execution_count": null,
   "metadata": {
    "scrolled": false
   },
   "outputs": [],
   "source": [
    "cp = CurvaPrincipale()\n",
    "it = 0\n",
    "\n",
    "while True:\n",
    "    it += 1\n",
    "\n",
    "    cp.partial_fit(X_oss)\n",
    "    \n",
    "    plt.figure(figsize=(8, 5))\n",
    "    \n",
    "    plt.title(\"Curva principale dopo {} iterazioni\".format(it))\n",
    "    plt.plot(X[:, 0], X[:, 1], lw=2, label=\"Spirale logaritmica\")\n",
    "    grafico_curva_principale(X_oss, cp)\n",
    "    plt.xlim([-2.5, 1.5])\n",
    "    plt.ylim([-1.5, 1])\n",
    "    plt.axis(\"off\")\n",
    "    plt.tight_layout()\n",
    "    plt.legend()\n",
    "\n",
    "    plt.show()\n",
    "    \n",
    "    i = input(\"Premere invio per continuare, q (quit) per uscire:\")\n",
    "\n",
    "    if i == \"q\":\n",
    "        break"
   ]
  },
  {
   "cell_type": "markdown",
   "metadata": {},
   "source": [
    "### Esercizio\n",
    "\n",
    "1. Definire una nuova classe con la stessa struttura di `SpiraleLogaritmica`;\n",
    "2. Ripetere tutti i passaggi visti nel notebook."
   ]
  },
  {
   "cell_type": "code",
   "execution_count": null,
   "metadata": {},
   "outputs": [],
   "source": []
  }
 ],
 "metadata": {
  "kernelspec": {
   "display_name": "Python 3",
   "language": "python",
   "name": "python3"
  },
  "language_info": {
   "codemirror_mode": {
    "name": "ipython",
    "version": 3
   },
   "file_extension": ".py",
   "mimetype": "text/x-python",
   "name": "python",
   "nbconvert_exporter": "python",
   "pygments_lexer": "ipython3",
   "version": "3.6.7"
  }
 },
 "nbformat": 4,
 "nbformat_minor": 2
}
