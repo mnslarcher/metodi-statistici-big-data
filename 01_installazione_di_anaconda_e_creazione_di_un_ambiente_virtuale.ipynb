{
 "cells": [
  {
   "cell_type": "markdown",
   "metadata": {},
   "source": [
    "# Installazione di Anaconda e creazione di un ambiente virtuale"
   ]
  },
  {
   "cell_type": "markdown",
   "metadata": {},
   "source": [
    "## Indice\n",
    "1. [Installazione di Anaconda](#installazione_anaconda)<br />\n",
    "    1.1 [Eliminazione della versione di Anaconda già installata (*opzionale*)](#disinstallazione)<br />\n",
    "    1.2 [Download dell'Installer di Anaconda](#download)<br />\n",
    "    1.3 [Installazione](#installazione)<br />\n",
    "2. [Creazione di un ambiente virtuale](#creazione_ambiente)<br />\n",
    "    2.1 [Aggiornamento di Anaconda](#aggiornamento_anaconda)<br />\n",
    "    2.2 [Creazione dell'ambiente `msbd`](#creazione_msbd)<br />\n",
    "    2.3 [Attivazione dell'ambiente `msbd`](#attivazione_msbd)<br />\n",
    "    2.4 [ Installare alcuni pacchetti utili non pre-installati usando `conda install`](#installazione_conda)<br />\n",
    "    2.5 [Installare alcuni pacchetti utili non inclusi in Anaconda Distribution usando `pip install`](#installazione_pip)<br />\n",
    "    2.6 [Abilitare/installare la scheda *Ipython Clusters*](#abilitazione_clusters)<br />"
   ]
  },
  {
   "cell_type": "markdown",
   "metadata": {},
   "source": [
    "# 1. Installazione di Anaconda <a id=installazione_anaconda> </a>\n",
    "\n",
    "![anaconda_logo](figures/anaconda_logo.png) \n",
    "\n",
    "Dal [sito ufficiale](https://www.anaconda.com/what-is-anaconda/)  di Anaconda:\n",
    "> *With over 6 million users, the open source Anaconda Distribution is the fastest and easiest way to do Python and R data science and machine learning on Linux, Windows, and Mac OS X. It's the industry standard for developing, testing, and training on a single machine.*"
   ]
  },
  {
   "cell_type": "markdown",
   "metadata": {},
   "source": [
    "## 1.1 Eliminazione della versione di Anaconda già installata (*opzionale*) <a id=disinstallazione> </a>\n",
    "\n",
    "Seguire le istruzioni presenti alla pagina: \n",
    "https://docs.anaconda.com/anaconda/install/uninstall/."
   ]
  },
  {
   "cell_type": "markdown",
   "metadata": {},
   "source": [
    "### 1.2 Download dell'Installer di Anaconda <a id=download> </a>\n",
    "\n",
    "Visitare la pagina https://www.anaconda.com/download/.\n",
    "\n",
    "Selezionare la versione *Python 3.7 version*:\n",
    "\n",
    "![anaconda_download](figures/anaconda_download.png)"
   ]
  },
  {
   "cell_type": "markdown",
   "metadata": {},
   "source": [
    "## 1.3 Installazione <a id=installazione> </a>\n",
    "\n",
    "*Windows only*: spuntare *Add Anaconda to my PATH environment variable*:\n",
    "\n",
    "![anaconda_download](figures/install_win_path.png)\n",
    "\n",
    "Non modificare le altre impostazioni di default.\n",
    "\n",
    "> Nota: Per ulteriori informazioni visitare la pagina: https://docs.anaconda.com/anaconda/install/."
   ]
  },
  {
   "cell_type": "markdown",
   "metadata": {},
   "source": [
    "# 2. Creazione di un ambiente virtuale <a id=creazione_ambiente> </a>\n",
    "\n",
    "I seguenti comandi vanno eseguiti da un terminale. \n",
    "\n",
    ">Nota: aprire un nuovo terminale, non utilizzarne uno aperto prima del completamento dell'installazione di Anaconda."
   ]
  },
  {
   "cell_type": "markdown",
   "metadata": {},
   "source": [
    "## 2.1 Aggiornamento di Anaconda <a id=aggiornamento_anaconda> </a>\n",
    "\n",
    "```\n",
    "conda update conda\n",
    "```"
   ]
  },
  {
   "cell_type": "markdown",
   "metadata": {},
   "source": [
    "## 2.2 Creazione dell'ambiente `msbd` <a id=creazione_msbd> </a>\n",
    "\n",
    "```\n",
    "conda create -n msbd python=3.6 anaconda\n",
    "```"
   ]
  },
  {
   "cell_type": "markdown",
   "metadata": {},
   "source": [
    "## 2.3 Attivazione dell'ambiente `msbd` <a id=attivazione_msbd> </a>\n",
    "\n",
    "```\n",
    "conda activate msbd\n",
    "```\n",
    "> Nota: per disattivare l'ambiente eseguire `conda deactivate`. I comandi che seguono devono essere eseguiti con l'ambiente attivo."
   ]
  },
  {
   "cell_type": "markdown",
   "metadata": {},
   "source": [
    "## 2.4 Installare alcuni pacchetti utili non pre-installati usando `conda install` <a id=installazione_conda> </a>\n",
    "\n",
    "```\n",
    "conda install ipyparallel\n",
    "conda install python-graphviz\n",
    "conda install tensorflow\n",
    "conda install keras\n",
    "```"
   ]
  },
  {
   "cell_type": "markdown",
   "metadata": {},
   "source": [
    "## 2.5 Installare alcuni pacchetti utili non inclusi in Anaconda Distribution usando `pip install` <a id=installazione_pip> </a>\n",
    "\n",
    "Dal [sito ufficiale](https://pypi.org/project/pip/)  di PyPI:\n",
    "> *The [PyPA](https://www.pypa.io/en/latest/) recommended tool for installing Python packages.*\n",
    "\n",
    "```\n",
    "pip install wordcloud\n",
    "pip install python-louvain\n",
    "pip install mlxtend\n",
    "```"
   ]
  },
  {
   "cell_type": "markdown",
   "metadata": {},
   "source": [
    "## 2.6 Abilitare/installare la scheda *Ipython Clusters* <a id=abilitazione_clusters> </a>\n",
    "\n",
    "```\n",
    "ipcluster nbextension enable\n",
    "```"
   ]
  }
 ],
 "metadata": {
  "kernelspec": {
   "display_name": "Python 3",
   "language": "python",
   "name": "python3"
  },
  "language_info": {
   "codemirror_mode": {
    "name": "ipython",
    "version": 3
   },
   "file_extension": ".py",
   "mimetype": "text/x-python",
   "name": "python",
   "nbconvert_exporter": "python",
   "pygments_lexer": "ipython3",
   "version": "3.6.7"
  }
 },
 "nbformat": 4,
 "nbformat_minor": 2
}
